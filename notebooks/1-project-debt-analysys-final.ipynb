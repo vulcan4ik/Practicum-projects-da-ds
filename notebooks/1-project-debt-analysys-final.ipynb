{
 "cells": [
  {
   "cell_type": "markdown",
   "id": "a04a420f",
   "metadata": {},
   "source": [
    "<font color='DarkBlue' size=+2><b>Комментарий ревьюера</b></font><br>\n",
    "<font color='DarkBlue'>Привет, Алексей! <br>Меня зовут Олег Мазуренко, и я буду проверять этот проект. Спасибо за проделанную работу! <br>Ко мне можно обращаться на «ты». Как мне обращаться, напиши.</font><br>\n",
    "<font color='DarkBlue'>Я буду использовать различные цвета, чтобы было удобнее воспринимать мои комментарии:</font><br>\n",
    "<font color='DarkBlue'>Синий текст &mdash; просто текст комментария.</font><br>\n",
    "<font color='DarkGreen'>👌 Зеленый текст &mdash; все отлично.</font><br>\n",
    "<font color='DarkMagenta'>👉 Фиолетовый текст &mdash; сделано все правильно, однако есть рекомендации, на что стоит обратить внимание. Реализованные рекомендации позволят нам наработать опыт решения задачи разными способами или посмотреть на задачу под иным углом.</font><br>\n",
    "<font color='Red'>🛠 Красный текст &mdash; есть недочеты, они иногда бывают. </font><br><font color='DarkBlue'>Любая ошибка это возможность посмотреть на задачу с другой стороны и освоить новые знания, по этому не надо расстраиваться, если они есть.</font><br>\n",
    "<font color='DarkBlue'>Обращаю внимание, что комментарии ревьюера после проверки удалять нельзя они помогают отследить логику исправления или изменения проекта. Это дополнительный навык при обучении. Свой исправляемый код лучше тоже не удалять, а ремить #, это позволит акцентировать изменения в ходе подготовки окончательного варианта проекта.<br>\n",
    "Ответы на мои комментарии лучше тоже помечать. \n",
    "Например: </font><font color='Blue'><b>Комментарий студента</b></font><br>\n",
    "<font color='DarkBlue'><b>Теперь посмотрим, что у нас получилось!</b></font>"
   ]
  },
  {
   "cell_type": "markdown",
   "id": "1f1415e8",
   "metadata": {},
   "source": [
    "<font color='Blue' size=+1><b>Комментарий студента</b></font><br>\n",
    "<font color='Blue'>Добрый день, Олег, приятно познакомиться! Мне также было бы удобно перейти на \"ты\".<br> Спасибо за твои комментарии и предложенное решение с помощью сводной таблицы и функции, оно выглядит универсальным.<br> Замечания по выводам буду редактировать  с пометкой **исправлено**<br> Если можно, оставлю также синим текстом с пометкой **?Вопрос:** некоторые места которые хотелось бы прояснить на будущее. Буду рад любым реомендациям!</font>"
   ]
  },
  {
   "cell_type": "markdown",
   "id": "994caa80",
   "metadata": {},
   "source": [
    "<font color='DarkBlue'><b>Комментарий ревьюера 2</b></font><br>\n",
    "<font color='DarkGreen'>👌 Привет! Хорошо, пошел смотреть обновленный проект.</font>"
   ]
  },
  {
   "cell_type": "markdown",
   "id": "386f2ae7",
   "metadata": {
    "deletable": false,
    "editable": false,
    "id": "386f2ae7"
   },
   "source": [
    "# Исследование надежности заемщиков\n"
   ]
  },
  {
   "cell_type": "markdown",
   "id": "9ff2aa74",
   "metadata": {},
   "source": [
    "<font color='DarkBlue'><b>Комментарий ревьюера</b></font><br>\n",
    "<font color='DarkMagenta'>👉 Хочу обратить внимание, что во всех следующих проектах необходимо будет делать описание проекта. Где отразить какая цель исследования, какой контекст (особенности отрасли и данных), что планируем делать (план исследования). <br>В реальном проекте не будет инструкции и задач, которые необходимо выполнить, по этому будем учиться делать описание проекта самостоятельно.</font>"
   ]
  },
  {
   "cell_type": "markdown",
   "id": "ffe86f65",
   "metadata": {
    "deletable": false,
    "editable": false,
    "id": "ffe86f65"
   },
   "source": [
    "Во второй части проекта вы выполните шаги 3 и 4. Их вручную проверит ревьюер.\n",
    "Чтобы вам не пришлось писать код заново для шагов 1 и 2, мы добавили авторские решения в ячейки с кодом. \n",
    "\n"
   ]
  },
  {
   "cell_type": "markdown",
   "id": "26613308",
   "metadata": {
    "deletable": false,
    "editable": false,
    "id": "26613308"
   },
   "source": [
    "## Откройте таблицу и изучите общую информацию о данных"
   ]
  },
  {
   "cell_type": "markdown",
   "id": "3c9f838e",
   "metadata": {
    "deletable": false,
    "editable": false,
    "id": "3c9f838e"
   },
   "source": [
    "**Задание 1. Импортируйте библиотеку pandas. Считайте данные из csv-файла в датафрейм и сохраните в переменную `data`. Путь к файлу:**\n",
    "\n",
    "`/datasets/data.csv`"
   ]
  },
  {
   "cell_type": "code",
   "execution_count": 1,
   "id": "77a68a90",
   "metadata": {
    "deletable": false,
    "id": "77a68a90"
   },
   "outputs": [],
   "source": [
    "import pandas as pd\n",
    "\n",
    "try:\n",
    "    data = pd.read_csv('/datasets/data.csv')\n",
    "except:\n",
    "    data = pd.read_csv('https://code.s3.yandex.net/datasets/data.csv')"
   ]
  },
  {
   "cell_type": "markdown",
   "id": "45365635",
   "metadata": {
    "deletable": false,
    "editable": false,
    "id": "45365635"
   },
   "source": [
    "**Задание 2. Выведите первые 20 строчек датафрейма `data` на экран.**"
   ]
  },
  {
   "cell_type": "code",
   "execution_count": 2,
   "id": "b0451a9a",
   "metadata": {
    "deletable": false,
    "id": "b0451a9a",
    "outputId": "1a8f3ef2-d323-4ec2-ddf7-89670b5944c4"
   },
   "outputs": [
    {
     "data": {
      "text/html": [
       "<div>\n",
       "<style scoped>\n",
       "    .dataframe tbody tr th:only-of-type {\n",
       "        vertical-align: middle;\n",
       "    }\n",
       "\n",
       "    .dataframe tbody tr th {\n",
       "        vertical-align: top;\n",
       "    }\n",
       "\n",
       "    .dataframe thead th {\n",
       "        text-align: right;\n",
       "    }\n",
       "</style>\n",
       "<table border=\"1\" class=\"dataframe\">\n",
       "  <thead>\n",
       "    <tr style=\"text-align: right;\">\n",
       "      <th></th>\n",
       "      <th>children</th>\n",
       "      <th>days_employed</th>\n",
       "      <th>dob_years</th>\n",
       "      <th>education</th>\n",
       "      <th>education_id</th>\n",
       "      <th>family_status</th>\n",
       "      <th>family_status_id</th>\n",
       "      <th>gender</th>\n",
       "      <th>income_type</th>\n",
       "      <th>debt</th>\n",
       "      <th>total_income</th>\n",
       "      <th>purpose</th>\n",
       "    </tr>\n",
       "  </thead>\n",
       "  <tbody>\n",
       "    <tr>\n",
       "      <th>0</th>\n",
       "      <td>1</td>\n",
       "      <td>-8437.673028</td>\n",
       "      <td>42</td>\n",
       "      <td>высшее</td>\n",
       "      <td>0</td>\n",
       "      <td>женат / замужем</td>\n",
       "      <td>0</td>\n",
       "      <td>F</td>\n",
       "      <td>сотрудник</td>\n",
       "      <td>0</td>\n",
       "      <td>253875.639453</td>\n",
       "      <td>покупка жилья</td>\n",
       "    </tr>\n",
       "    <tr>\n",
       "      <th>1</th>\n",
       "      <td>1</td>\n",
       "      <td>-4024.803754</td>\n",
       "      <td>36</td>\n",
       "      <td>среднее</td>\n",
       "      <td>1</td>\n",
       "      <td>женат / замужем</td>\n",
       "      <td>0</td>\n",
       "      <td>F</td>\n",
       "      <td>сотрудник</td>\n",
       "      <td>0</td>\n",
       "      <td>112080.014102</td>\n",
       "      <td>приобретение автомобиля</td>\n",
       "    </tr>\n",
       "    <tr>\n",
       "      <th>2</th>\n",
       "      <td>0</td>\n",
       "      <td>-5623.422610</td>\n",
       "      <td>33</td>\n",
       "      <td>Среднее</td>\n",
       "      <td>1</td>\n",
       "      <td>женат / замужем</td>\n",
       "      <td>0</td>\n",
       "      <td>M</td>\n",
       "      <td>сотрудник</td>\n",
       "      <td>0</td>\n",
       "      <td>145885.952297</td>\n",
       "      <td>покупка жилья</td>\n",
       "    </tr>\n",
       "    <tr>\n",
       "      <th>3</th>\n",
       "      <td>3</td>\n",
       "      <td>-4124.747207</td>\n",
       "      <td>32</td>\n",
       "      <td>среднее</td>\n",
       "      <td>1</td>\n",
       "      <td>женат / замужем</td>\n",
       "      <td>0</td>\n",
       "      <td>M</td>\n",
       "      <td>сотрудник</td>\n",
       "      <td>0</td>\n",
       "      <td>267628.550329</td>\n",
       "      <td>дополнительное образование</td>\n",
       "    </tr>\n",
       "    <tr>\n",
       "      <th>4</th>\n",
       "      <td>0</td>\n",
       "      <td>340266.072047</td>\n",
       "      <td>53</td>\n",
       "      <td>среднее</td>\n",
       "      <td>1</td>\n",
       "      <td>гражданский брак</td>\n",
       "      <td>1</td>\n",
       "      <td>F</td>\n",
       "      <td>пенсионер</td>\n",
       "      <td>0</td>\n",
       "      <td>158616.077870</td>\n",
       "      <td>сыграть свадьбу</td>\n",
       "    </tr>\n",
       "    <tr>\n",
       "      <th>5</th>\n",
       "      <td>0</td>\n",
       "      <td>-926.185831</td>\n",
       "      <td>27</td>\n",
       "      <td>высшее</td>\n",
       "      <td>0</td>\n",
       "      <td>гражданский брак</td>\n",
       "      <td>1</td>\n",
       "      <td>M</td>\n",
       "      <td>компаньон</td>\n",
       "      <td>0</td>\n",
       "      <td>255763.565419</td>\n",
       "      <td>покупка жилья</td>\n",
       "    </tr>\n",
       "    <tr>\n",
       "      <th>6</th>\n",
       "      <td>0</td>\n",
       "      <td>-2879.202052</td>\n",
       "      <td>43</td>\n",
       "      <td>высшее</td>\n",
       "      <td>0</td>\n",
       "      <td>женат / замужем</td>\n",
       "      <td>0</td>\n",
       "      <td>F</td>\n",
       "      <td>компаньон</td>\n",
       "      <td>0</td>\n",
       "      <td>240525.971920</td>\n",
       "      <td>операции с жильем</td>\n",
       "    </tr>\n",
       "    <tr>\n",
       "      <th>7</th>\n",
       "      <td>0</td>\n",
       "      <td>-152.779569</td>\n",
       "      <td>50</td>\n",
       "      <td>СРЕДНЕЕ</td>\n",
       "      <td>1</td>\n",
       "      <td>женат / замужем</td>\n",
       "      <td>0</td>\n",
       "      <td>M</td>\n",
       "      <td>сотрудник</td>\n",
       "      <td>0</td>\n",
       "      <td>135823.934197</td>\n",
       "      <td>образование</td>\n",
       "    </tr>\n",
       "    <tr>\n",
       "      <th>8</th>\n",
       "      <td>2</td>\n",
       "      <td>-6929.865299</td>\n",
       "      <td>35</td>\n",
       "      <td>ВЫСШЕЕ</td>\n",
       "      <td>0</td>\n",
       "      <td>гражданский брак</td>\n",
       "      <td>1</td>\n",
       "      <td>F</td>\n",
       "      <td>сотрудник</td>\n",
       "      <td>0</td>\n",
       "      <td>95856.832424</td>\n",
       "      <td>на проведение свадьбы</td>\n",
       "    </tr>\n",
       "    <tr>\n",
       "      <th>9</th>\n",
       "      <td>0</td>\n",
       "      <td>-2188.756445</td>\n",
       "      <td>41</td>\n",
       "      <td>среднее</td>\n",
       "      <td>1</td>\n",
       "      <td>женат / замужем</td>\n",
       "      <td>0</td>\n",
       "      <td>M</td>\n",
       "      <td>сотрудник</td>\n",
       "      <td>0</td>\n",
       "      <td>144425.938277</td>\n",
       "      <td>покупка жилья для семьи</td>\n",
       "    </tr>\n",
       "    <tr>\n",
       "      <th>10</th>\n",
       "      <td>2</td>\n",
       "      <td>-4171.483647</td>\n",
       "      <td>36</td>\n",
       "      <td>высшее</td>\n",
       "      <td>0</td>\n",
       "      <td>женат / замужем</td>\n",
       "      <td>0</td>\n",
       "      <td>M</td>\n",
       "      <td>компаньон</td>\n",
       "      <td>0</td>\n",
       "      <td>113943.491460</td>\n",
       "      <td>покупка недвижимости</td>\n",
       "    </tr>\n",
       "    <tr>\n",
       "      <th>11</th>\n",
       "      <td>0</td>\n",
       "      <td>-792.701887</td>\n",
       "      <td>40</td>\n",
       "      <td>среднее</td>\n",
       "      <td>1</td>\n",
       "      <td>женат / замужем</td>\n",
       "      <td>0</td>\n",
       "      <td>F</td>\n",
       "      <td>сотрудник</td>\n",
       "      <td>0</td>\n",
       "      <td>77069.234271</td>\n",
       "      <td>покупка коммерческой недвижимости</td>\n",
       "    </tr>\n",
       "    <tr>\n",
       "      <th>12</th>\n",
       "      <td>0</td>\n",
       "      <td>NaN</td>\n",
       "      <td>65</td>\n",
       "      <td>среднее</td>\n",
       "      <td>1</td>\n",
       "      <td>гражданский брак</td>\n",
       "      <td>1</td>\n",
       "      <td>M</td>\n",
       "      <td>пенсионер</td>\n",
       "      <td>0</td>\n",
       "      <td>NaN</td>\n",
       "      <td>сыграть свадьбу</td>\n",
       "    </tr>\n",
       "    <tr>\n",
       "      <th>13</th>\n",
       "      <td>0</td>\n",
       "      <td>-1846.641941</td>\n",
       "      <td>54</td>\n",
       "      <td>неоконченное высшее</td>\n",
       "      <td>2</td>\n",
       "      <td>женат / замужем</td>\n",
       "      <td>0</td>\n",
       "      <td>F</td>\n",
       "      <td>сотрудник</td>\n",
       "      <td>0</td>\n",
       "      <td>130458.228857</td>\n",
       "      <td>приобретение автомобиля</td>\n",
       "    </tr>\n",
       "    <tr>\n",
       "      <th>14</th>\n",
       "      <td>0</td>\n",
       "      <td>-1844.956182</td>\n",
       "      <td>56</td>\n",
       "      <td>высшее</td>\n",
       "      <td>0</td>\n",
       "      <td>гражданский брак</td>\n",
       "      <td>1</td>\n",
       "      <td>F</td>\n",
       "      <td>компаньон</td>\n",
       "      <td>1</td>\n",
       "      <td>165127.911772</td>\n",
       "      <td>покупка жилой недвижимости</td>\n",
       "    </tr>\n",
       "    <tr>\n",
       "      <th>15</th>\n",
       "      <td>1</td>\n",
       "      <td>-972.364419</td>\n",
       "      <td>26</td>\n",
       "      <td>среднее</td>\n",
       "      <td>1</td>\n",
       "      <td>женат / замужем</td>\n",
       "      <td>0</td>\n",
       "      <td>F</td>\n",
       "      <td>сотрудник</td>\n",
       "      <td>0</td>\n",
       "      <td>116820.904450</td>\n",
       "      <td>строительство собственной недвижимости</td>\n",
       "    </tr>\n",
       "    <tr>\n",
       "      <th>16</th>\n",
       "      <td>0</td>\n",
       "      <td>-1719.934226</td>\n",
       "      <td>35</td>\n",
       "      <td>среднее</td>\n",
       "      <td>1</td>\n",
       "      <td>женат / замужем</td>\n",
       "      <td>0</td>\n",
       "      <td>F</td>\n",
       "      <td>сотрудник</td>\n",
       "      <td>0</td>\n",
       "      <td>289202.704229</td>\n",
       "      <td>недвижимость</td>\n",
       "    </tr>\n",
       "    <tr>\n",
       "      <th>17</th>\n",
       "      <td>0</td>\n",
       "      <td>-2369.999720</td>\n",
       "      <td>33</td>\n",
       "      <td>высшее</td>\n",
       "      <td>0</td>\n",
       "      <td>гражданский брак</td>\n",
       "      <td>1</td>\n",
       "      <td>M</td>\n",
       "      <td>сотрудник</td>\n",
       "      <td>0</td>\n",
       "      <td>90410.586745</td>\n",
       "      <td>строительство недвижимости</td>\n",
       "    </tr>\n",
       "    <tr>\n",
       "      <th>18</th>\n",
       "      <td>0</td>\n",
       "      <td>400281.136913</td>\n",
       "      <td>53</td>\n",
       "      <td>среднее</td>\n",
       "      <td>1</td>\n",
       "      <td>вдовец / вдова</td>\n",
       "      <td>2</td>\n",
       "      <td>F</td>\n",
       "      <td>пенсионер</td>\n",
       "      <td>0</td>\n",
       "      <td>56823.777243</td>\n",
       "      <td>на покупку подержанного автомобиля</td>\n",
       "    </tr>\n",
       "    <tr>\n",
       "      <th>19</th>\n",
       "      <td>0</td>\n",
       "      <td>-10038.818549</td>\n",
       "      <td>48</td>\n",
       "      <td>СРЕДНЕЕ</td>\n",
       "      <td>1</td>\n",
       "      <td>в разводе</td>\n",
       "      <td>3</td>\n",
       "      <td>F</td>\n",
       "      <td>сотрудник</td>\n",
       "      <td>0</td>\n",
       "      <td>242831.107982</td>\n",
       "      <td>на покупку своего автомобиля</td>\n",
       "    </tr>\n",
       "  </tbody>\n",
       "</table>\n",
       "</div>"
      ],
      "text/plain": [
       "    children  days_employed  dob_years            education  education_id  \\\n",
       "0          1   -8437.673028         42               высшее             0   \n",
       "1          1   -4024.803754         36              среднее             1   \n",
       "2          0   -5623.422610         33              Среднее             1   \n",
       "3          3   -4124.747207         32              среднее             1   \n",
       "4          0  340266.072047         53              среднее             1   \n",
       "5          0    -926.185831         27               высшее             0   \n",
       "6          0   -2879.202052         43               высшее             0   \n",
       "7          0    -152.779569         50              СРЕДНЕЕ             1   \n",
       "8          2   -6929.865299         35               ВЫСШЕЕ             0   \n",
       "9          0   -2188.756445         41              среднее             1   \n",
       "10         2   -4171.483647         36               высшее             0   \n",
       "11         0    -792.701887         40              среднее             1   \n",
       "12         0            NaN         65              среднее             1   \n",
       "13         0   -1846.641941         54  неоконченное высшее             2   \n",
       "14         0   -1844.956182         56               высшее             0   \n",
       "15         1    -972.364419         26              среднее             1   \n",
       "16         0   -1719.934226         35              среднее             1   \n",
       "17         0   -2369.999720         33               высшее             0   \n",
       "18         0  400281.136913         53              среднее             1   \n",
       "19         0  -10038.818549         48              СРЕДНЕЕ             1   \n",
       "\n",
       "       family_status  family_status_id gender income_type  debt  \\\n",
       "0    женат / замужем                 0      F   сотрудник     0   \n",
       "1    женат / замужем                 0      F   сотрудник     0   \n",
       "2    женат / замужем                 0      M   сотрудник     0   \n",
       "3    женат / замужем                 0      M   сотрудник     0   \n",
       "4   гражданский брак                 1      F   пенсионер     0   \n",
       "5   гражданский брак                 1      M   компаньон     0   \n",
       "6    женат / замужем                 0      F   компаньон     0   \n",
       "7    женат / замужем                 0      M   сотрудник     0   \n",
       "8   гражданский брак                 1      F   сотрудник     0   \n",
       "9    женат / замужем                 0      M   сотрудник     0   \n",
       "10   женат / замужем                 0      M   компаньон     0   \n",
       "11   женат / замужем                 0      F   сотрудник     0   \n",
       "12  гражданский брак                 1      M   пенсионер     0   \n",
       "13   женат / замужем                 0      F   сотрудник     0   \n",
       "14  гражданский брак                 1      F   компаньон     1   \n",
       "15   женат / замужем                 0      F   сотрудник     0   \n",
       "16   женат / замужем                 0      F   сотрудник     0   \n",
       "17  гражданский брак                 1      M   сотрудник     0   \n",
       "18    вдовец / вдова                 2      F   пенсионер     0   \n",
       "19         в разводе                 3      F   сотрудник     0   \n",
       "\n",
       "     total_income                                 purpose  \n",
       "0   253875.639453                           покупка жилья  \n",
       "1   112080.014102                 приобретение автомобиля  \n",
       "2   145885.952297                           покупка жилья  \n",
       "3   267628.550329              дополнительное образование  \n",
       "4   158616.077870                         сыграть свадьбу  \n",
       "5   255763.565419                           покупка жилья  \n",
       "6   240525.971920                       операции с жильем  \n",
       "7   135823.934197                             образование  \n",
       "8    95856.832424                   на проведение свадьбы  \n",
       "9   144425.938277                 покупка жилья для семьи  \n",
       "10  113943.491460                    покупка недвижимости  \n",
       "11   77069.234271       покупка коммерческой недвижимости  \n",
       "12            NaN                         сыграть свадьбу  \n",
       "13  130458.228857                 приобретение автомобиля  \n",
       "14  165127.911772              покупка жилой недвижимости  \n",
       "15  116820.904450  строительство собственной недвижимости  \n",
       "16  289202.704229                            недвижимость  \n",
       "17   90410.586745              строительство недвижимости  \n",
       "18   56823.777243      на покупку подержанного автомобиля  \n",
       "19  242831.107982            на покупку своего автомобиля  "
      ]
     },
     "execution_count": 2,
     "metadata": {},
     "output_type": "execute_result"
    }
   ],
   "source": [
    "data.head(20)"
   ]
  },
  {
   "cell_type": "markdown",
   "id": "0ed8f27f",
   "metadata": {
    "deletable": false,
    "editable": false,
    "id": "0ed8f27f"
   },
   "source": [
    "**Задание 3. Выведите основную информацию о датафрейме с помощью метода `info()`.**"
   ]
  },
  {
   "cell_type": "code",
   "execution_count": 3,
   "id": "ab3f863b",
   "metadata": {
    "deletable": false,
    "id": "ab3f863b",
    "outputId": "15376089-8dad-46c9-b520-c05248d43158"
   },
   "outputs": [
    {
     "name": "stdout",
     "output_type": "stream",
     "text": [
      "<class 'pandas.core.frame.DataFrame'>\n",
      "RangeIndex: 21525 entries, 0 to 21524\n",
      "Data columns (total 12 columns):\n",
      " #   Column            Non-Null Count  Dtype  \n",
      "---  ------            --------------  -----  \n",
      " 0   children          21525 non-null  int64  \n",
      " 1   days_employed     19351 non-null  float64\n",
      " 2   dob_years         21525 non-null  int64  \n",
      " 3   education         21525 non-null  object \n",
      " 4   education_id      21525 non-null  int64  \n",
      " 5   family_status     21525 non-null  object \n",
      " 6   family_status_id  21525 non-null  int64  \n",
      " 7   gender            21525 non-null  object \n",
      " 8   income_type       21525 non-null  object \n",
      " 9   debt              21525 non-null  int64  \n",
      " 10  total_income      19351 non-null  float64\n",
      " 11  purpose           21525 non-null  object \n",
      "dtypes: float64(2), int64(5), object(5)\n",
      "memory usage: 2.0+ MB\n"
     ]
    }
   ],
   "source": [
    "data.info()"
   ]
  },
  {
   "cell_type": "markdown",
   "id": "60e3e22d",
   "metadata": {
    "deletable": false,
    "editable": false,
    "id": "60e3e22d"
   },
   "source": [
    "## Предобработка данных"
   ]
  },
  {
   "cell_type": "markdown",
   "id": "03dc170c",
   "metadata": {
    "deletable": false,
    "editable": false,
    "id": "03dc170c"
   },
   "source": [
    "### Удаление пропусков"
   ]
  },
  {
   "cell_type": "markdown",
   "id": "a4f54eef",
   "metadata": {
    "deletable": false,
    "editable": false,
    "id": "a4f54eef"
   },
   "source": [
    "**Задание 4. Выведите количество пропущенных значений для каждого столбца. Используйте комбинацию двух методов.**"
   ]
  },
  {
   "cell_type": "code",
   "execution_count": 4,
   "id": "2dc372b2",
   "metadata": {
    "deletable": false,
    "id": "2dc372b2",
    "outputId": "81f4d817-781c-465c-ed15-91ce4446810d"
   },
   "outputs": [
    {
     "data": {
      "text/plain": [
       "children               0\n",
       "days_employed       2174\n",
       "dob_years              0\n",
       "education              0\n",
       "education_id           0\n",
       "family_status          0\n",
       "family_status_id       0\n",
       "gender                 0\n",
       "income_type            0\n",
       "debt                   0\n",
       "total_income        2174\n",
       "purpose                0\n",
       "dtype: int64"
      ]
     },
     "execution_count": 4,
     "metadata": {},
     "output_type": "execute_result"
    }
   ],
   "source": [
    "data.isna().sum()"
   ]
  },
  {
   "cell_type": "markdown",
   "id": "14f011b1",
   "metadata": {
    "deletable": false,
    "editable": false,
    "id": "14f011b1"
   },
   "source": [
    "**Задание 5. В двух столбцах есть пропущенные значения. Один из них — `days_employed`. Пропуски в этом столбце вы обработаете на следующем этапе. Другой столбец с пропущенными значениями — `total_income` — хранит данные о доходах. На сумму дохода сильнее всего влияет тип занятости, поэтому заполнить пропуски в этом столбце нужно медианным значением по каждому типу из столбца `income_type`. Например, у человека с типом занятости `сотрудник` пропуск в столбце `total_income` должен быть заполнен медианным доходом среди всех записей с тем же типом.**"
   ]
  },
  {
   "cell_type": "code",
   "execution_count": 5,
   "id": "bdabfb6e",
   "metadata": {
    "deletable": false,
    "id": "bdabfb6e"
   },
   "outputs": [],
   "source": [
    "for t in data['income_type'].unique():\n",
    "    data.loc[(data['income_type'] == t) & (data['total_income'].isna()), 'total_income'] = \\\n",
    "    data.loc[(data['income_type'] == t), 'total_income'].median()"
   ]
  },
  {
   "cell_type": "markdown",
   "id": "5be34059",
   "metadata": {
    "deletable": false,
    "editable": false,
    "id": "5be34059"
   },
   "source": [
    "### Обработка аномальных значений"
   ]
  },
  {
   "cell_type": "markdown",
   "id": "a87606cb",
   "metadata": {
    "deletable": false,
    "editable": false,
    "id": "a87606cb"
   },
   "source": [
    "**Задание 6. В данных могут встречаться артефакты (аномалии) — значения, которые не отражают действительность и появились по какой-то ошибке. таким артефактом будет отрицательное количество дней трудового стажа в столбце `days_employed`. Для реальных данных это нормально. Обработайте значения в этом столбце: замените все отрицательные значения положительными с помощью метода `abs()`.**"
   ]
  },
  {
   "cell_type": "code",
   "execution_count": 6,
   "id": "020c46cc",
   "metadata": {
    "deletable": false,
    "id": "020c46cc"
   },
   "outputs": [],
   "source": [
    "data['days_employed'] = data['days_employed'].abs()"
   ]
  },
  {
   "cell_type": "markdown",
   "id": "45538a3a",
   "metadata": {
    "deletable": false,
    "editable": false,
    "id": "45538a3a"
   },
   "source": [
    "**Задание 7. Для каждого типа занятости выведите медианное значение трудового стажа `days_employed` в днях.**"
   ]
  },
  {
   "cell_type": "code",
   "execution_count": 7,
   "id": "cd3e6328",
   "metadata": {
    "deletable": false,
    "id": "cd3e6328",
    "outputId": "801ef80e-522b-4668-f34e-565af7432bcf"
   },
   "outputs": [
    {
     "data": {
      "text/plain": [
       "income_type\n",
       "безработный        366413.652744\n",
       "в декрете            3296.759962\n",
       "госслужащий          2689.368353\n",
       "компаньон            1547.382223\n",
       "пенсионер          365213.306266\n",
       "предприниматель       520.848083\n",
       "сотрудник            1574.202821\n",
       "студент               578.751554\n",
       "Name: days_employed, dtype: float64"
      ]
     },
     "execution_count": 7,
     "metadata": {},
     "output_type": "execute_result"
    }
   ],
   "source": [
    "data.groupby('income_type')['days_employed'].agg('median')"
   ]
  },
  {
   "cell_type": "markdown",
   "id": "90c5f058",
   "metadata": {
    "deletable": false,
    "editable": false,
    "id": "90c5f058"
   },
   "source": [
    "У двух типов (безработные и пенсионеры) получатся аномально большие значения. Исправить такие значения сложно, поэтому оставьте их как есть."
   ]
  },
  {
   "cell_type": "markdown",
   "id": "9652e50d",
   "metadata": {
    "deletable": false,
    "editable": false,
    "id": "9652e50d"
   },
   "source": [
    "**Задание 8. Выведите перечень уникальных значений столбца `children`.**"
   ]
  },
  {
   "cell_type": "code",
   "execution_count": 8,
   "id": "dbb37b8e",
   "metadata": {
    "deletable": false,
    "id": "dbb37b8e",
    "outputId": "6975b15c-7f95-4697-d16d-a0c79b657b03"
   },
   "outputs": [
    {
     "data": {
      "text/plain": [
       "array([ 1,  0,  3,  2, -1,  4, 20,  5])"
      ]
     },
     "execution_count": 8,
     "metadata": {},
     "output_type": "execute_result"
    }
   ],
   "source": [
    "data['children'].unique()"
   ]
  },
  {
   "cell_type": "markdown",
   "id": "2b8b0715",
   "metadata": {
    "deletable": false,
    "editable": false,
    "id": "2b8b0715"
   },
   "source": [
    "**Задание 9. В столбце `children` есть два аномальных значения. Удалите строки, в которых встречаются такие аномальные значения из датафрейма `data`.**"
   ]
  },
  {
   "cell_type": "code",
   "execution_count": 9,
   "id": "20009df8",
   "metadata": {
    "deletable": false,
    "id": "20009df8"
   },
   "outputs": [],
   "source": [
    "data = data[(data['children'] != -1) & (data['children'] != 20)]"
   ]
  },
  {
   "cell_type": "markdown",
   "id": "8c6ac9f1",
   "metadata": {
    "deletable": false,
    "editable": false,
    "id": "8c6ac9f1"
   },
   "source": [
    "**Задание 10. Ещё раз выведите перечень уникальных значений столбца `children`, чтобы убедиться, что артефакты удалены.**"
   ]
  },
  {
   "cell_type": "code",
   "execution_count": 10,
   "id": "07337b81",
   "metadata": {
    "deletable": false,
    "id": "07337b81",
    "outputId": "b2097101-d49d-44d9-901b-32a65c9463d1"
   },
   "outputs": [
    {
     "data": {
      "text/plain": [
       "array([1, 0, 3, 2, 4, 5])"
      ]
     },
     "execution_count": 10,
     "metadata": {},
     "output_type": "execute_result"
    }
   ],
   "source": [
    "data['children'].unique()"
   ]
  },
  {
   "cell_type": "markdown",
   "id": "ee3f52d4",
   "metadata": {
    "deletable": false,
    "editable": false,
    "id": "ee3f52d4"
   },
   "source": [
    "### Удаление пропусков (продолжение)"
   ]
  },
  {
   "cell_type": "markdown",
   "id": "a700b0e4",
   "metadata": {
    "deletable": false,
    "editable": false,
    "id": "a700b0e4"
   },
   "source": [
    "**Задание 11. Заполните пропуски в столбце `days_employed` медианными значениями по каждого типа занятости `income_type`.**"
   ]
  },
  {
   "cell_type": "code",
   "execution_count": 11,
   "id": "61946b83",
   "metadata": {
    "deletable": false,
    "id": "61946b83"
   },
   "outputs": [],
   "source": [
    "for t in data['income_type'].unique():\n",
    "    data.loc[(data['income_type'] == t) & (data['days_employed'].isna()), 'days_employed'] = \\\n",
    "    data.loc[(data['income_type'] == t), 'days_employed'].median()"
   ]
  },
  {
   "cell_type": "markdown",
   "id": "550dcd9b",
   "metadata": {
    "deletable": false,
    "editable": false,
    "id": "550dcd9b"
   },
   "source": [
    "**Задание 12. Убедитесь, что все пропуски заполнены. Проверьте себя и ещё раз выведите количество пропущенных значений для каждого столбца с помощью двух методов.**"
   ]
  },
  {
   "cell_type": "code",
   "execution_count": 12,
   "id": "937c7014",
   "metadata": {
    "deletable": false,
    "id": "937c7014",
    "outputId": "8da1e4e1-358e-4e87-98c9-f261bce0a7b2"
   },
   "outputs": [
    {
     "data": {
      "text/plain": [
       "children            0\n",
       "days_employed       0\n",
       "dob_years           0\n",
       "education           0\n",
       "education_id        0\n",
       "family_status       0\n",
       "family_status_id    0\n",
       "gender              0\n",
       "income_type         0\n",
       "debt                0\n",
       "total_income        0\n",
       "purpose             0\n",
       "dtype: int64"
      ]
     },
     "execution_count": 12,
     "metadata": {},
     "output_type": "execute_result"
    }
   ],
   "source": [
    "data.isna().sum()"
   ]
  },
  {
   "cell_type": "markdown",
   "id": "d522e295",
   "metadata": {
    "deletable": false,
    "editable": false,
    "id": "d522e295"
   },
   "source": [
    "### Изменение типов данных"
   ]
  },
  {
   "cell_type": "markdown",
   "id": "c229c581",
   "metadata": {
    "deletable": false,
    "editable": false,
    "id": "c229c581"
   },
   "source": [
    "**Задание 13. Замените вещественный тип данных в столбце `total_income` на целочисленный с помощью метода `astype()`.**"
   ]
  },
  {
   "cell_type": "code",
   "execution_count": 13,
   "id": "31036462",
   "metadata": {
    "deletable": false,
    "id": "31036462"
   },
   "outputs": [],
   "source": [
    "data['total_income'] = data['total_income'].astype(int)"
   ]
  },
  {
   "cell_type": "markdown",
   "id": "b8e3d1d9",
   "metadata": {
    "deletable": false,
    "editable": false,
    "id": "b8e3d1d9"
   },
   "source": [
    "### Обработка дубликатов"
   ]
  },
  {
   "cell_type": "markdown",
   "id": "9be53c49",
   "metadata": {
    "deletable": false,
    "editable": false,
    "id": "9be53c49"
   },
   "source": [
    "**Задание 14. Обработайте неявные дубликаты в столбце `education`. В этом столбце есть одни и те же значения, но записанные по-разному: с использованием заглавных и строчных букв. Приведите их к нижнему регистру.**"
   ]
  },
  {
   "cell_type": "code",
   "execution_count": 14,
   "id": "d89e73e1",
   "metadata": {
    "deletable": false,
    "id": "d89e73e1"
   },
   "outputs": [],
   "source": [
    "data['education'] = data['education'].str.lower()"
   ]
  },
  {
   "cell_type": "markdown",
   "id": "01d4500e",
   "metadata": {
    "deletable": false,
    "editable": false,
    "id": "01d4500e"
   },
   "source": [
    "**Задание 15. Выведите на экран количество строк-дубликатов в данных. Если такие строки присутствуют, удалите их.**"
   ]
  },
  {
   "cell_type": "code",
   "execution_count": 15,
   "id": "e10efb23",
   "metadata": {
    "deletable": false,
    "id": "e10efb23",
    "outputId": "9684deba-1934-42d1-99e1-cda61740f822"
   },
   "outputs": [
    {
     "data": {
      "text/plain": [
       "71"
      ]
     },
     "execution_count": 15,
     "metadata": {},
     "output_type": "execute_result"
    }
   ],
   "source": [
    "data.duplicated().sum()"
   ]
  },
  {
   "cell_type": "code",
   "execution_count": 16,
   "id": "df853f20",
   "metadata": {
    "deletable": false,
    "id": "df853f20"
   },
   "outputs": [],
   "source": [
    "data = data.drop_duplicates()"
   ]
  },
  {
   "cell_type": "markdown",
   "id": "627be38f",
   "metadata": {
    "deletable": false,
    "editable": false,
    "id": "627be38f"
   },
   "source": [
    "### Категоризация данных"
   ]
  },
  {
   "cell_type": "markdown",
   "id": "4684c3e0",
   "metadata": {
    "deletable": false,
    "editable": false,
    "id": "4684c3e0"
   },
   "source": [
    "**Задание 16. На основании диапазонов, указанных ниже, создайте в датафрейме `data` столбец `total_income_category` с категориями:**\n",
    "\n",
    "- 0–30000 — `'E'`;\n",
    "- 30001–50000 — `'D'`;\n",
    "- 50001–200000 — `'C'`;\n",
    "- 200001–1000000 — `'B'`;\n",
    "- 1000001 и выше — `'A'`.\n",
    "\n",
    "\n",
    "**Например, кредитополучателю с доходом 25000 нужно назначить категорию `'E'`, а клиенту, получающему 235000, — `'B'`. Используйте собственную функцию с именем `categorize_income()` и метод `apply()`.**"
   ]
  },
  {
   "cell_type": "code",
   "execution_count": 17,
   "id": "78965238",
   "metadata": {
    "deletable": false,
    "id": "78965238"
   },
   "outputs": [],
   "source": [
    "def categorize_income(income):\n",
    "    try:\n",
    "        if 0 <= income <= 30000:\n",
    "            return 'E'\n",
    "        elif 30001 <= income <= 50000:\n",
    "            return 'D'\n",
    "        elif 50001 <= income <= 200000:\n",
    "            return 'C'\n",
    "        elif 200001 <= income <= 1000000:\n",
    "            return 'B'\n",
    "        elif income >= 1000001:\n",
    "            return 'A'\n",
    "    except:\n",
    "        pass"
   ]
  },
  {
   "cell_type": "code",
   "execution_count": 18,
   "id": "0980ada1",
   "metadata": {
    "deletable": false,
    "id": "0980ada1"
   },
   "outputs": [],
   "source": [
    "data['total_income_category'] = data['total_income'].apply(categorize_income)"
   ]
  },
  {
   "cell_type": "markdown",
   "id": "9917bba0",
   "metadata": {
    "deletable": false,
    "editable": false,
    "id": "9917bba0"
   },
   "source": [
    "**Задание 17. Выведите на экран перечень уникальных целей взятия кредита из столбца `purpose`.**"
   ]
  },
  {
   "cell_type": "code",
   "execution_count": 19,
   "id": "ee07b65e",
   "metadata": {
    "deletable": false,
    "id": "ee07b65e",
    "outputId": "673c12d9-7d7e-4ae0-9812-c622c89dd244"
   },
   "outputs": [
    {
     "data": {
      "text/plain": [
       "array(['покупка жилья', 'приобретение автомобиля',\n",
       "       'дополнительное образование', 'сыграть свадьбу',\n",
       "       'операции с жильем', 'образование', 'на проведение свадьбы',\n",
       "       'покупка жилья для семьи', 'покупка недвижимости',\n",
       "       'покупка коммерческой недвижимости', 'покупка жилой недвижимости',\n",
       "       'строительство собственной недвижимости', 'недвижимость',\n",
       "       'строительство недвижимости', 'на покупку подержанного автомобиля',\n",
       "       'на покупку своего автомобиля',\n",
       "       'операции с коммерческой недвижимостью',\n",
       "       'строительство жилой недвижимости', 'жилье',\n",
       "       'операции со своей недвижимостью', 'автомобили',\n",
       "       'заняться образованием', 'сделка с подержанным автомобилем',\n",
       "       'получение образования', 'автомобиль', 'свадьба',\n",
       "       'получение дополнительного образования', 'покупка своего жилья',\n",
       "       'операции с недвижимостью', 'получение высшего образования',\n",
       "       'свой автомобиль', 'сделка с автомобилем',\n",
       "       'профильное образование', 'высшее образование',\n",
       "       'покупка жилья для сдачи', 'на покупку автомобиля', 'ремонт жилью',\n",
       "       'заняться высшим образованием'], dtype=object)"
      ]
     },
     "execution_count": 19,
     "metadata": {},
     "output_type": "execute_result"
    }
   ],
   "source": [
    "data['purpose'].unique()"
   ]
  },
  {
   "cell_type": "markdown",
   "id": "52b79d56",
   "metadata": {
    "deletable": false,
    "editable": false,
    "id": "52b79d56"
   },
   "source": [
    "**Задание 18. Создайте функцию, которая на основании данных из столбца `purpose` сформирует новый столбец `purpose_category`, в который войдут следующие категории:**\n",
    "\n",
    "- `'операции с автомобилем'`,\n",
    "- `'операции с недвижимостью'`,\n",
    "- `'проведение свадьбы'`,\n",
    "- `'получение образования'`.\n",
    "\n",
    "**Например, если в столбце `purpose` находится подстрока `'на покупку автомобиля'`, то в столбце `purpose_category` должна появиться строка `'операции с автомобилем'`.**\n",
    "\n",
    "**Используйте собственную функцию с именем `categorize_purpose()` и метод `apply()`. Изучите данные в столбце `purpose` и определите, какие подстроки помогут вам правильно определить категорию.**"
   ]
  },
  {
   "cell_type": "code",
   "execution_count": 20,
   "id": "be41da5d",
   "metadata": {
    "deletable": false,
    "id": "be41da5d"
   },
   "outputs": [],
   "source": [
    "def categorize_purpose(row):\n",
    "    try:\n",
    "        if 'автом' in row:\n",
    "            return 'операции с автомобилем'\n",
    "        elif 'жил' in row or 'недвиж' in row:\n",
    "            return 'операции с недвижимостью'\n",
    "        elif 'свад' in row:\n",
    "            return 'проведение свадьбы'\n",
    "        elif 'образов' in row:\n",
    "            return 'получение образования'\n",
    "    except:\n",
    "        return 'нет категории'"
   ]
  },
  {
   "cell_type": "code",
   "execution_count": 21,
   "id": "94c4a19a",
   "metadata": {
    "deletable": false,
    "id": "94c4a19a"
   },
   "outputs": [],
   "source": [
    "data['purpose_category'] = data['purpose'].apply(categorize_purpose)"
   ]
  },
  {
   "cell_type": "markdown",
   "id": "3d596c34",
   "metadata": {
    "deletable": false,
    "editable": false,
    "id": "3d596c34"
   },
   "source": [
    "### Шаг 3. Исследуйте данные и ответьте на вопросы"
   ]
  },
  {
   "cell_type": "markdown",
   "id": "648db036",
   "metadata": {
    "deletable": false,
    "editable": false,
    "id": "648db036"
   },
   "source": [
    "#### 3.1 Есть ли зависимость между количеством детей и возвратом кредита в срок?"
   ]
  },
  {
   "cell_type": "markdown",
   "id": "8b49841c",
   "metadata": {},
   "source": []
  },
  {
   "cell_type": "markdown",
   "id": "5a01f979",
   "metadata": {},
   "source": [
    "Из задания 10 мы знаем что у заёмщиков в таблице от 0 до 5 детей, значение **1** в столбце *debt* - факт задолженности по кредиту. Сгруппируем данные по количеству детей у заемщиков и вычислим процент заемщиков имеющих **1** в графе *debt* от их общего числа *(debt_part)*"
   ]
  },
  {
   "cell_type": "code",
   "execution_count": 22,
   "id": "7fcff25e",
   "metadata": {
    "deletable": false,
    "id": "7fcff25e"
   },
   "outputs": [
    {
     "data": {
      "text/html": [
       "<div>\n",
       "<style scoped>\n",
       "    .dataframe tbody tr th:only-of-type {\n",
       "        vertical-align: middle;\n",
       "    }\n",
       "\n",
       "    .dataframe tbody tr th {\n",
       "        vertical-align: top;\n",
       "    }\n",
       "\n",
       "    .dataframe thead th {\n",
       "        text-align: right;\n",
       "    }\n",
       "</style>\n",
       "<table border=\"1\" class=\"dataframe\">\n",
       "  <thead>\n",
       "    <tr style=\"text-align: right;\">\n",
       "      <th></th>\n",
       "      <th>count</th>\n",
       "      <th>sum</th>\n",
       "      <th>debt_part</th>\n",
       "    </tr>\n",
       "    <tr>\n",
       "      <th>children</th>\n",
       "      <th></th>\n",
       "      <th></th>\n",
       "      <th></th>\n",
       "    </tr>\n",
       "  </thead>\n",
       "  <tbody>\n",
       "    <tr>\n",
       "      <th>0</th>\n",
       "      <td>14091</td>\n",
       "      <td>1063</td>\n",
       "      <td>7.54</td>\n",
       "    </tr>\n",
       "    <tr>\n",
       "      <th>1</th>\n",
       "      <td>4808</td>\n",
       "      <td>444</td>\n",
       "      <td>9.23</td>\n",
       "    </tr>\n",
       "    <tr>\n",
       "      <th>2</th>\n",
       "      <td>2052</td>\n",
       "      <td>194</td>\n",
       "      <td>9.45</td>\n",
       "    </tr>\n",
       "    <tr>\n",
       "      <th>3</th>\n",
       "      <td>330</td>\n",
       "      <td>27</td>\n",
       "      <td>8.18</td>\n",
       "    </tr>\n",
       "    <tr>\n",
       "      <th>4</th>\n",
       "      <td>41</td>\n",
       "      <td>4</td>\n",
       "      <td>9.76</td>\n",
       "    </tr>\n",
       "    <tr>\n",
       "      <th>5</th>\n",
       "      <td>9</td>\n",
       "      <td>0</td>\n",
       "      <td>0.00</td>\n",
       "    </tr>\n",
       "  </tbody>\n",
       "</table>\n",
       "</div>"
      ],
      "text/plain": [
       "          count   sum  debt_part\n",
       "children                        \n",
       "0         14091  1063       7.54\n",
       "1          4808   444       9.23\n",
       "2          2052   194       9.45\n",
       "3           330    27       8.18\n",
       "4            41     4       9.76\n",
       "5             9     0       0.00"
      ]
     },
     "execution_count": 22,
     "metadata": {},
     "output_type": "execute_result"
    }
   ],
   "source": [
    "# Сгруппируем данные по количеству детей (здесь хочу спросить мнение, какой из методов вам кажется \\\n",
    "# более правильным и подходящим решению задачи)\n",
    "\n",
    "data_grouped_by_children= data.groupby('children')['debt'].agg(['count', 'sum'])\n",
    "data_grouped_by_children['debt_part'] = (data_grouped_by_children['sum']/ data_grouped_by_children['count']* 100).round(2)\n",
    "data_grouped_by_children\n"
   ]
  },
  {
   "cell_type": "code",
   "execution_count": 23,
   "id": "57290a5c",
   "metadata": {},
   "outputs": [
    {
     "name": "stdout",
     "output_type": "stream",
     "text": [
      "Процент должников по каждой группе:\n"
     ]
    },
    {
     "data": {
      "text/plain": [
       "children\n",
       "0    7.54\n",
       "1    9.23\n",
       "2    9.45\n",
       "3    8.18\n",
       "4    9.76\n",
       "5    0.00\n",
       "Name: debt, dtype: float64"
      ]
     },
     "execution_count": 23,
     "metadata": {},
     "output_type": "execute_result"
    }
   ],
   "source": [
    "# с помощью mean() узнаем среднее значение заемщиков по каждой группе 'children' , имеющих '1' в графе 'debt', \n",
    "# то есть задолженность\n",
    "# *вопрос: нужно ли на этом этапе проверять, имеются ли в столбце 'debt' значения отличные от 0 и 1 , которые \n",
    "# внесут неточность в расчет\n",
    "grouped_by_debt = (data.groupby('children')['debt'].mean() * 100).round(2)\n",
    "\n",
    "print(\"Процент должников по каждой группе:\")\n",
    "grouped_by_debt\n"
   ]
  },
  {
   "cell_type": "markdown",
   "id": "398fbcb6",
   "metadata": {},
   "source": [
    "<font color='DarkBlue'><b>Комментарий ревьюера</b></font><br>\n",
    "<font color='DarkMagenta'>👉 Можно сделать вот так, через функцию.</font>"
   ]
  },
  {
   "cell_type": "code",
   "execution_count": 24,
   "id": "7b9341a3",
   "metadata": {
    "scrolled": true
   },
   "outputs": [
    {
     "data": {
      "text/html": [
       "<style  type=\"text/css\" >\n",
       "#T_6945f_row0_col0,#T_6945f_row0_col1,#T_6945f_row4_col2{\n",
       "            background-color:  #08306b;\n",
       "            color:  #f1f1f1;\n",
       "        }#T_6945f_row0_col2{\n",
       "            background-color:  #1c6bb0;\n",
       "            color:  #f1f1f1;\n",
       "        }#T_6945f_row1_col0{\n",
       "            background-color:  #a9cfe5;\n",
       "            color:  #000000;\n",
       "        }#T_6945f_row1_col1{\n",
       "            background-color:  #8dc1dd;\n",
       "            color:  #000000;\n",
       "        }#T_6945f_row1_col2{\n",
       "            background-color:  #083d7f;\n",
       "            color:  #f1f1f1;\n",
       "        }#T_6945f_row2_col0{\n",
       "            background-color:  #dae8f6;\n",
       "            color:  #000000;\n",
       "        }#T_6945f_row2_col1{\n",
       "            background-color:  #d3e4f3;\n",
       "            color:  #000000;\n",
       "        }#T_6945f_row2_col2{\n",
       "            background-color:  #083776;\n",
       "            color:  #f1f1f1;\n",
       "        }#T_6945f_row3_col0{\n",
       "            background-color:  #f3f8fe;\n",
       "            color:  #000000;\n",
       "        }#T_6945f_row3_col1{\n",
       "            background-color:  #f2f8fd;\n",
       "            color:  #000000;\n",
       "        }#T_6945f_row3_col2{\n",
       "            background-color:  #0f5aa3;\n",
       "            color:  #f1f1f1;\n",
       "        }#T_6945f_row4_col0,#T_6945f_row4_col1,#T_6945f_row5_col0,#T_6945f_row5_col1,#T_6945f_row5_col2{\n",
       "            background-color:  #f7fbff;\n",
       "            color:  #000000;\n",
       "        }</style><table id=\"T_6945f_\" ><thead>    <tr>        <th class=\"blank level0\" ></th>        <th class=\"col_heading level0 col0\" >Всего кредитополучателей</th>        <th class=\"col_heading level0 col1\" >Всего должников</th>        <th class=\"col_heading level0 col2\" >Доля должников</th>    </tr>    <tr>        <th class=\"index_name level0\" >children</th>        <th class=\"blank\" ></th>        <th class=\"blank\" ></th>        <th class=\"blank\" ></th>    </tr></thead><tbody>\n",
       "                <tr>\n",
       "                        <th id=\"T_6945f_level0_row0\" class=\"row_heading level0 row0\" >0</th>\n",
       "                        <td id=\"T_6945f_row0_col0\" class=\"data row0 col0\" >14091.000</td>\n",
       "                        <td id=\"T_6945f_row0_col1\" class=\"data row0 col1\" >1063.000</td>\n",
       "                        <td id=\"T_6945f_row0_col2\" class=\"data row0 col2\" >0.075</td>\n",
       "            </tr>\n",
       "            <tr>\n",
       "                        <th id=\"T_6945f_level0_row1\" class=\"row_heading level0 row1\" >1</th>\n",
       "                        <td id=\"T_6945f_row1_col0\" class=\"data row1 col0\" >4808.000</td>\n",
       "                        <td id=\"T_6945f_row1_col1\" class=\"data row1 col1\" >444.000</td>\n",
       "                        <td id=\"T_6945f_row1_col2\" class=\"data row1 col2\" >0.092</td>\n",
       "            </tr>\n",
       "            <tr>\n",
       "                        <th id=\"T_6945f_level0_row2\" class=\"row_heading level0 row2\" >2</th>\n",
       "                        <td id=\"T_6945f_row2_col0\" class=\"data row2 col0\" >2052.000</td>\n",
       "                        <td id=\"T_6945f_row2_col1\" class=\"data row2 col1\" >194.000</td>\n",
       "                        <td id=\"T_6945f_row2_col2\" class=\"data row2 col2\" >0.095</td>\n",
       "            </tr>\n",
       "            <tr>\n",
       "                        <th id=\"T_6945f_level0_row3\" class=\"row_heading level0 row3\" >3</th>\n",
       "                        <td id=\"T_6945f_row3_col0\" class=\"data row3 col0\" >330.000</td>\n",
       "                        <td id=\"T_6945f_row3_col1\" class=\"data row3 col1\" >27.000</td>\n",
       "                        <td id=\"T_6945f_row3_col2\" class=\"data row3 col2\" >0.082</td>\n",
       "            </tr>\n",
       "            <tr>\n",
       "                        <th id=\"T_6945f_level0_row4\" class=\"row_heading level0 row4\" >4</th>\n",
       "                        <td id=\"T_6945f_row4_col0\" class=\"data row4 col0\" >41.000</td>\n",
       "                        <td id=\"T_6945f_row4_col1\" class=\"data row4 col1\" >4.000</td>\n",
       "                        <td id=\"T_6945f_row4_col2\" class=\"data row4 col2\" >0.098</td>\n",
       "            </tr>\n",
       "            <tr>\n",
       "                        <th id=\"T_6945f_level0_row5\" class=\"row_heading level0 row5\" >5</th>\n",
       "                        <td id=\"T_6945f_row5_col0\" class=\"data row5 col0\" >9.000</td>\n",
       "                        <td id=\"T_6945f_row5_col1\" class=\"data row5 col1\" >0.000</td>\n",
       "                        <td id=\"T_6945f_row5_col2\" class=\"data row5 col2\" >0.000</td>\n",
       "            </tr>\n",
       "    </tbody></table>"
      ],
      "text/plain": [
       "<pandas.io.formats.style.Styler at 0x7f416a118070>"
      ]
     },
     "metadata": {},
     "output_type": "display_data"
    }
   ],
   "source": [
    "# Комментарий ревьюера\n",
    "# Создаем копию датасета, что бы не работать с исходным\n",
    "temp = data.copy()\n",
    "# Напишем функцию, так как все задачи аналогичны\n",
    "def que(category):\n",
    "    data_temp = temp.pivot_table(index=category, values='debt', aggfunc=['count', 'sum', 'mean'])\n",
    "    data_temp.columns = ['Всего кредитополучателей', 'Всего должников', 'Доля должников']\n",
    "    # Оформим таблицу цветным градиентом, но можно ее вывести и просто display(data_temp)\n",
    "    display(data_temp.style.format(\"{:.3f}\").background_gradient(cmap='Blues', axis=0))\n",
    "        \n",
    "que('children')\n"
   ]
  },
  {
   "cell_type": "markdown",
   "id": "2eb9088e",
   "metadata": {
    "deletable": false,
    "id": "2eb9088e"
   },
   "source": [
    "<a id='children'></a>**Вывод:** из полученных данных следует, что доля заемщиков без детей, имеющих просрочку по кредиту ниже доли \n",
    " заемщиков, имеющих 1, 2, 3 и 4 ребенка. При этом в данной выборке отсутствуют клиенты с 5 детьми, имеющие задолженность по кредиту, однако нельзя сделать однозначного вывода о наличии взаимосвязи, так как в таблице их доля от общего числа клиентов крайне мала, всего 9 записей из 21331 "
   ]
  },
  {
   "cell_type": "markdown",
   "id": "411cc4ff",
   "metadata": {},
   "source": [
    "<font color='DarkBlue'><b>Комментарий ревьюера</b></font><br>\n",
    "<font color='DarkGreen'>👌 Правильный вывод, действительно семьи без детей не несут дополнительных расходов и своевременно обслуживают свой кредит. У клиентов с детьми более высокая расходная часть семейного бюджета, поэтому и возникают сложности со своевременной выплатой по кредитным обязательствам.<br>Хорошо, что было обращено внимание на несбалансированность выборок, при малой выборке нельзя делать обоснованные выводы.</font>"
   ]
  },
  {
   "cell_type": "markdown",
   "id": "74c9b3a7",
   "metadata": {
    "deletable": false,
    "editable": false,
    "id": "74c9b3a7"
   },
   "source": [
    "#### 3.2 Есть ли зависимость между семейным положением и возвратом кредита в срок?"
   ]
  },
  {
   "cell_type": "code",
   "execution_count": 25,
   "id": "8098ab3b",
   "metadata": {
    "deletable": false,
    "id": "8098ab3b"
   },
   "outputs": [
    {
     "data": {
      "text/plain": [
       "family_status\n",
       "Не женат / не замужем    9.76\n",
       "в разводе                7.06\n",
       "вдовец / вдова           6.62\n",
       "гражданский брак         9.31\n",
       "женат / замужем          7.56\n",
       "Name: debt, dtype: float64"
      ]
     },
     "execution_count": 25,
     "metadata": {},
     "output_type": "execute_result"
    }
   ],
   "source": [
    "# с помощью mean() узнаем среднее значение заемщиков по каждой группе 'family_status' , имеющих '1' в графе 'debt', \n",
    "# то есть задолженность и посчитаем процент от общего числа заемщиков по группе \"семейное положение\"\n",
    "grouped_by_status = (data.groupby('family_status')['debt'].mean() * 100).round(2)\n",
    "grouped_by_status\n"
   ]
  },
  {
   "cell_type": "markdown",
   "id": "c389ca63",
   "metadata": {
    "deletable": false,
    "id": "c389ca63"
   },
   "source": [
    "**Вывод:**<a id='family'></a>  Из полученных данных, можно сделать вывод что заемщики с семейным положением *\"Не женат / не замужем\"* и находящиеся в гражданском браке имеют наибольший процент невозврата кредита в срок, а заемщики из категорий *\"вдовец\"* и *\"в разводе\"* наименьший."
   ]
  },
  {
   "cell_type": "markdown",
   "id": "87d9dfec",
   "metadata": {},
   "source": [
    "<font color='DarkBlue'><b>Комментарий ревьюера</b></font><br>\n",
    "<font color='DarkGreen'>👌 Действительно, прошлый опыт семейных отношений или оформленные отношения накладывают определенную ответственность и приучают к финансовой дисциплине.</font>"
   ]
  },
  {
   "cell_type": "markdown",
   "id": "9529de68",
   "metadata": {
    "deletable": false,
    "editable": false,
    "id": "9529de68"
   },
   "source": [
    "#### 3.3 Есть ли зависимость между уровнем дохода и возвратом кредита в срок?"
   ]
  },
  {
   "cell_type": "markdown",
   "id": "a41caba5",
   "metadata": {},
   "source": [
    "Воспользуемся значениями столбца *'total_income_category'*  чтобы найти число клиентов согласно их доходу и определить долю клиентов с возвратом кредита **в срок**"
   ]
  },
  {
   "cell_type": "code",
   "execution_count": 26,
   "id": "8787f44a",
   "metadata": {
    "deletable": false,
    "id": "8787f44a"
   },
   "outputs": [
    {
     "data": {
      "text/plain": [
       "total_income_category\n",
       "A       25\n",
       "B     5014\n",
       "C    15921\n",
       "D      349\n",
       "E       22\n",
       "Name: debt, dtype: int64"
      ]
     },
     "execution_count": 26,
     "metadata": {},
     "output_type": "execute_result"
    }
   ],
   "source": [
    "# Выведем series с числом клиентов по каждой категории . (какой стобец здесь корректнее выводить?)\n",
    "data_by_income = data.groupby('total_income_category')['debt'].count()\n",
    "data_by_income\n",
    "\n"
   ]
  },
  {
   "cell_type": "code",
   "execution_count": 27,
   "id": "e4459913",
   "metadata": {},
   "outputs": [
    {
     "data": {
      "text/plain": [
       "A       23\n",
       "B     4660\n",
       "C    14568\n",
       "D      328\n",
       "E       20\n",
       "Name: total_income_category, dtype: int64"
      ]
     },
     "execution_count": 27,
     "metadata": {},
     "output_type": "execute_result"
    }
   ],
   "source": [
    "# Выведем series по каждой категории дохода, где в графе debt находится 0, то есть отсуствие задолженности\n",
    "no_debt = data.loc[data['debt'] == 0, 'total_income_category'].value_counts().sort_index()\n",
    "no_debt"
   ]
  },
  {
   "cell_type": "markdown",
   "id": "5877facd",
   "metadata": {},
   "source": [
    "<font color='Blue'><b>?Вопрос</b></font><br>\n",
    "<font color='Blue'>Олег, будьте добры, в комментариях кода ниже я хотел бы ваше мнение узнать о том как удобнее и красивее совершить эти действия: объединить Series  и затем пройтись функцией . есть ли альтернатива  letter = row.name"
   ]
  },
  {
   "cell_type": "markdown",
   "id": "51afe9d6",
   "metadata": {},
   "source": [
    "<font color='DarkBlue'><b>Комментарий ревьюера 2</b></font><br>\n",
    "<font color='DarkMagenta'>👉 Не понятный вопрос, собрали в датафрейм, в нем создали колонку с процентом. И?</font>"
   ]
  },
  {
   "cell_type": "code",
   "execution_count": 28,
   "id": "ff708071",
   "metadata": {},
   "outputs": [
    {
     "data": {
      "text/html": [
       "<div>\n",
       "<style scoped>\n",
       "    .dataframe tbody tr th:only-of-type {\n",
       "        vertical-align: middle;\n",
       "    }\n",
       "\n",
       "    .dataframe tbody tr th {\n",
       "        vertical-align: top;\n",
       "    }\n",
       "\n",
       "    .dataframe thead th {\n",
       "        text-align: right;\n",
       "    }\n",
       "</style>\n",
       "<table border=\"1\" class=\"dataframe\">\n",
       "  <thead>\n",
       "    <tr style=\"text-align: right;\">\n",
       "      <th></th>\n",
       "      <th>Заемщики по категориям</th>\n",
       "      <th>Возвратов в срок</th>\n",
       "      <th>Возврат в срок, %</th>\n",
       "    </tr>\n",
       "  </thead>\n",
       "  <tbody>\n",
       "    <tr>\n",
       "      <th>A</th>\n",
       "      <td>25</td>\n",
       "      <td>23</td>\n",
       "      <td>92.00</td>\n",
       "    </tr>\n",
       "    <tr>\n",
       "      <th>B</th>\n",
       "      <td>5014</td>\n",
       "      <td>4660</td>\n",
       "      <td>92.94</td>\n",
       "    </tr>\n",
       "    <tr>\n",
       "      <th>C</th>\n",
       "      <td>15921</td>\n",
       "      <td>14568</td>\n",
       "      <td>91.50</td>\n",
       "    </tr>\n",
       "    <tr>\n",
       "      <th>D</th>\n",
       "      <td>349</td>\n",
       "      <td>328</td>\n",
       "      <td>93.98</td>\n",
       "    </tr>\n",
       "    <tr>\n",
       "      <th>E</th>\n",
       "      <td>22</td>\n",
       "      <td>20</td>\n",
       "      <td>90.91</td>\n",
       "    </tr>\n",
       "  </tbody>\n",
       "</table>\n",
       "</div>"
      ],
      "text/plain": [
       "   Заемщики по категориям  Возвратов в срок  Возврат в срок, %\n",
       "A                      25                23              92.00\n",
       "B                    5014              4660              92.94\n",
       "C                   15921             14568              91.50\n",
       "D                     349               328              93.98\n",
       "E                      22                20              90.91"
      ]
     },
     "execution_count": 28,
     "metadata": {},
     "output_type": "execute_result"
    }
   ],
   "source": [
    "# объединим два series (какой способ лучше использовать?) и добавим 3 столбец , где посчитаем процент возврата в срок\n",
    "df = pd.DataFrame({'Заемщики по категориям': data_by_income, 'Возвратов в срок': no_debt})\n",
    "df['Возврат в срок, %'] = (df['Возвратов в срок'] / df ['Заемщики по категориям'] * 100).round(2)\n",
    "df"
   ]
  },
  {
   "cell_type": "markdown",
   "id": "550329d7",
   "metadata": {},
   "source": [
    "<font color='DarkBlue'><b>Комментарий ревьюера 2</b></font><br>\n",
    "<font color='DarkMagenta'>👉 Альтернативой будет создание словаря.</font>"
   ]
  },
  {
   "cell_type": "code",
   "execution_count": 29,
   "id": "d2ac41b5",
   "metadata": {},
   "outputs": [
    {
     "data": {
      "text/html": [
       "<div>\n",
       "<style scoped>\n",
       "    .dataframe tbody tr th:only-of-type {\n",
       "        vertical-align: middle;\n",
       "    }\n",
       "\n",
       "    .dataframe tbody tr th {\n",
       "        vertical-align: top;\n",
       "    }\n",
       "\n",
       "    .dataframe thead th {\n",
       "        text-align: right;\n",
       "    }\n",
       "</style>\n",
       "<table border=\"1\" class=\"dataframe\">\n",
       "  <thead>\n",
       "    <tr style=\"text-align: right;\">\n",
       "      <th></th>\n",
       "      <th>Заемщики по категориям</th>\n",
       "      <th>Возвратов в срок</th>\n",
       "      <th>Возврат в срок, %</th>\n",
       "      <th>Доход</th>\n",
       "    </tr>\n",
       "  </thead>\n",
       "  <tbody>\n",
       "    <tr>\n",
       "      <th>A</th>\n",
       "      <td>25</td>\n",
       "      <td>23</td>\n",
       "      <td>92.00</td>\n",
       "      <td>1000001 и выше</td>\n",
       "    </tr>\n",
       "    <tr>\n",
       "      <th>B</th>\n",
       "      <td>5014</td>\n",
       "      <td>4660</td>\n",
       "      <td>92.94</td>\n",
       "      <td>200001–1000000</td>\n",
       "    </tr>\n",
       "    <tr>\n",
       "      <th>C</th>\n",
       "      <td>15921</td>\n",
       "      <td>14568</td>\n",
       "      <td>91.50</td>\n",
       "      <td>50001–200000</td>\n",
       "    </tr>\n",
       "    <tr>\n",
       "      <th>D</th>\n",
       "      <td>349</td>\n",
       "      <td>328</td>\n",
       "      <td>93.98</td>\n",
       "      <td>30001–50000</td>\n",
       "    </tr>\n",
       "    <tr>\n",
       "      <th>E</th>\n",
       "      <td>22</td>\n",
       "      <td>20</td>\n",
       "      <td>90.91</td>\n",
       "      <td>0–30000</td>\n",
       "    </tr>\n",
       "  </tbody>\n",
       "</table>\n",
       "</div>"
      ],
      "text/plain": [
       "   Заемщики по категориям  Возвратов в срок  Возврат в срок, %           Доход\n",
       "A                      25                23              92.00  1000001 и выше\n",
       "B                    5014              4660              92.94  200001–1000000\n",
       "C                   15921             14568              91.50    50001–200000\n",
       "D                     349               328              93.98     30001–50000\n",
       "E                      22                20              90.91         0–30000"
      ]
     },
     "execution_count": 29,
     "metadata": {},
     "output_type": "execute_result"
    }
   ],
   "source": [
    "def categorize_reverse(row):\n",
    "    #\"\"\"\n",
    "    # Возвращает числовой диапазон дохода в зависимости от категории\n",
    "    #  \"\"\"\n",
    "    letter = row.name # letter = row.name # есть ли другой способ, чтобы функция прошлась по A_B_C_D_E? \n",
    "    \n",
    "    try:\n",
    "        if letter == 'A':\n",
    "            return '1000001 и выше'\n",
    "        elif letter == 'B':\n",
    "            return '200001–1000000'\n",
    "        elif letter == 'C':\n",
    "            return '50001–200000'\n",
    "        elif letter == 'D':\n",
    "            return '30001–50000'\n",
    "        elif letter == 'E':\n",
    "            return '0–30000'\n",
    "    except:\n",
    "        pass\n",
    "    \n",
    "df['Доход']= df.apply(categorize_reverse,axis=1)\n",
    "df"
   ]
  },
  {
   "cell_type": "markdown",
   "id": "6dd14b57",
   "metadata": {
    "deletable": false,
    "id": "6dd14b57"
   },
   "source": [
    "<font color='Blue'>**Вывод:исправлено**</font> <a id='income'></a> наименьший показатель возврата кредита в срок имеют заемщики с уровнем дохода *0-30000*. При этом наилучший показатель у следующей группы *300001-50000*. При этом важно отметить что представленные выборки несбалансированы и для оценки зависимости между уровнем дохода и возвратом кредита в срок следует рассматривать только репрезентативные категории дохода B и С. По этим категориям однозначный вывод о зависимости сделать нельзя, необходимо применить дополнительные исследования."
   ]
  },
  {
   "cell_type": "markdown",
   "id": "5de104b5",
   "metadata": {},
   "source": [
    "<font color='DarkBlue'><b>Комментарий ревьюера</b></font><br>\n",
    "<font color='DarkMagenta'>👉 Обращаю внимание, что представленные выборки несбалансированы и какой-то вывод можно делать только по двум категориям с достаточным размером выборок.</font>\n",
    "<br><font color='DarkMagenta'>👉 В задачах, где требуется анализировать несбалансированные выборки можно, делать дополнительный анализ, разбив данные на равные выборки методом `.qcut`. Подробнее можно прочитать тут: <br>https://dfedorov.spb.ru/pandas/Разделение%20данных%20в%20Pandas%20с%20помощью%20qcut%20и%20cut.html.</font>"
   ]
  },
  {
   "cell_type": "markdown",
   "id": "1cbebeea",
   "metadata": {},
   "source": [
    "<font color='DarkBlue'><b>Комментарий ревьюера 2</b></font><br>\n",
    "<font color='DarkMagenta'>👉 Можно сделать цикл с перебором количества категорий.</font>"
   ]
  },
  {
   "cell_type": "code",
   "execution_count": 53,
   "id": "cd4e31f1",
   "metadata": {},
   "outputs": [
    {
     "data": {
      "text/html": [
       "<style  type=\"text/css\" >\n",
       "#T_965c0_row0_col0{\n",
       "            background-color:  #69add5;\n",
       "            color:  #000000;\n",
       "        }#T_965c0_row0_col1{\n",
       "            background-color:  #5da5d1;\n",
       "            color:  #000000;\n",
       "        }#T_965c0_row0_col2{\n",
       "            background-color:  #58a1cf;\n",
       "            color:  #000000;\n",
       "        }#T_965c0_row1_col0,#T_965c0_row1_col1,#T_965c0_row1_col2{\n",
       "            background-color:  #08306b;\n",
       "            color:  #f1f1f1;\n",
       "        }#T_965c0_row2_col0,#T_965c0_row2_col1,#T_965c0_row2_col2{\n",
       "            background-color:  #f7fbff;\n",
       "            color:  #000000;\n",
       "        }</style><table id=\"T_965c0_\" ><thead>    <tr>        <th class=\"blank level0\" ></th>        <th class=\"col_heading level0 col0\" >Всего кредитополучателей</th>        <th class=\"col_heading level0 col1\" >Всего должников</th>        <th class=\"col_heading level0 col2\" >Доля должников</th>    </tr>    <tr>        <th class=\"index_name level0\" >new_category</th>        <th class=\"blank\" ></th>        <th class=\"blank\" ></th>        <th class=\"blank\" ></th>    </tr></thead><tbody>\n",
       "                <tr>\n",
       "                        <th id=\"T_965c0_level0_row0\" class=\"row_heading level0 row0\" >(20666.0, 119218.0]</th>\n",
       "                        <td id=\"T_965c0_row0_col0\" class=\"data row0 col0\" >7111.000</td>\n",
       "                        <td id=\"T_965c0_row0_col1\" class=\"data row0 col1\" >580.000</td>\n",
       "                        <td id=\"T_965c0_row0_col2\" class=\"data row0 col2\" >0.082</td>\n",
       "            </tr>\n",
       "            <tr>\n",
       "                        <th id=\"T_965c0_level0_row1\" class=\"row_heading level0 row1\" >(119218.0, 172357.0]</th>\n",
       "                        <td id=\"T_965c0_row1_col0\" class=\"data row1 col0\" >7238.000</td>\n",
       "                        <td id=\"T_965c0_row1_col1\" class=\"data row1 col1\" >627.000</td>\n",
       "                        <td id=\"T_965c0_row1_col2\" class=\"data row1 col2\" >0.087</td>\n",
       "            </tr>\n",
       "            <tr>\n",
       "                        <th id=\"T_965c0_level0_row2\" class=\"row_heading level0 row2\" >(172357.0, 2265604.0]</th>\n",
       "                        <td id=\"T_965c0_row2_col0\" class=\"data row2 col0\" >6982.000</td>\n",
       "                        <td id=\"T_965c0_row2_col1\" class=\"data row2 col1\" >525.000</td>\n",
       "                        <td id=\"T_965c0_row2_col2\" class=\"data row2 col2\" >0.075</td>\n",
       "            </tr>\n",
       "    </tbody></table>"
      ],
      "text/plain": [
       "<pandas.io.formats.style.Styler at 0x7f416a153790>"
      ]
     },
     "metadata": {},
     "output_type": "display_data"
    },
    {
     "data": {
      "text/html": [
       "<style  type=\"text/css\" >\n",
       "#T_df14c_row0_col0{\n",
       "            background-color:  #6aaed6;\n",
       "            color:  #000000;\n",
       "        }#T_df14c_row0_col1{\n",
       "            background-color:  #7ab6d9;\n",
       "            color:  #000000;\n",
       "        }#T_df14c_row0_col2{\n",
       "            background-color:  #65aad4;\n",
       "            color:  #000000;\n",
       "        }#T_df14c_row1_col0,#T_df14c_row1_col1,#T_df14c_row1_col2{\n",
       "            background-color:  #08306b;\n",
       "            color:  #f1f1f1;\n",
       "        }#T_df14c_row2_col0,#T_df14c_row3_col1,#T_df14c_row3_col2{\n",
       "            background-color:  #f7fbff;\n",
       "            color:  #000000;\n",
       "        }#T_df14c_row2_col1{\n",
       "            background-color:  #3f8fc5;\n",
       "            color:  #000000;\n",
       "        }#T_df14c_row2_col2{\n",
       "            background-color:  #125ea6;\n",
       "            color:  #f1f1f1;\n",
       "        }#T_df14c_row3_col0{\n",
       "            background-color:  #6dafd7;\n",
       "            color:  #000000;\n",
       "        }</style><table id=\"T_df14c_\" ><thead>    <tr>        <th class=\"blank level0\" ></th>        <th class=\"col_heading level0 col0\" >Всего кредитополучателей</th>        <th class=\"col_heading level0 col1\" >Всего должников</th>        <th class=\"col_heading level0 col2\" >Доля должников</th>    </tr>    <tr>        <th class=\"index_name level0\" >new_category</th>        <th class=\"blank\" ></th>        <th class=\"blank\" ></th>        <th class=\"blank\" ></th>    </tr></thead><tbody>\n",
       "                <tr>\n",
       "                        <th id=\"T_df14c_level0_row0\" class=\"row_heading level0 row0\" >(20666.0, 107507.0]</th>\n",
       "                        <td id=\"T_df14c_row0_col0\" class=\"data row0 col0\" >5333.000</td>\n",
       "                        <td id=\"T_df14c_row0_col1\" class=\"data row0 col1\" >427.000</td>\n",
       "                        <td id=\"T_df14c_row0_col2\" class=\"data row0 col2\" >0.080</td>\n",
       "            </tr>\n",
       "            <tr>\n",
       "                        <th id=\"T_df14c_level0_row1\" class=\"row_heading level0 row1\" >(107507.0, 142594.0]</th>\n",
       "                        <td id=\"T_df14c_row1_col0\" class=\"data row1 col0\" >5450.000</td>\n",
       "                        <td id=\"T_df14c_row1_col1\" class=\"data row1 col1\" >480.000</td>\n",
       "                        <td id=\"T_df14c_row1_col2\" class=\"data row1 col2\" >0.088</td>\n",
       "            </tr>\n",
       "            <tr>\n",
       "                        <th id=\"T_df14c_level0_row2\" class=\"row_heading level0 row2\" >(142594.0, 195842.0]</th>\n",
       "                        <td id=\"T_df14c_row2_col0\" class=\"data row2 col0\" >5216.000</td>\n",
       "                        <td id=\"T_df14c_row2_col1\" class=\"data row2 col1\" >444.000</td>\n",
       "                        <td id=\"T_df14c_row2_col2\" class=\"data row2 col2\" >0.085</td>\n",
       "            </tr>\n",
       "            <tr>\n",
       "                        <th id=\"T_df14c_level0_row3\" class=\"row_heading level0 row3\" >(195842.0, 2265604.0]</th>\n",
       "                        <td id=\"T_df14c_row3_col0\" class=\"data row3 col0\" >5332.000</td>\n",
       "                        <td id=\"T_df14c_row3_col1\" class=\"data row3 col1\" >381.000</td>\n",
       "                        <td id=\"T_df14c_row3_col2\" class=\"data row3 col2\" >0.071</td>\n",
       "            </tr>\n",
       "    </tbody></table>"
      ],
      "text/plain": [
       "<pandas.io.formats.style.Styler at 0x7f416a153a60>"
      ]
     },
     "metadata": {},
     "output_type": "display_data"
    },
    {
     "data": {
      "text/html": [
       "<style  type=\"text/css\" >\n",
       "#T_151f6_row0_col0,#T_151f6_row2_col1,#T_151f6_row2_col2{\n",
       "            background-color:  #08306b;\n",
       "            color:  #f1f1f1;\n",
       "        }#T_151f6_row0_col1,#T_151f6_row0_col2{\n",
       "            background-color:  #4896c8;\n",
       "            color:  #000000;\n",
       "        }#T_151f6_row1_col0,#T_151f6_row2_col0,#T_151f6_row3_col0,#T_151f6_row4_col0,#T_151f6_row4_col1,#T_151f6_row4_col2{\n",
       "            background-color:  #f7fbff;\n",
       "            color:  #000000;\n",
       "        }#T_151f6_row1_col1,#T_151f6_row1_col2,#T_151f6_row3_col1,#T_151f6_row3_col2{\n",
       "            background-color:  #1764ab;\n",
       "            color:  #f1f1f1;\n",
       "        }</style><table id=\"T_151f6_\" ><thead>    <tr>        <th class=\"blank level0\" ></th>        <th class=\"col_heading level0 col0\" >Всего кредитополучателей</th>        <th class=\"col_heading level0 col1\" >Всего должников</th>        <th class=\"col_heading level0 col2\" >Доля должников</th>    </tr>    <tr>        <th class=\"index_name level0\" >new_category</th>        <th class=\"blank\" ></th>        <th class=\"blank\" ></th>        <th class=\"blank\" ></th>    </tr></thead><tbody>\n",
       "                <tr>\n",
       "                        <th id=\"T_151f6_level0_row0\" class=\"row_heading level0 row0\" >(20666.0, 98514.0]</th>\n",
       "                        <td id=\"T_151f6_row0_col0\" class=\"data row0 col0\" >4267.000</td>\n",
       "                        <td id=\"T_151f6_row0_col1\" class=\"data row0 col1\" >344.000</td>\n",
       "                        <td id=\"T_151f6_row0_col2\" class=\"data row0 col2\" >0.081</td>\n",
       "            </tr>\n",
       "            <tr>\n",
       "                        <th id=\"T_151f6_level0_row1\" class=\"row_heading level0 row1\" >(98514.0, 132113.0]</th>\n",
       "                        <td id=\"T_151f6_row1_col0\" class=\"data row1 col0\" >4266.000</td>\n",
       "                        <td id=\"T_151f6_row1_col1\" class=\"data row1 col1\" >358.000</td>\n",
       "                        <td id=\"T_151f6_row1_col2\" class=\"data row1 col2\" >0.084</td>\n",
       "            </tr>\n",
       "            <tr>\n",
       "                        <th id=\"T_151f6_level0_row2\" class=\"row_heading level0 row2\" >(132113.0, 161380.0]</th>\n",
       "                        <td id=\"T_151f6_row2_col0\" class=\"data row2 col0\" >4266.000</td>\n",
       "                        <td id=\"T_151f6_row2_col1\" class=\"data row2 col1\" >373.000</td>\n",
       "                        <td id=\"T_151f6_row2_col2\" class=\"data row2 col2\" >0.087</td>\n",
       "            </tr>\n",
       "            <tr>\n",
       "                        <th id=\"T_151f6_level0_row3\" class=\"row_heading level0 row3\" >(161380.0, 214604.0]</th>\n",
       "                        <td id=\"T_151f6_row3_col0\" class=\"data row3 col0\" >4266.000</td>\n",
       "                        <td id=\"T_151f6_row3_col1\" class=\"data row3 col1\" >358.000</td>\n",
       "                        <td id=\"T_151f6_row3_col2\" class=\"data row3 col2\" >0.084</td>\n",
       "            </tr>\n",
       "            <tr>\n",
       "                        <th id=\"T_151f6_level0_row4\" class=\"row_heading level0 row4\" >(214604.0, 2265604.0]</th>\n",
       "                        <td id=\"T_151f6_row4_col0\" class=\"data row4 col0\" >4266.000</td>\n",
       "                        <td id=\"T_151f6_row4_col1\" class=\"data row4 col1\" >299.000</td>\n",
       "                        <td id=\"T_151f6_row4_col2\" class=\"data row4 col2\" >0.070</td>\n",
       "            </tr>\n",
       "    </tbody></table>"
      ],
      "text/plain": [
       "<pandas.io.formats.style.Styler at 0x7f416a153b80>"
      ]
     },
     "metadata": {},
     "output_type": "display_data"
    },
    {
     "data": {
      "text/html": [
       "<style  type=\"text/css\" >\n",
       "#T_2da90_row0_col0{\n",
       "            background-color:  #63a8d3;\n",
       "            color:  #000000;\n",
       "        }#T_2da90_row0_col1{\n",
       "            background-color:  #7ab6d9;\n",
       "            color:  #000000;\n",
       "        }#T_2da90_row0_col2{\n",
       "            background-color:  #60a7d2;\n",
       "            color:  #000000;\n",
       "        }#T_2da90_row1_col0,#T_2da90_row5_col0{\n",
       "            background-color:  #64a9d3;\n",
       "            color:  #000000;\n",
       "        }#T_2da90_row1_col1{\n",
       "            background-color:  #4e9acb;\n",
       "            color:  #000000;\n",
       "        }#T_2da90_row1_col2{\n",
       "            background-color:  #3383be;\n",
       "            color:  #000000;\n",
       "        }#T_2da90_row2_col0,#T_2da90_row2_col1,#T_2da90_row2_col2{\n",
       "            background-color:  #08306b;\n",
       "            color:  #f1f1f1;\n",
       "        }#T_2da90_row3_col0{\n",
       "            background-color:  #549fcd;\n",
       "            color:  #000000;\n",
       "        }#T_2da90_row3_col1{\n",
       "            background-color:  #3a8ac2;\n",
       "            color:  #000000;\n",
       "        }#T_2da90_row3_col2{\n",
       "            background-color:  #2373b6;\n",
       "            color:  #f1f1f1;\n",
       "        }#T_2da90_row4_col0,#T_2da90_row5_col1,#T_2da90_row5_col2{\n",
       "            background-color:  #f7fbff;\n",
       "            color:  #000000;\n",
       "        }#T_2da90_row4_col1{\n",
       "            background-color:  #a8cee4;\n",
       "            color:  #000000;\n",
       "        }#T_2da90_row4_col2{\n",
       "            background-color:  #5aa2cf;\n",
       "            color:  #000000;\n",
       "        }</style><table id=\"T_2da90_\" ><thead>    <tr>        <th class=\"blank level0\" ></th>        <th class=\"col_heading level0 col0\" >Всего кредитополучателей</th>        <th class=\"col_heading level0 col1\" >Всего должников</th>        <th class=\"col_heading level0 col2\" >Доля должников</th>    </tr>    <tr>        <th class=\"index_name level0\" >new_category</th>        <th class=\"blank\" ></th>        <th class=\"blank\" ></th>        <th class=\"blank\" ></th>    </tr></thead><tbody>\n",
       "                <tr>\n",
       "                        <th id=\"T_2da90_level0_row0\" class=\"row_heading level0 row0\" >(20666.0, 92092.0]</th>\n",
       "                        <td id=\"T_2da90_row0_col0\" class=\"data row0 col0\" >3556.000</td>\n",
       "                        <td id=\"T_2da90_row0_col1\" class=\"data row0 col1\" >285.000</td>\n",
       "                        <td id=\"T_2da90_row0_col2\" class=\"data row0 col2\" >0.080</td>\n",
       "            </tr>\n",
       "            <tr>\n",
       "                        <th id=\"T_2da90_level0_row1\" class=\"row_heading level0 row1\" >(92092.0, 119218.0]</th>\n",
       "                        <td id=\"T_2da90_row1_col0\" class=\"data row1 col0\" >3555.000</td>\n",
       "                        <td id=\"T_2da90_row1_col1\" class=\"data row1 col1\" >295.000</td>\n",
       "                        <td id=\"T_2da90_row1_col2\" class=\"data row1 col2\" >0.083</td>\n",
       "            </tr>\n",
       "            <tr>\n",
       "                        <th id=\"T_2da90_level0_row2\" class=\"row_heading level0 row2\" >(119218.0, 142594.0]</th>\n",
       "                        <td id=\"T_2da90_row2_col0\" class=\"data row2 col0\" >3672.000</td>\n",
       "                        <td id=\"T_2da90_row2_col1\" class=\"data row2 col1\" >327.000</td>\n",
       "                        <td id=\"T_2da90_row2_col2\" class=\"data row2 col2\" >0.089</td>\n",
       "            </tr>\n",
       "            <tr>\n",
       "                        <th id=\"T_2da90_level0_row3\" class=\"row_heading level0 row3\" >(142594.0, 172357.0]</th>\n",
       "                        <td id=\"T_2da90_row3_col0\" class=\"data row3 col0\" >3566.000</td>\n",
       "                        <td id=\"T_2da90_row3_col1\" class=\"data row3 col1\" >300.000</td>\n",
       "                        <td id=\"T_2da90_row3_col2\" class=\"data row3 col2\" >0.084</td>\n",
       "            </tr>\n",
       "            <tr>\n",
       "                        <th id=\"T_2da90_level0_row4\" class=\"row_heading level0 row4\" >(172357.0, 228893.0]</th>\n",
       "                        <td id=\"T_2da90_row4_col0\" class=\"data row4 col0\" >3427.000</td>\n",
       "                        <td id=\"T_2da90_row4_col1\" class=\"data row4 col1\" >276.000</td>\n",
       "                        <td id=\"T_2da90_row4_col2\" class=\"data row4 col2\" >0.081</td>\n",
       "            </tr>\n",
       "            <tr>\n",
       "                        <th id=\"T_2da90_level0_row5\" class=\"row_heading level0 row5\" >(228893.0, 2265604.0]</th>\n",
       "                        <td id=\"T_2da90_row5_col0\" class=\"data row5 col0\" >3555.000</td>\n",
       "                        <td id=\"T_2da90_row5_col1\" class=\"data row5 col1\" >249.000</td>\n",
       "                        <td id=\"T_2da90_row5_col2\" class=\"data row5 col2\" >0.070</td>\n",
       "            </tr>\n",
       "    </tbody></table>"
      ],
      "text/plain": [
       "<pandas.io.formats.style.Styler at 0x7f416892f2b0>"
      ]
     },
     "metadata": {},
     "output_type": "display_data"
    },
    {
     "data": {
      "text/html": [
       "<style  type=\"text/css\" >\n",
       "#T_a9c2f_row0_col0,#T_a9c2f_row3_col1,#T_a9c2f_row3_col2,#T_a9c2f_row6_col0{\n",
       "            background-color:  #08306b;\n",
       "            color:  #f1f1f1;\n",
       "        }#T_a9c2f_row0_col1,#T_a9c2f_row0_col2{\n",
       "            background-color:  #8dc1dd;\n",
       "            color:  #000000;\n",
       "        }#T_a9c2f_row1_col0,#T_a9c2f_row2_col0,#T_a9c2f_row3_col0,#T_a9c2f_row4_col0,#T_a9c2f_row5_col0,#T_a9c2f_row6_col1,#T_a9c2f_row6_col2{\n",
       "            background-color:  #f7fbff;\n",
       "            color:  #000000;\n",
       "        }#T_a9c2f_row1_col1,#T_a9c2f_row1_col2{\n",
       "            background-color:  #083979;\n",
       "            color:  #f1f1f1;\n",
       "        }#T_a9c2f_row2_col1,#T_a9c2f_row2_col2{\n",
       "            background-color:  #083471;\n",
       "            color:  #f1f1f1;\n",
       "        }#T_a9c2f_row4_col1,#T_a9c2f_row4_col2{\n",
       "            background-color:  #09529d;\n",
       "            color:  #f1f1f1;\n",
       "        }#T_a9c2f_row5_col1,#T_a9c2f_row5_col2{\n",
       "            background-color:  #4f9bcb;\n",
       "            color:  #000000;\n",
       "        }</style><table id=\"T_a9c2f_\" ><thead>    <tr>        <th class=\"blank level0\" ></th>        <th class=\"col_heading level0 col0\" >Всего кредитополучателей</th>        <th class=\"col_heading level0 col1\" >Всего должников</th>        <th class=\"col_heading level0 col2\" >Доля должников</th>    </tr>    <tr>        <th class=\"index_name level0\" >new_category</th>        <th class=\"blank\" ></th>        <th class=\"blank\" ></th>        <th class=\"blank\" ></th>    </tr></thead><tbody>\n",
       "                <tr>\n",
       "                        <th id=\"T_a9c2f_level0_row0\" class=\"row_heading level0 row0\" >(20666.0, 87287.0]</th>\n",
       "                        <td id=\"T_a9c2f_row0_col0\" class=\"data row0 col0\" >3048.000</td>\n",
       "                        <td id=\"T_a9c2f_row0_col1\" class=\"data row0 col1\" >233.000</td>\n",
       "                        <td id=\"T_a9c2f_row0_col2\" class=\"data row0 col2\" >0.076</td>\n",
       "            </tr>\n",
       "            <tr>\n",
       "                        <th id=\"T_a9c2f_level0_row1\" class=\"row_heading level0 row1\" >(87287.0, 113563.0]</th>\n",
       "                        <td id=\"T_a9c2f_row1_col0\" class=\"data row1 col0\" >3047.000</td>\n",
       "                        <td id=\"T_a9c2f_row1_col1\" class=\"data row1 col1\" >262.000</td>\n",
       "                        <td id=\"T_a9c2f_row1_col2\" class=\"data row1 col2\" >0.086</td>\n",
       "            </tr>\n",
       "            <tr>\n",
       "                        <th id=\"T_a9c2f_level0_row2\" class=\"row_heading level0 row2\" >(113563.0, 137465.0]</th>\n",
       "                        <td id=\"T_a9c2f_row2_col0\" class=\"data row2 col0\" >3047.000</td>\n",
       "                        <td id=\"T_a9c2f_row2_col1\" class=\"data row2 col1\" >263.000</td>\n",
       "                        <td id=\"T_a9c2f_row2_col2\" class=\"data row2 col2\" >0.086</td>\n",
       "            </tr>\n",
       "            <tr>\n",
       "                        <th id=\"T_a9c2f_level0_row3\" class=\"row_heading level0 row3\" >(137465.0, 155314.0]</th>\n",
       "                        <td id=\"T_a9c2f_row3_col0\" class=\"data row3 col0\" >3047.000</td>\n",
       "                        <td id=\"T_a9c2f_row3_col1\" class=\"data row3 col1\" >264.000</td>\n",
       "                        <td id=\"T_a9c2f_row3_col2\" class=\"data row3 col2\" >0.087</td>\n",
       "            </tr>\n",
       "            <tr>\n",
       "                        <th id=\"T_a9c2f_level0_row4\" class=\"row_heading level0 row4\" >(155314.0, 184554.0]</th>\n",
       "                        <td id=\"T_a9c2f_row4_col0\" class=\"data row4 col0\" >3047.000</td>\n",
       "                        <td id=\"T_a9c2f_row4_col1\" class=\"data row4 col1\" >257.000</td>\n",
       "                        <td id=\"T_a9c2f_row4_col2\" class=\"data row4 col2\" >0.084</td>\n",
       "            </tr>\n",
       "            <tr>\n",
       "                        <th id=\"T_a9c2f_level0_row5\" class=\"row_heading level0 row5\" >(184554.0, 242009.0]</th>\n",
       "                        <td id=\"T_a9c2f_row5_col0\" class=\"data row5 col0\" >3047.000</td>\n",
       "                        <td id=\"T_a9c2f_row5_col1\" class=\"data row5 col1\" >242.000</td>\n",
       "                        <td id=\"T_a9c2f_row5_col2\" class=\"data row5 col2\" >0.079</td>\n",
       "            </tr>\n",
       "            <tr>\n",
       "                        <th id=\"T_a9c2f_level0_row6\" class=\"row_heading level0 row6\" >(242009.0, 2265604.0]</th>\n",
       "                        <td id=\"T_a9c2f_row6_col0\" class=\"data row6 col0\" >3048.000</td>\n",
       "                        <td id=\"T_a9c2f_row6_col1\" class=\"data row6 col1\" >211.000</td>\n",
       "                        <td id=\"T_a9c2f_row6_col2\" class=\"data row6 col2\" >0.069</td>\n",
       "            </tr>\n",
       "    </tbody></table>"
      ],
      "text/plain": [
       "<pandas.io.formats.style.Styler at 0x7f4168449be0>"
      ]
     },
     "metadata": {},
     "output_type": "display_data"
    },
    {
     "data": {
      "text/html": [
       "<style  type=\"text/css\" >\n",
       "#T_905be_row0_col0,#T_905be_row5_col0,#T_905be_row7_col0{\n",
       "            background-color:  #6aaed6;\n",
       "            color:  #000000;\n",
       "        }#T_905be_row0_col1{\n",
       "            background-color:  #aacfe5;\n",
       "            color:  #000000;\n",
       "        }#T_905be_row0_col2{\n",
       "            background-color:  #91c3de;\n",
       "            color:  #000000;\n",
       "        }#T_905be_row1_col0,#T_905be_row2_col0{\n",
       "            background-color:  #6caed6;\n",
       "            color:  #000000;\n",
       "        }#T_905be_row1_col1,#T_905be_row5_col1{\n",
       "            background-color:  #519ccc;\n",
       "            color:  #000000;\n",
       "        }#T_905be_row1_col2,#T_905be_row5_col2{\n",
       "            background-color:  #2f7fbc;\n",
       "            color:  #000000;\n",
       "        }#T_905be_row2_col1{\n",
       "            background-color:  #1c6ab0;\n",
       "            color:  #f1f1f1;\n",
       "        }#T_905be_row2_col2{\n",
       "            background-color:  #084285;\n",
       "            color:  #f1f1f1;\n",
       "        }#T_905be_row3_col0,#T_905be_row3_col1,#T_905be_row3_col2{\n",
       "            background-color:  #08306b;\n",
       "            color:  #f1f1f1;\n",
       "        }#T_905be_row4_col0,#T_905be_row7_col1,#T_905be_row7_col2{\n",
       "            background-color:  #f7fbff;\n",
       "            color:  #000000;\n",
       "        }#T_905be_row4_col1{\n",
       "            background-color:  #4695c8;\n",
       "            color:  #000000;\n",
       "        }#T_905be_row4_col2{\n",
       "            background-color:  #084184;\n",
       "            color:  #f1f1f1;\n",
       "        }#T_905be_row6_col0{\n",
       "            background-color:  #6dafd7;\n",
       "            color:  #000000;\n",
       "        }#T_905be_row6_col1{\n",
       "            background-color:  #d4e4f4;\n",
       "            color:  #000000;\n",
       "        }#T_905be_row6_col2{\n",
       "            background-color:  #cddff1;\n",
       "            color:  #000000;\n",
       "        }</style><table id=\"T_905be_\" ><thead>    <tr>        <th class=\"blank level0\" ></th>        <th class=\"col_heading level0 col0\" >Всего кредитополучателей</th>        <th class=\"col_heading level0 col1\" >Всего должников</th>        <th class=\"col_heading level0 col2\" >Доля должников</th>    </tr>    <tr>        <th class=\"index_name level0\" >new_category</th>        <th class=\"blank\" ></th>        <th class=\"blank\" ></th>        <th class=\"blank\" ></th>    </tr></thead><tbody>\n",
       "                <tr>\n",
       "                        <th id=\"T_905be_level0_row0\" class=\"row_heading level0 row0\" >(20666.0, 83837.0]</th>\n",
       "                        <td id=\"T_905be_row0_col0\" class=\"data row0 col0\" >2667.000</td>\n",
       "                        <td id=\"T_905be_row0_col1\" class=\"data row0 col1\" >206.000</td>\n",
       "                        <td id=\"T_905be_row0_col2\" class=\"data row0 col2\" >0.077</td>\n",
       "            </tr>\n",
       "            <tr>\n",
       "                        <th id=\"T_905be_level0_row1\" class=\"row_heading level0 row1\" >(83837.0, 107507.0]</th>\n",
       "                        <td id=\"T_905be_row1_col0\" class=\"data row1 col0\" >2666.000</td>\n",
       "                        <td id=\"T_905be_row1_col1\" class=\"data row1 col1\" >221.000</td>\n",
       "                        <td id=\"T_905be_row1_col2\" class=\"data row1 col2\" >0.083</td>\n",
       "            </tr>\n",
       "            <tr>\n",
       "                        <th id=\"T_905be_level0_row2\" class=\"row_heading level0 row2\" >(107507.0, 127546.0]</th>\n",
       "                        <td id=\"T_905be_row2_col0\" class=\"data row2 col0\" >2666.000</td>\n",
       "                        <td id=\"T_905be_row2_col1\" class=\"data row2 col1\" >233.000</td>\n",
       "                        <td id=\"T_905be_row2_col2\" class=\"data row2 col2\" >0.087</td>\n",
       "            </tr>\n",
       "            <tr>\n",
       "                        <th id=\"T_905be_level0_row3\" class=\"row_heading level0 row3\" >(127546.0, 142594.0]</th>\n",
       "                        <td id=\"T_905be_row3_col0\" class=\"data row3 col0\" >2784.000</td>\n",
       "                        <td id=\"T_905be_row3_col1\" class=\"data row3 col1\" >247.000</td>\n",
       "                        <td id=\"T_905be_row3_col2\" class=\"data row3 col2\" >0.089</td>\n",
       "            </tr>\n",
       "            <tr>\n",
       "                        <th id=\"T_905be_level0_row4\" class=\"row_heading level0 row4\" >(142594.0, 166525.0]</th>\n",
       "                        <td id=\"T_905be_row4_col0\" class=\"data row4 col0\" >2549.000</td>\n",
       "                        <td id=\"T_905be_row4_col1\" class=\"data row4 col1\" >223.000</td>\n",
       "                        <td id=\"T_905be_row4_col2\" class=\"data row4 col2\" >0.087</td>\n",
       "            </tr>\n",
       "            <tr>\n",
       "                        <th id=\"T_905be_level0_row5\" class=\"row_heading level0 row5\" >(166525.0, 195842.0]</th>\n",
       "                        <td id=\"T_905be_row5_col0\" class=\"data row5 col0\" >2667.000</td>\n",
       "                        <td id=\"T_905be_row5_col1\" class=\"data row5 col1\" >221.000</td>\n",
       "                        <td id=\"T_905be_row5_col2\" class=\"data row5 col2\" >0.083</td>\n",
       "            </tr>\n",
       "            <tr>\n",
       "                        <th id=\"T_905be_level0_row6\" class=\"row_heading level0 row6\" >(195842.0, 254250.0]</th>\n",
       "                        <td id=\"T_905be_row6_col0\" class=\"data row6 col0\" >2665.000</td>\n",
       "                        <td id=\"T_905be_row6_col1\" class=\"data row6 col1\" >196.000</td>\n",
       "                        <td id=\"T_905be_row6_col2\" class=\"data row6 col2\" >0.074</td>\n",
       "            </tr>\n",
       "            <tr>\n",
       "                        <th id=\"T_905be_level0_row7\" class=\"row_heading level0 row7\" >(254250.0, 2265604.0]</th>\n",
       "                        <td id=\"T_905be_row7_col0\" class=\"data row7 col0\" >2667.000</td>\n",
       "                        <td id=\"T_905be_row7_col1\" class=\"data row7 col1\" >185.000</td>\n",
       "                        <td id=\"T_905be_row7_col2\" class=\"data row7 col2\" >0.069</td>\n",
       "            </tr>\n",
       "    </tbody></table>"
      ],
      "text/plain": [
       "<pandas.io.formats.style.Styler at 0x7f41d4c767f0>"
      ]
     },
     "metadata": {},
     "output_type": "display_data"
    }
   ],
   "source": [
    "# Комментарий ревьюера 2\n",
    "temp = data.copy()\n",
    "start, stop = 3, 8 # начальное и конечное количество категорий\n",
    "while start <= stop:\n",
    "    temp['new_category'] = pd.qcut(temp['total_income'], q=start, precision=0)\n",
    "    que('new_category')\n",
    "    start += 1"
   ]
  },
  {
   "cell_type": "markdown",
   "id": "f2c3b5d5",
   "metadata": {},
   "source": [
    "<font color='DarkBlue'><b>Комментарий ревьюера 2</b></font><br>\n",
    "<font color='DarkMagenta'>👉 Вот, нашлась самая кредито-опасная категория дохода заемщиков, повод для более глубокого анализа.</font>"
   ]
  },
  {
   "cell_type": "markdown",
   "id": "1dcc9b12",
   "metadata": {
    "deletable": false,
    "editable": false,
    "id": "1dcc9b12"
   },
   "source": [
    "#### 3.4 Как разные цели кредита влияют на его возврат в срок?"
   ]
  },
  {
   "cell_type": "markdown",
   "id": "1da8d508",
   "metadata": {},
   "source": [
    "Воспользуемся значениями из созданного функцией группировки столбца *'purpose_category'*"
   ]
  },
  {
   "cell_type": "code",
   "execution_count": 30,
   "id": "c602bc8b",
   "metadata": {
    "deletable": false,
    "id": "c602bc8b",
    "scrolled": true
   },
   "outputs": [
    {
     "data": {
      "text/html": [
       "<div>\n",
       "<style scoped>\n",
       "    .dataframe tbody tr th:only-of-type {\n",
       "        vertical-align: middle;\n",
       "    }\n",
       "\n",
       "    .dataframe tbody tr th {\n",
       "        vertical-align: top;\n",
       "    }\n",
       "\n",
       "    .dataframe thead th {\n",
       "        text-align: right;\n",
       "    }\n",
       "</style>\n",
       "<table border=\"1\" class=\"dataframe\">\n",
       "  <thead>\n",
       "    <tr style=\"text-align: right;\">\n",
       "      <th></th>\n",
       "      <th>count</th>\n",
       "      <th>sum</th>\n",
       "      <th>debt_part</th>\n",
       "    </tr>\n",
       "    <tr>\n",
       "      <th>purpose_category</th>\n",
       "      <th></th>\n",
       "      <th></th>\n",
       "      <th></th>\n",
       "    </tr>\n",
       "  </thead>\n",
       "  <tbody>\n",
       "    <tr>\n",
       "      <th>операции с автомобилем</th>\n",
       "      <td>4279</td>\n",
       "      <td>400</td>\n",
       "      <td>9.35</td>\n",
       "    </tr>\n",
       "    <tr>\n",
       "      <th>операции с недвижимостью</th>\n",
       "      <td>10751</td>\n",
       "      <td>780</td>\n",
       "      <td>7.26</td>\n",
       "    </tr>\n",
       "    <tr>\n",
       "      <th>получение образования</th>\n",
       "      <td>3988</td>\n",
       "      <td>369</td>\n",
       "      <td>9.25</td>\n",
       "    </tr>\n",
       "    <tr>\n",
       "      <th>проведение свадьбы</th>\n",
       "      <td>2313</td>\n",
       "      <td>183</td>\n",
       "      <td>7.91</td>\n",
       "    </tr>\n",
       "  </tbody>\n",
       "</table>\n",
       "</div>"
      ],
      "text/plain": [
       "                          count  sum  debt_part\n",
       "purpose_category                               \n",
       "операции с автомобилем     4279  400       9.35\n",
       "операции с недвижимостью  10751  780       7.26\n",
       "получение образования      3988  369       9.25\n",
       "проведение свадьбы         2313  183       7.91"
      ]
     },
     "execution_count": 30,
     "metadata": {},
     "output_type": "execute_result"
    }
   ],
   "source": [
    "# применим функцию agg() с параметрами встроенных функций count и sum. Они посчитают общее количество значений по столбцу debt \n",
    "# и сумму значений, то есть количество должников (знач 'debt' = 1).\n",
    "\n",
    "grouped_by_purpose = data.groupby('purpose_category')['debt'].agg(['count', 'sum'])\n",
    "# grouped_by_purpose['debt_part'] = (grouped_by_purpose['sum']/grouped_by_purpose['count'] * 100).round(2)\n",
    "grouped_by_purpose['debt_part'] = (grouped_by_purpose.iloc[:, 1]/grouped_by_purpose.iloc[:, 0] * 100).round(2)\n",
    "grouped_by_purpose"
   ]
  },
  {
   "cell_type": "markdown",
   "id": "cf05ed63",
   "metadata": {
    "deletable": false,
    "id": "cf05ed63"
   },
   "source": [
    "<font color='Blue'>**Вывод: исправлено**</font><a id='purpose'></a>  Среди всех целей кредита, наименьший процент невозврата в срок имеют *операции с недвижимостью*, а наибольший - *операции с автомобилем* и *получение образования*\n"
   ]
  },
  {
   "cell_type": "markdown",
   "id": "92dde629",
   "metadata": {},
   "source": [
    "<font color='DarkBlue'><b>Комментарий ревьюера</b></font><br>\n",
    "<font color='DarkMagenta'>👉 Не совсем корректный вывод, кредит на образование так же несет высокие риски не возврата, что, видимо, связанно с проблемами трудоустройства после обучения.</font>"
   ]
  },
  {
   "cell_type": "markdown",
   "id": "46c1f10b",
   "metadata": {
    "deletable": false,
    "editable": false,
    "id": "46c1f10b"
   },
   "source": [
    "#### 3.5 Приведите возможные причины появления пропусков в исходных данных."
   ]
  },
  {
   "cell_type": "markdown",
   "id": "3697d2a9",
   "metadata": {
    "deletable": false,
    "id": "3697d2a9"
   },
   "source": [
    "*Ответ:*  В исходной таблице пропуски в данных обнаруживаются в колонках *'days_employed'* и *'total_income'* - это трудовой стаж в днях и ежемесячный доход. Пропуски в них могут появиться в результате намереннорго неуказания персональныъх данных клиентами банка или по причине отсутсвия сведений об официальном трудоустройстве и начислениях заработной платы, например человек никогда не работал."
   ]
  },
  {
   "cell_type": "markdown",
   "id": "a48fb9cf",
   "metadata": {},
   "source": [
    "<font color='Blue'>**Ответ:исправлено**</font>\n",
    "Пропуски данных во время анализа могут возникать по разным причинам, основные из них: \n",
    "- ошибки ввода данных \n",
    "- технические сбои\n",
    "- сокрытие информации\n",
    "- данные недополучены в результате исследования \n",
    "\n",
    "Количественные пропуски могут быть разделены на случаные и неслучайные. К случайным относят: ошибки ввода данных, технические сбои и невнимательность при сборе данных. К неслучайным пропускам можно отнести: сокрытие информации и недополучение данных ввиду особенностей исследования. В случае нашего исследовния пропуски в данных обнаруживаются в колонках *'days_employed'* и *'total_income'* - это трудовой стаж в днях и ежемесячный доход. Эти данные являются важными для банка, так что их отсутсвие скорее является результатом появления случаных пропусков, возможно технического сбоя"
   ]
  },
  {
   "cell_type": "markdown",
   "id": "1ec847f8",
   "metadata": {},
   "source": [
    "<font color='DarkBlue'><b>Комментарий ревьюера 2</b></font><br>\n",
    "<font color='DarkMagenta'>👉 Существует несколько причин отсутствия данных в датасетах, в том числе:<br>\n",
    "- Человеческий фактор: Ошибки ввода данных, не желание отвечать на определенные вопросы.\n",
    "- Технические проблемы: Возможны сбои с оборудованием или программным обеспечением для сбора данных. Отсутствующие данные могут быть удалены в процессе обработки или очистки данных.\n",
    "- Организационные: Конфиденциальность, могут отсутствовать данные, идентифицирующие отдельных лиц или компании.</font>"
   ]
  },
  {
   "cell_type": "markdown",
   "id": "f288391e",
   "metadata": {},
   "source": [
    "<font color='DarkBlue'><b>Комментарий ревьюера</b></font><br>\n",
    "<font color='Red'>🛠 Необходимо обобщить причины пропусков. Рекомендую обратиться к информации какие вообще бывают причины пропусков вне зависимости конкретного датасета. Если будут трудности, следует обратиться за помощью к преподавателю.</font>"
   ]
  },
  {
   "cell_type": "markdown",
   "id": "3137d257",
   "metadata": {
    "deletable": false,
    "editable": false,
    "id": "3137d257"
   },
   "source": [
    "#### 3.6 Объясните, почему заполнить пропуски медианным значением — лучшее решение для количественных переменных."
   ]
  },
  {
   "cell_type": "markdown",
   "id": "cf40012a",
   "metadata": {
    "deletable": false,
    "id": "cf40012a"
   },
   "source": [
    "*Ответ:* Медианное значение  в случае с зарплатными данными меньше зависит от экстремально больших и экстремально маленьких значений  в таблице, значит заполнение медианой меньше повлияет на корректность результатов исследований данных."
   ]
  },
  {
   "cell_type": "markdown",
   "id": "f1a37aa0",
   "metadata": {},
   "source": [
    "<font color='DarkBlue'><b>Комментарий ревьюера</b></font><br>\n",
    "<font color='DarkGreen'>👌 У средних более высокая чувствительность к выбросам, чем у медиан.<br>Можно попробовать посчитать и сравнить среднюю и медиану для колонки с выбросами, например `days_employed`.</font>"
   ]
  },
  {
   "cell_type": "code",
   "execution_count": 31,
   "id": "680d1c90",
   "metadata": {},
   "outputs": [
    {
     "data": {
      "text/plain": [
       "mean      67148.972133\n",
       "median     1996.732855\n",
       "Name: days_employed, dtype: float64"
      ]
     },
     "execution_count": 31,
     "metadata": {},
     "output_type": "execute_result"
    }
   ],
   "source": [
    "data['days_employed'].agg(['mean','median'])"
   ]
  },
  {
   "cell_type": "markdown",
   "id": "87e4bc6f",
   "metadata": {},
   "source": [
    "<font color='DarkBlue'>Посчитал в *этой* ячейке, не могу сделать однозначного вывода. Вообще, какая природа аномальных данных в этой колонке может быть именно  в строках с заемщиками \"пенсионер\" и \"безработный\"? ведь аномальные значения именно там.</font>"
   ]
  },
  {
   "cell_type": "markdown",
   "id": "0fe312d9",
   "metadata": {},
   "source": [
    "<font color='DarkBlue'><b>Комментарий ревьюера 2</b></font><br>\n",
    "<font color='DarkMagenta'>👉 Вывод один, среднее в 34 раза больше медианы, следовательно в данных присутствуют выбросы.</font>"
   ]
  },
  {
   "cell_type": "markdown",
   "id": "57bc304e",
   "metadata": {
    "deletable": false,
    "editable": false,
    "id": "57bc304e"
   },
   "source": [
    "### Шаг 4: общий вывод."
   ]
  },
  {
   "cell_type": "markdown",
   "id": "1ab75d1c",
   "metadata": {
    "deletable": false,
    "id": "1ab75d1c"
   },
   "source": [
    "<font color='Blue' size=+1><b> **Напишите ваш общий вывод.ИСПРАВЛЕНО** </b></font>\n",
    "Исследование данных о надежности заемщиков банка проводилось на основе таблицы с 21331 записью о заемщиках. Проведя первичный анализ и предобработку в таблице были найдены и удалены дубликаты строк, а также строки с аномальными значенями в колонке *'children'* которые также были удалены, чтобы не искажать результаты исследования. В ходе исследования было выявлено 2174 пропуска значений *'days_employed'* и *'total_income'* что соответсвует данным \"общий трудовой стаж в днях\" и \"ежемесяный доход\".\n",
    "Строки содержащие пропуски в этих данных нежелательно удалять для исследования, поэтому они были заменены медианными значениями по каждой колонке. Данный метод минимизирует влияние пропусков на результаты исследования.<br>\n",
    "В ходе анализа мы ответили на следующие вопросы:<br>\n",
    "*Есть ли зависимость между количеством детей и возвратом кредита в срок?<br>\n",
    "Есть ли зависимость между семейным положением и возвратом кредита в срок?<br>\n",
    "Есть ли зависимость между уровнем дохода и возвратом кредита в срок?<br>\n",
    "Как разные цели кредита влияют на его возврат в срок?*<br>\n",
    "Для исследования мы сгруппировали заемщиков по категориям дохода и целям кредита и исследовали каждую группу чтобы затем сравнить.\n",
    "    \n",
    "Исследовав зависимость возврата кредита в срок от различных факторов можно сделать выводы:\n",
    "- [количество детей](#children) у заемщиков влияет на возврат кредита и заемщики без детей менее склонны к просрочке, чем остальные группы с детьми\n",
    "- [семейное положениие](#family) заемщиков влияет на возврат кредита, но лучше изучать эти группы совместно с другими признаками, так как разделение по группам не **женат/не замужем** и **в разводе** может влиять на итог исследования в зависимости от занесения заемщиков в ту или иную группу\n",
    "- влияние [уровня дохода](#income) неоднозначно. С одной стороны у заемщиков принадлежащих к категории с минимальным значением дохода самый низкий показатель возврата кредита в срок, и с другой стороны по остальным категориями различия минимальны. Стоит также отметить что в данном исследование выборки неравнозначны в отношении и репрезентативны из них лишь две группы дохода:<br>\n",
    "50001–200000 — 'C'; 200001–1000000 — 'B'. Количества заемщиков в других группах недостаточно чтобы говорить о наличии взаимосвязи.\n",
    "\n",
    "- в результате исследования [целей кредита](#purpose) разделили на 4 основных категории. Заемщики с целями **'операции с недвижимостью'** и **'проведение свадьбы'** имеют меньший процент просрочки по кредиту чем заемщики, которые берут кредит на цели: **'операции с автомобилем'** и **'получение образования'**.\n",
    "\n",
    "Учитывая результаты исследований выше, можно предположить что идеальными заемщикомами для банка являются лица без детей, которые состоят или состояли в официальном браке, с уровнем дохода от 30000, которые берут кредит для операций с надвижимостью и получения образования.\n",
    "\n",
    "Для того чтобы результаты исследования были более достоверны, рекомендуется минимизировать пропуски в данных о доходе и трудовом стаже клиентов банка, а также внести больше данных о заемщиках с категориями дохода 'A', 'D', 'E'\n",
    "\n",
    "\n"
   ]
  },
  {
   "cell_type": "markdown",
   "id": "4a1748ae",
   "metadata": {},
   "source": [
    "<font color='DarkBlue'><b>Комментарий ревьюера 2</b></font><br>\n",
    "<font color='DarkGreen'>👌 Хорошо, теперь правильно.</font>"
   ]
  },
  {
   "cell_type": "markdown",
   "id": "e5cad3e0",
   "metadata": {},
   "source": [
    "<font color='DarkBlue'><b>Комментарий ревьюера</b></font><br>\n",
    "<font color='Red'>🛠 Общий вывод относится ко всему проекту, а не только к исследовательскому анализу.<br>Он должен содержать развернутое резюме по всем разделам проекта: описание данных, порядок обработки аномалий, пропусков и дубликатов, предобработка данных для анализа и проведенный анализ с конкретными результатами.<br>В реальных проектах сначала читают цель исследования, затем полученные выводы, затем уже сам анализ.</font>\n",
    "<br>\n",
    "<font color='DarkMagenta'>👉 В общем выводе можно дать рекомендации по улучшению сбора данных на основе обнаруженных ошибок. А так же  составить портрет добросовестного заемщика.</font>"
   ]
  },
  {
   "cell_type": "markdown",
   "id": "a8b29df3",
   "metadata": {},
   "source": [
    "<font color='Blue'><b>?Вопрос</b></font><br>\n",
    "<font color='Blue'>Олег, уточните пожалуйста, описание данных нужно в выводе или все таки оно должно быть в начале исследования, когда мы вмю информацию представляем начальную<br> </font>"
   ]
  },
  {
   "cell_type": "markdown",
   "id": "4adba521",
   "metadata": {},
   "source": [
    "<font color='DarkBlue'><b>Комментарий ревьюера 2</b></font><br>\n",
    "<font color='DarkMagenta'>👉 Нет описание данных в выводах не надо, оно должно быть в описании проекта.</font>"
   ]
  },
  {
   "cell_type": "markdown",
   "id": "21e11266",
   "metadata": {},
   "source": [
    "<font color='DarkBlue'><b>Заключительный комментарий ревьюера</b></font><br><br>\n",
    "<font color='DarkGreen'>👌 Алексей, проект хорошо проработан.<br>Так держать и дальше!<br></font>\n",
    "<font color='Red'>🛠 Что нужно, что бы сделать проект лучше:</font><br>\n",
    "<font color='Red'>🛠 Расширить ответ по возможным причинам появления пропусков в исходных данных. Сделать развернутый общий вывод проекта.<br>\n",
    "<font color='DarkMagenta'>👉 При исправлении ошибок и недочетов будут приобретены дополнительный опыт и навыки!</font><br>\n",
    "<font color='DarkGreen'>👌 Жду окончательный вариант! Успехов.</font>"
   ]
  },
  {
   "attachments": {
    "image.png": {
     "image/png": "[encoded data removed]"
    }
   },
   "cell_type": "markdown",
   "id": "b7346c15",
   "metadata": {},
   "source": [
    "<font color='DarkBlue'><b>Заключительный комментарий ревьюера 2</b></font><br><br>\n",
    "<font color='DarkGreen'>👌 Алексей! Справились со всеми заданиями в проекте. Молодец!<br>\n",
    "Входе выполнения проекта научились анализировать первичные данные и проводить обработку датасета. Провели самостоятельный исследовательский анализ.<br></font>\n",
    "<font color='DarkGreen'>👌 Теперь, вперед за новыми знаниями и навыками! Удачи! 😉</font>\n",
    "![image.png](attachment:image.png)"
   ]
  }
 ],
 "metadata": {
  "ExecuteTimeLog": [
   {
    "duration": 424,
    "start_time": "2024-07-17T23:10:59.638Z"
   },
   {
    "duration": 76,
    "start_time": "2024-07-17T23:11:02.486Z"
   },
   {
    "duration": 74,
    "start_time": "2024-07-17T23:11:21.126Z"
   },
   {
    "duration": 11,
    "start_time": "2024-07-17T23:46:46.290Z"
   },
   {
    "duration": 513,
    "start_time": "2024-07-17T23:47:10.664Z"
   },
   {
    "duration": 22,
    "start_time": "2024-07-17T23:47:11.179Z"
   },
   {
    "duration": 16,
    "start_time": "2024-07-17T23:47:11.203Z"
   },
   {
    "duration": 10,
    "start_time": "2024-07-17T23:47:11.221Z"
   },
   {
    "duration": 58,
    "start_time": "2024-07-17T23:47:11.233Z"
   },
   {
    "duration": 4,
    "start_time": "2024-07-17T23:47:11.292Z"
   },
   {
    "duration": 9,
    "start_time": "2024-07-17T23:47:11.297Z"
   },
   {
    "duration": 4,
    "start_time": "2024-07-17T23:47:11.307Z"
   },
   {
    "duration": 12,
    "start_time": "2024-07-17T23:47:11.312Z"
   },
   {
    "duration": 4,
    "start_time": "2024-07-17T23:47:11.325Z"
   },
   {
    "duration": 61,
    "start_time": "2024-07-17T23:47:11.331Z"
   },
   {
    "duration": 10,
    "start_time": "2024-07-17T23:47:11.394Z"
   },
   {
    "duration": 4,
    "start_time": "2024-07-17T23:47:11.406Z"
   },
   {
    "duration": 12,
    "start_time": "2024-07-17T23:47:11.413Z"
   },
   {
    "duration": 22,
    "start_time": "2024-07-17T23:47:11.426Z"
   },
   {
    "duration": 41,
    "start_time": "2024-07-17T23:47:11.449Z"
   },
   {
    "duration": 3,
    "start_time": "2024-07-17T23:47:11.492Z"
   },
   {
    "duration": 12,
    "start_time": "2024-07-17T23:47:11.497Z"
   },
   {
    "duration": 6,
    "start_time": "2024-07-17T23:47:11.510Z"
   },
   {
    "duration": 23,
    "start_time": "2024-07-17T23:47:11.517Z"
   },
   {
    "duration": 12,
    "start_time": "2024-07-17T23:47:11.541Z"
   },
   {
    "duration": 8,
    "start_time": "2024-07-17T23:47:11.555Z"
   },
   {
    "duration": 4,
    "start_time": "2024-07-17T23:47:11.564Z"
   },
   {
    "duration": 3,
    "start_time": "2024-07-17T23:47:11.570Z"
   },
   {
    "duration": 3,
    "start_time": "2024-07-17T23:47:11.584Z"
   },
   {
    "duration": 505,
    "start_time": "2024-07-19T11:51:41.138Z"
   },
   {
    "duration": 36,
    "start_time": "2024-07-19T11:51:45.770Z"
   },
   {
    "duration": 3,
    "start_time": "2024-07-19T11:51:46.750Z"
   },
   {
    "duration": 12,
    "start_time": "2024-07-19T11:51:47.132Z"
   },
   {
    "duration": 5,
    "start_time": "2024-07-19T11:51:48.131Z"
   },
   {
    "duration": 6,
    "start_time": "2024-07-19T11:51:49.030Z"
   },
   {
    "duration": 5,
    "start_time": "2024-07-19T11:51:50.087Z"
   },
   {
    "duration": 4,
    "start_time": "2024-07-19T11:52:04.408Z"
   },
   {
    "duration": 30,
    "start_time": "2024-07-19T11:52:05.471Z"
   },
   {
    "duration": 9,
    "start_time": "2024-07-19T11:52:05.933Z"
   },
   {
    "duration": 3,
    "start_time": "2024-07-19T11:52:07.218Z"
   },
   {
    "duration": 11,
    "start_time": "2024-07-19T11:52:08.150Z"
   },
   {
    "duration": 27,
    "start_time": "2024-07-19T11:52:08.987Z"
   },
   {
    "duration": 16,
    "start_time": "2024-07-19T11:52:09.467Z"
   },
   {
    "duration": 3,
    "start_time": "2024-07-19T11:52:11.250Z"
   },
   {
    "duration": 9,
    "start_time": "2024-07-19T11:52:11.590Z"
   },
   {
    "duration": 6,
    "start_time": "2024-07-19T11:52:12.483Z"
   },
   {
    "duration": 3,
    "start_time": "2024-07-19T11:52:14.251Z"
   },
   {
    "duration": 9,
    "start_time": "2024-07-19T11:52:14.850Z"
   },
   {
    "duration": 82,
    "start_time": "2024-07-19T12:00:22.999Z"
   },
   {
    "duration": 11,
    "start_time": "2024-07-19T12:00:34.793Z"
   },
   {
    "duration": 68,
    "start_time": "2024-07-19T12:01:10.655Z"
   },
   {
    "duration": 73,
    "start_time": "2024-07-19T12:01:24.870Z"
   },
   {
    "duration": 62,
    "start_time": "2024-07-19T12:01:39.226Z"
   },
   {
    "duration": 4,
    "start_time": "2024-07-19T12:02:28.347Z"
   },
   {
    "duration": 426,
    "start_time": "2024-07-19T12:02:42.358Z"
   },
   {
    "duration": 20,
    "start_time": "2024-07-19T12:02:42.786Z"
   },
   {
    "duration": 12,
    "start_time": "2024-07-19T12:02:42.808Z"
   },
   {
    "duration": 16,
    "start_time": "2024-07-19T12:02:42.822Z"
   },
   {
    "duration": 33,
    "start_time": "2024-07-19T12:02:42.839Z"
   },
   {
    "duration": 3,
    "start_time": "2024-07-19T12:02:42.873Z"
   },
   {
    "duration": 14,
    "start_time": "2024-07-19T12:02:42.878Z"
   },
   {
    "duration": 4,
    "start_time": "2024-07-19T12:02:42.893Z"
   },
   {
    "duration": 17,
    "start_time": "2024-07-19T12:02:42.898Z"
   },
   {
    "duration": 4,
    "start_time": "2024-07-19T12:02:42.919Z"
   },
   {
    "duration": 45,
    "start_time": "2024-07-19T12:02:42.924Z"
   },
   {
    "duration": 8,
    "start_time": "2024-07-19T12:02:42.970Z"
   },
   {
    "duration": 7,
    "start_time": "2024-07-19T12:02:42.979Z"
   },
   {
    "duration": 14,
    "start_time": "2024-07-19T12:02:42.988Z"
   },
   {
    "duration": 26,
    "start_time": "2024-07-19T12:02:43.003Z"
   },
   {
    "duration": 25,
    "start_time": "2024-07-19T12:02:43.030Z"
   },
   {
    "duration": 4,
    "start_time": "2024-07-19T12:02:43.057Z"
   },
   {
    "duration": 10,
    "start_time": "2024-07-19T12:02:43.062Z"
   },
   {
    "duration": 5,
    "start_time": "2024-07-19T12:02:43.073Z"
   },
   {
    "duration": 3,
    "start_time": "2024-07-19T12:02:43.079Z"
   },
   {
    "duration": 29,
    "start_time": "2024-07-19T12:02:43.084Z"
   },
   {
    "duration": 4,
    "start_time": "2024-07-19T12:02:43.115Z"
   },
   {
    "duration": 3,
    "start_time": "2024-07-19T12:02:43.120Z"
   },
   {
    "duration": 5,
    "start_time": "2024-07-19T12:02:43.124Z"
   },
   {
    "duration": 15,
    "start_time": "2024-07-19T12:02:43.131Z"
   },
   {
    "duration": 7,
    "start_time": "2024-07-19T12:02:48.508Z"
   },
   {
    "duration": 12,
    "start_time": "2024-07-19T12:03:01.059Z"
   },
   {
    "duration": 4,
    "start_time": "2024-07-19T12:03:08.544Z"
   },
   {
    "duration": 10,
    "start_time": "2024-07-19T12:03:09.443Z"
   },
   {
    "duration": 22,
    "start_time": "2024-07-19T12:03:10.236Z"
   },
   {
    "duration": 22,
    "start_time": "2024-07-19T12:03:10.605Z"
   },
   {
    "duration": 3,
    "start_time": "2024-07-19T12:03:11.885Z"
   },
   {
    "duration": 9,
    "start_time": "2024-07-19T12:03:12.338Z"
   },
   {
    "duration": 6,
    "start_time": "2024-07-19T12:03:12.918Z"
   },
   {
    "duration": 4,
    "start_time": "2024-07-19T12:03:13.950Z"
   },
   {
    "duration": 9,
    "start_time": "2024-07-19T12:03:14.353Z"
   },
   {
    "duration": 4,
    "start_time": "2024-07-19T12:03:32.414Z"
   },
   {
    "duration": 5,
    "start_time": "2024-07-19T12:03:40.700Z"
   },
   {
    "duration": 69,
    "start_time": "2024-07-19T12:05:21.579Z"
   },
   {
    "duration": 6,
    "start_time": "2024-07-19T12:05:32.089Z"
   },
   {
    "duration": 290,
    "start_time": "2024-07-19T12:05:57.624Z"
   },
   {
    "duration": 5,
    "start_time": "2024-07-19T12:06:03.320Z"
   },
   {
    "duration": 3,
    "start_time": "2024-07-19T12:06:44.413Z"
   },
   {
    "duration": 4,
    "start_time": "2024-07-19T12:06:50.686Z"
   },
   {
    "duration": 10,
    "start_time": "2024-07-19T12:11:39.592Z"
   },
   {
    "duration": 6,
    "start_time": "2024-07-19T12:28:57.748Z"
   },
   {
    "duration": 6,
    "start_time": "2024-07-19T12:29:27.210Z"
   },
   {
    "duration": 8,
    "start_time": "2024-07-19T12:31:27.041Z"
   },
   {
    "duration": 4,
    "start_time": "2024-07-19T12:31:45.793Z"
   },
   {
    "duration": 5,
    "start_time": "2024-07-19T12:32:05.519Z"
   },
   {
    "duration": 9,
    "start_time": "2024-07-19T12:32:17.054Z"
   },
   {
    "duration": 9,
    "start_time": "2024-07-19T12:42:00.846Z"
   },
   {
    "duration": 6,
    "start_time": "2024-07-19T12:42:13.814Z"
   },
   {
    "duration": 10,
    "start_time": "2024-07-19T12:42:32.499Z"
   },
   {
    "duration": 79,
    "start_time": "2024-07-19T12:44:49.931Z"
   },
   {
    "duration": 12,
    "start_time": "2024-07-19T12:46:11.326Z"
   },
   {
    "duration": 11,
    "start_time": "2024-07-19T12:47:17.320Z"
   },
   {
    "duration": 6,
    "start_time": "2024-07-19T12:50:20.845Z"
   },
   {
    "duration": 82,
    "start_time": "2024-07-19T12:50:45.155Z"
   },
   {
    "duration": 71,
    "start_time": "2024-07-19T12:51:03.098Z"
   },
   {
    "duration": 7,
    "start_time": "2024-07-19T12:51:24.278Z"
   },
   {
    "duration": 9,
    "start_time": "2024-07-19T12:55:44.775Z"
   },
   {
    "duration": 21,
    "start_time": "2024-07-19T13:06:24.986Z"
   },
   {
    "duration": 197,
    "start_time": "2024-07-19T15:37:05.019Z"
   },
   {
    "duration": 64,
    "start_time": "2024-07-19T15:37:17.152Z"
   },
   {
    "duration": 37,
    "start_time": "2024-07-19T15:37:23.930Z"
   },
   {
    "duration": 497,
    "start_time": "2024-07-19T15:37:38.290Z"
   },
   {
    "duration": 18,
    "start_time": "2024-07-19T15:37:38.788Z"
   },
   {
    "duration": 11,
    "start_time": "2024-07-19T15:37:38.807Z"
   },
   {
    "duration": 6,
    "start_time": "2024-07-19T15:37:38.820Z"
   },
   {
    "duration": 26,
    "start_time": "2024-07-19T15:37:38.827Z"
   },
   {
    "duration": 3,
    "start_time": "2024-07-19T15:37:38.854Z"
   },
   {
    "duration": 14,
    "start_time": "2024-07-19T15:37:38.858Z"
   },
   {
    "duration": 3,
    "start_time": "2024-07-19T15:37:38.873Z"
   },
   {
    "duration": 29,
    "start_time": "2024-07-19T15:37:38.877Z"
   },
   {
    "duration": 3,
    "start_time": "2024-07-19T15:37:38.908Z"
   },
   {
    "duration": 27,
    "start_time": "2024-07-19T15:37:38.912Z"
   },
   {
    "duration": 7,
    "start_time": "2024-07-19T15:37:38.940Z"
   },
   {
    "duration": 14,
    "start_time": "2024-07-19T15:37:38.948Z"
   },
   {
    "duration": 10,
    "start_time": "2024-07-19T15:37:38.963Z"
   },
   {
    "duration": 28,
    "start_time": "2024-07-19T15:37:38.974Z"
   },
   {
    "duration": 15,
    "start_time": "2024-07-19T15:37:39.003Z"
   },
   {
    "duration": 3,
    "start_time": "2024-07-19T15:37:39.019Z"
   },
   {
    "duration": 10,
    "start_time": "2024-07-19T15:37:39.023Z"
   },
   {
    "duration": 22,
    "start_time": "2024-07-19T15:37:39.034Z"
   },
   {
    "duration": 7,
    "start_time": "2024-07-19T15:37:39.057Z"
   },
   {
    "duration": 15,
    "start_time": "2024-07-19T15:37:39.065Z"
   },
   {
    "duration": 12,
    "start_time": "2024-07-19T15:37:39.081Z"
   },
   {
    "duration": 6,
    "start_time": "2024-07-19T15:37:39.094Z"
   },
   {
    "duration": 55,
    "start_time": "2024-07-19T15:37:39.101Z"
   },
   {
    "duration": 0,
    "start_time": "2024-07-19T15:37:39.158Z"
   },
   {
    "duration": 0,
    "start_time": "2024-07-19T15:37:39.159Z"
   },
   {
    "duration": 7,
    "start_time": "2024-07-19T15:37:57.901Z"
   },
   {
    "duration": 6,
    "start_time": "2024-07-19T15:38:11.304Z"
   },
   {
    "duration": 6,
    "start_time": "2024-07-19T15:38:19.587Z"
   },
   {
    "duration": 6,
    "start_time": "2024-07-19T15:38:35.962Z"
   },
   {
    "duration": 5,
    "start_time": "2024-07-19T15:40:50.279Z"
   },
   {
    "duration": 5,
    "start_time": "2024-07-19T15:41:01.792Z"
   },
   {
    "duration": 8,
    "start_time": "2024-07-19T15:41:19.834Z"
   },
   {
    "duration": 8,
    "start_time": "2024-07-19T15:53:01.962Z"
   },
   {
    "duration": 6,
    "start_time": "2024-07-19T15:53:09.738Z"
   },
   {
    "duration": 79,
    "start_time": "2024-07-19T15:53:21.556Z"
   },
   {
    "duration": 67,
    "start_time": "2024-07-19T15:53:55.560Z"
   },
   {
    "duration": 81,
    "start_time": "2024-07-19T15:54:05.388Z"
   },
   {
    "duration": 86,
    "start_time": "2024-07-19T15:54:28.051Z"
   },
   {
    "duration": 58,
    "start_time": "2024-07-19T15:54:36.332Z"
   },
   {
    "duration": 60,
    "start_time": "2024-07-19T15:55:19.566Z"
   },
   {
    "duration": 7,
    "start_time": "2024-07-19T15:55:23.978Z"
   },
   {
    "duration": 10,
    "start_time": "2024-07-19T15:55:42.646Z"
   },
   {
    "duration": 7,
    "start_time": "2024-07-19T17:34:51.261Z"
   },
   {
    "duration": 5,
    "start_time": "2024-07-19T17:46:09.350Z"
   },
   {
    "duration": 6,
    "start_time": "2024-07-19T17:46:20.726Z"
   },
   {
    "duration": 9,
    "start_time": "2024-07-19T17:46:46.690Z"
   },
   {
    "duration": 7,
    "start_time": "2024-07-19T17:47:03.560Z"
   },
   {
    "duration": 6,
    "start_time": "2024-07-19T17:50:45.530Z"
   },
   {
    "duration": 6,
    "start_time": "2024-07-19T17:51:45.416Z"
   },
   {
    "duration": 13,
    "start_time": "2024-07-19T17:52:39.601Z"
   },
   {
    "duration": 7,
    "start_time": "2024-07-19T17:53:16.715Z"
   },
   {
    "duration": 8,
    "start_time": "2024-07-19T17:53:36.376Z"
   },
   {
    "duration": 7,
    "start_time": "2024-07-19T17:53:50.285Z"
   },
   {
    "duration": 11,
    "start_time": "2024-07-19T17:57:11.945Z"
   },
   {
    "duration": 5,
    "start_time": "2024-07-19T17:59:37.640Z"
   },
   {
    "duration": 3,
    "start_time": "2024-07-19T18:04:29.799Z"
   },
   {
    "duration": 12,
    "start_time": "2024-07-19T18:04:46.968Z"
   },
   {
    "duration": 6,
    "start_time": "2024-07-19T18:05:00.964Z"
   },
   {
    "duration": 5,
    "start_time": "2024-07-19T18:05:07.937Z"
   },
   {
    "duration": 12,
    "start_time": "2024-07-19T18:05:18.071Z"
   },
   {
    "duration": 11,
    "start_time": "2024-07-19T18:05:34.626Z"
   },
   {
    "duration": 9,
    "start_time": "2024-07-19T18:08:28.649Z"
   },
   {
    "duration": 9,
    "start_time": "2024-07-19T18:09:28.357Z"
   },
   {
    "duration": 10,
    "start_time": "2024-07-19T18:09:44.350Z"
   },
   {
    "duration": 8,
    "start_time": "2024-07-19T18:10:21.883Z"
   },
   {
    "duration": 949,
    "start_time": "2024-07-19T18:10:32.357Z"
   },
   {
    "duration": 3,
    "start_time": "2024-07-19T18:10:37.800Z"
   },
   {
    "duration": 6,
    "start_time": "2024-07-19T18:11:15.416Z"
   },
   {
    "duration": 3,
    "start_time": "2024-07-19T18:11:29.049Z"
   },
   {
    "duration": 9,
    "start_time": "2024-07-19T18:12:42.837Z"
   },
   {
    "duration": 4,
    "start_time": "2024-07-19T18:12:57.336Z"
   },
   {
    "duration": 9,
    "start_time": "2024-07-19T18:13:07.578Z"
   },
   {
    "duration": 44,
    "start_time": "2024-07-20T15:24:02.666Z"
   },
   {
    "duration": 5,
    "start_time": "2024-07-20T15:24:06.278Z"
   },
   {
    "duration": 490,
    "start_time": "2024-07-20T15:24:11.454Z"
   },
   {
    "duration": 19,
    "start_time": "2024-07-20T15:24:11.946Z"
   },
   {
    "duration": 20,
    "start_time": "2024-07-20T15:24:11.966Z"
   },
   {
    "duration": 9,
    "start_time": "2024-07-20T15:24:11.987Z"
   },
   {
    "duration": 31,
    "start_time": "2024-07-20T15:24:11.998Z"
   },
   {
    "duration": 3,
    "start_time": "2024-07-20T15:24:12.030Z"
   },
   {
    "duration": 15,
    "start_time": "2024-07-20T15:24:12.034Z"
   },
   {
    "duration": 3,
    "start_time": "2024-07-20T15:24:12.051Z"
   },
   {
    "duration": 7,
    "start_time": "2024-07-20T15:24:12.055Z"
   },
   {
    "duration": 5,
    "start_time": "2024-07-20T15:24:12.063Z"
   },
   {
    "duration": 44,
    "start_time": "2024-07-20T15:24:12.069Z"
   },
   {
    "duration": 10,
    "start_time": "2024-07-20T15:24:12.115Z"
   },
   {
    "duration": 3,
    "start_time": "2024-07-20T15:24:12.126Z"
   },
   {
    "duration": 13,
    "start_time": "2024-07-20T15:24:12.131Z"
   },
   {
    "duration": 17,
    "start_time": "2024-07-20T15:24:12.145Z"
   },
   {
    "duration": 14,
    "start_time": "2024-07-20T15:24:12.163Z"
   },
   {
    "duration": 3,
    "start_time": "2024-07-20T15:24:12.178Z"
   },
   {
    "duration": 35,
    "start_time": "2024-07-20T15:24:12.182Z"
   },
   {
    "duration": 5,
    "start_time": "2024-07-20T15:24:12.219Z"
   },
   {
    "duration": 3,
    "start_time": "2024-07-20T15:24:12.226Z"
   },
   {
    "duration": 20,
    "start_time": "2024-07-20T15:24:12.230Z"
   },
   {
    "duration": 11,
    "start_time": "2024-07-20T15:24:12.252Z"
   },
   {
    "duration": 8,
    "start_time": "2024-07-20T15:24:12.264Z"
   },
   {
    "duration": 8,
    "start_time": "2024-07-20T15:24:12.273Z"
   },
   {
    "duration": 31,
    "start_time": "2024-07-20T15:24:12.283Z"
   },
   {
    "duration": 47,
    "start_time": "2024-07-20T15:24:12.316Z"
   },
   {
    "duration": 5,
    "start_time": "2024-07-20T15:24:31.309Z"
   },
   {
    "duration": 7,
    "start_time": "2024-07-20T15:25:07.495Z"
   },
   {
    "duration": 9,
    "start_time": "2024-07-20T15:25:56.502Z"
   },
   {
    "duration": 9,
    "start_time": "2024-07-20T15:26:12.807Z"
   },
   {
    "duration": 14,
    "start_time": "2024-07-20T15:26:37.041Z"
   },
   {
    "duration": 67,
    "start_time": "2024-07-20T15:34:09.509Z"
   },
   {
    "duration": 13,
    "start_time": "2024-07-20T15:37:16.353Z"
   },
   {
    "duration": 9,
    "start_time": "2024-07-20T15:37:50.991Z"
   },
   {
    "duration": 7,
    "start_time": "2024-07-20T15:38:09.102Z"
   },
   {
    "duration": 9,
    "start_time": "2024-07-20T15:38:15.010Z"
   },
   {
    "duration": 8,
    "start_time": "2024-07-20T15:38:42.306Z"
   },
   {
    "duration": 8,
    "start_time": "2024-07-20T15:39:08.566Z"
   },
   {
    "duration": 11,
    "start_time": "2024-07-20T15:39:27.337Z"
   },
   {
    "duration": 9,
    "start_time": "2024-07-20T15:41:58.444Z"
   },
   {
    "duration": 9,
    "start_time": "2024-07-20T15:42:08.818Z"
   },
   {
    "duration": 9,
    "start_time": "2024-07-20T15:42:18.245Z"
   },
   {
    "duration": 10,
    "start_time": "2024-07-20T15:44:03.767Z"
   },
   {
    "duration": 12,
    "start_time": "2024-07-20T15:44:22.818Z"
   },
   {
    "duration": 11,
    "start_time": "2024-07-20T15:45:14.581Z"
   },
   {
    "duration": 11,
    "start_time": "2024-07-20T15:45:55.163Z"
   },
   {
    "duration": 2,
    "start_time": "2024-07-20T15:52:56.374Z"
   },
   {
    "duration": 3,
    "start_time": "2024-07-20T15:53:59.430Z"
   },
   {
    "duration": 7,
    "start_time": "2024-07-20T15:54:01.563Z"
   },
   {
    "duration": 8,
    "start_time": "2024-07-20T15:54:09.593Z"
   },
   {
    "duration": 6,
    "start_time": "2024-07-20T15:55:19.479Z"
   },
   {
    "duration": 7,
    "start_time": "2024-07-20T15:55:28.233Z"
   },
   {
    "duration": 7,
    "start_time": "2024-07-20T15:55:37.201Z"
   },
   {
    "duration": 72,
    "start_time": "2024-07-20T15:58:13.906Z"
   },
   {
    "duration": 71,
    "start_time": "2024-07-20T15:58:43.176Z"
   },
   {
    "duration": 7,
    "start_time": "2024-07-20T15:58:59.630Z"
   },
   {
    "duration": 8,
    "start_time": "2024-07-20T16:04:38.119Z"
   },
   {
    "duration": 7,
    "start_time": "2024-07-20T16:05:54.127Z"
   },
   {
    "duration": 285,
    "start_time": "2024-07-20T16:11:21.848Z"
   },
   {
    "duration": 279,
    "start_time": "2024-07-20T16:12:36.686Z"
   },
   {
    "duration": 259,
    "start_time": "2024-07-20T16:14:30.213Z"
   },
   {
    "duration": 263,
    "start_time": "2024-07-20T16:15:08.478Z"
   },
   {
    "duration": 3,
    "start_time": "2024-07-20T16:15:27.291Z"
   },
   {
    "duration": 10,
    "start_time": "2024-07-20T16:15:47.105Z"
   },
   {
    "duration": 9,
    "start_time": "2024-07-20T16:16:05.433Z"
   },
   {
    "duration": 10,
    "start_time": "2024-07-20T16:16:21.522Z"
   },
   {
    "duration": 9,
    "start_time": "2024-07-20T16:17:09.953Z"
   },
   {
    "duration": 9,
    "start_time": "2024-07-20T16:17:15.556Z"
   },
   {
    "duration": 9,
    "start_time": "2024-07-20T16:17:39.688Z"
   },
   {
    "duration": 8,
    "start_time": "2024-07-20T16:17:42.433Z"
   },
   {
    "duration": 6,
    "start_time": "2024-07-20T16:18:58.080Z"
   },
   {
    "duration": 6,
    "start_time": "2024-07-20T16:19:03.762Z"
   },
   {
    "duration": 12,
    "start_time": "2024-07-20T16:19:18.038Z"
   },
   {
    "duration": 439,
    "start_time": "2024-07-20T16:19:49.421Z"
   },
   {
    "duration": 20,
    "start_time": "2024-07-20T16:19:49.862Z"
   },
   {
    "duration": 15,
    "start_time": "2024-07-20T16:19:49.883Z"
   },
   {
    "duration": 15,
    "start_time": "2024-07-20T16:19:49.900Z"
   },
   {
    "duration": 29,
    "start_time": "2024-07-20T16:19:49.916Z"
   },
   {
    "duration": 3,
    "start_time": "2024-07-20T16:19:49.947Z"
   },
   {
    "duration": 8,
    "start_time": "2024-07-20T16:19:49.951Z"
   },
   {
    "duration": 3,
    "start_time": "2024-07-20T16:19:49.960Z"
   },
   {
    "duration": 17,
    "start_time": "2024-07-20T16:19:49.964Z"
   },
   {
    "duration": 4,
    "start_time": "2024-07-20T16:19:49.984Z"
   },
   {
    "duration": 44,
    "start_time": "2024-07-20T16:19:49.989Z"
   },
   {
    "duration": 7,
    "start_time": "2024-07-20T16:19:50.035Z"
   },
   {
    "duration": 2,
    "start_time": "2024-07-20T16:19:50.044Z"
   },
   {
    "duration": 13,
    "start_time": "2024-07-20T16:19:50.047Z"
   },
   {
    "duration": 32,
    "start_time": "2024-07-20T16:19:50.061Z"
   },
   {
    "duration": 23,
    "start_time": "2024-07-20T16:19:50.094Z"
   },
   {
    "duration": 4,
    "start_time": "2024-07-20T16:19:50.119Z"
   },
   {
    "duration": 35,
    "start_time": "2024-07-20T16:19:50.124Z"
   },
   {
    "duration": 21,
    "start_time": "2024-07-20T16:19:50.160Z"
   },
   {
    "duration": 5,
    "start_time": "2024-07-20T16:19:50.183Z"
   },
   {
    "duration": 18,
    "start_time": "2024-07-20T16:19:50.189Z"
   },
   {
    "duration": 19,
    "start_time": "2024-07-20T16:19:50.208Z"
   },
   {
    "duration": 13,
    "start_time": "2024-07-20T16:19:50.228Z"
   },
   {
    "duration": 24,
    "start_time": "2024-07-20T16:19:50.243Z"
   },
   {
    "duration": 5,
    "start_time": "2024-07-20T16:19:50.269Z"
   },
   {
    "duration": 11,
    "start_time": "2024-07-20T16:19:50.275Z"
   },
   {
    "duration": 16,
    "start_time": "2024-07-20T16:19:50.287Z"
   },
   {
    "duration": 18,
    "start_time": "2024-07-20T16:19:50.307Z"
   },
   {
    "duration": 4,
    "start_time": "2024-07-20T16:22:56.596Z"
   },
   {
    "duration": 8,
    "start_time": "2024-07-20T16:23:01.432Z"
   },
   {
    "duration": 61,
    "start_time": "2024-07-20T16:41:43.968Z"
   },
   {
    "duration": 67,
    "start_time": "2024-07-20T16:41:53.463Z"
   },
   {
    "duration": 11,
    "start_time": "2024-07-20T16:42:15.248Z"
   },
   {
    "duration": 8,
    "start_time": "2024-07-20T16:42:46.515Z"
   },
   {
    "duration": 7,
    "start_time": "2024-07-20T16:43:11.501Z"
   },
   {
    "duration": 10,
    "start_time": "2024-07-20T16:46:21.660Z"
   },
   {
    "duration": 10,
    "start_time": "2024-07-20T16:47:11.057Z"
   },
   {
    "duration": 10,
    "start_time": "2024-07-20T16:47:44.244Z"
   },
   {
    "duration": 8,
    "start_time": "2024-07-20T16:48:04.355Z"
   },
   {
    "duration": 10,
    "start_time": "2024-07-20T16:49:39.838Z"
   },
   {
    "duration": 931,
    "start_time": "2024-07-20T16:50:58.560Z"
   },
   {
    "duration": 967,
    "start_time": "2024-07-20T16:51:07.203Z"
   },
   {
    "duration": 15,
    "start_time": "2024-07-20T16:51:29.119Z"
   },
   {
    "duration": 8,
    "start_time": "2024-07-20T16:54:55.328Z"
   },
   {
    "duration": 8,
    "start_time": "2024-07-20T16:56:26.080Z"
   },
   {
    "duration": 9,
    "start_time": "2024-07-20T16:56:34.684Z"
   },
   {
    "duration": 11,
    "start_time": "2024-07-20T16:56:39.516Z"
   },
   {
    "duration": 15,
    "start_time": "2024-07-20T17:13:16.836Z"
   },
   {
    "duration": 12,
    "start_time": "2024-07-20T17:16:27.276Z"
   },
   {
    "duration": 14,
    "start_time": "2024-07-20T17:16:49.546Z"
   },
   {
    "duration": 13,
    "start_time": "2024-07-20T17:17:00.750Z"
   },
   {
    "duration": 12,
    "start_time": "2024-07-20T17:17:16.461Z"
   },
   {
    "duration": 13,
    "start_time": "2024-07-20T17:17:23.529Z"
   },
   {
    "duration": 14,
    "start_time": "2024-07-20T17:19:27.964Z"
   },
   {
    "duration": 11,
    "start_time": "2024-07-20T18:41:07.306Z"
   },
   {
    "duration": 12,
    "start_time": "2024-07-20T18:41:16.757Z"
   },
   {
    "duration": 7,
    "start_time": "2024-07-20T18:41:31.449Z"
   },
   {
    "duration": 11,
    "start_time": "2024-07-20T18:41:32.561Z"
   },
   {
    "duration": 460,
    "start_time": "2024-07-20T18:42:28.711Z"
   },
   {
    "duration": 19,
    "start_time": "2024-07-20T18:42:29.173Z"
   },
   {
    "duration": 14,
    "start_time": "2024-07-20T18:42:29.193Z"
   },
   {
    "duration": 14,
    "start_time": "2024-07-20T18:42:29.209Z"
   },
   {
    "duration": 31,
    "start_time": "2024-07-20T18:42:29.226Z"
   },
   {
    "duration": 3,
    "start_time": "2024-07-20T18:42:29.258Z"
   },
   {
    "duration": 14,
    "start_time": "2024-07-20T18:42:29.263Z"
   },
   {
    "duration": 3,
    "start_time": "2024-07-20T18:42:29.279Z"
   },
   {
    "duration": 8,
    "start_time": "2024-07-20T18:42:29.283Z"
   },
   {
    "duration": 6,
    "start_time": "2024-07-20T18:42:29.313Z"
   },
   {
    "duration": 33,
    "start_time": "2024-07-20T18:42:29.321Z"
   },
   {
    "duration": 9,
    "start_time": "2024-07-20T18:42:29.355Z"
   },
   {
    "duration": 4,
    "start_time": "2024-07-20T18:42:29.365Z"
   },
   {
    "duration": 26,
    "start_time": "2024-07-20T18:42:29.370Z"
   },
   {
    "duration": 34,
    "start_time": "2024-07-20T18:42:29.398Z"
   },
   {
    "duration": 16,
    "start_time": "2024-07-20T18:42:29.434Z"
   },
   {
    "duration": 3,
    "start_time": "2024-07-20T18:42:29.452Z"
   },
   {
    "duration": 12,
    "start_time": "2024-07-20T18:42:29.457Z"
   },
   {
    "duration": 5,
    "start_time": "2024-07-20T18:42:29.470Z"
   },
   {
    "duration": 3,
    "start_time": "2024-07-20T18:42:29.477Z"
   },
   {
    "duration": 42,
    "start_time": "2024-07-20T18:42:29.482Z"
   },
   {
    "duration": 13,
    "start_time": "2024-07-20T18:42:29.526Z"
   },
   {
    "duration": 7,
    "start_time": "2024-07-20T18:42:29.540Z"
   },
   {
    "duration": 7,
    "start_time": "2024-07-20T18:42:29.548Z"
   },
   {
    "duration": 5,
    "start_time": "2024-07-20T18:42:29.557Z"
   },
   {
    "duration": 6,
    "start_time": "2024-07-20T18:42:29.564Z"
   },
   {
    "duration": 41,
    "start_time": "2024-07-20T18:42:29.572Z"
   },
   {
    "duration": 16,
    "start_time": "2024-07-20T18:42:29.616Z"
   },
   {
    "duration": 12,
    "start_time": "2024-07-20T18:42:47.755Z"
   },
   {
    "duration": 13,
    "start_time": "2024-07-20T18:43:35.105Z"
   },
   {
    "duration": 14,
    "start_time": "2024-07-20T18:43:39.847Z"
   },
   {
    "duration": 270,
    "start_time": "2024-07-20T18:44:13.572Z"
   },
   {
    "duration": 306,
    "start_time": "2024-07-20T18:44:42.087Z"
   },
   {
    "duration": 83,
    "start_time": "2024-07-20T18:45:13.505Z"
   },
   {
    "duration": 221,
    "start_time": "2024-07-20T18:45:38.442Z"
   },
   {
    "duration": 17,
    "start_time": "2024-07-20T18:46:41.064Z"
   },
   {
    "duration": 964,
    "start_time": "2024-07-20T18:49:33.292Z"
   },
   {
    "duration": 7,
    "start_time": "2024-07-20T18:49:40.124Z"
   },
   {
    "duration": 1207,
    "start_time": "2024-07-20T18:49:40.883Z"
   },
   {
    "duration": 1031,
    "start_time": "2024-07-20T18:50:10.698Z"
   },
   {
    "duration": 12,
    "start_time": "2024-07-20T18:51:25.263Z"
   },
   {
    "duration": 7,
    "start_time": "2024-07-20T19:06:16.833Z"
   },
   {
    "duration": 20,
    "start_time": "2024-07-20T19:06:53.208Z"
   },
   {
    "duration": 6,
    "start_time": "2024-07-20T19:07:48.995Z"
   },
   {
    "duration": 9,
    "start_time": "2024-07-20T19:11:02.408Z"
   },
   {
    "duration": 13,
    "start_time": "2024-07-20T19:11:10.439Z"
   },
   {
    "duration": 17,
    "start_time": "2024-07-20T19:11:24.575Z"
   },
   {
    "duration": 8,
    "start_time": "2024-07-20T19:11:45.296Z"
   },
   {
    "duration": 8,
    "start_time": "2024-07-20T19:12:20.341Z"
   },
   {
    "duration": 11,
    "start_time": "2024-07-20T19:12:27.532Z"
   },
   {
    "duration": 6,
    "start_time": "2024-07-20T19:12:59.743Z"
   },
   {
    "duration": 10,
    "start_time": "2024-07-20T19:16:04.700Z"
   },
   {
    "duration": 9,
    "start_time": "2024-07-20T19:16:27.172Z"
   },
   {
    "duration": 7,
    "start_time": "2024-07-20T19:18:03.601Z"
   },
   {
    "duration": 7,
    "start_time": "2024-07-20T19:18:12.581Z"
   },
   {
    "duration": 7,
    "start_time": "2024-07-20T19:18:42.642Z"
   },
   {
    "duration": 7,
    "start_time": "2024-07-20T19:18:53.169Z"
   },
   {
    "duration": 4,
    "start_time": "2024-07-20T19:19:05.750Z"
   },
   {
    "duration": 419,
    "start_time": "2024-07-20T19:19:21.865Z"
   },
   {
    "duration": 21,
    "start_time": "2024-07-20T19:19:22.286Z"
   },
   {
    "duration": 14,
    "start_time": "2024-07-20T19:19:22.311Z"
   },
   {
    "duration": 9,
    "start_time": "2024-07-20T19:19:22.326Z"
   },
   {
    "duration": 35,
    "start_time": "2024-07-20T19:19:22.337Z"
   },
   {
    "duration": 4,
    "start_time": "2024-07-20T19:19:22.373Z"
   },
   {
    "duration": 40,
    "start_time": "2024-07-20T19:19:22.378Z"
   },
   {
    "duration": 4,
    "start_time": "2024-07-20T19:19:22.420Z"
   },
   {
    "duration": 7,
    "start_time": "2024-07-20T19:19:22.427Z"
   },
   {
    "duration": 4,
    "start_time": "2024-07-20T19:19:22.435Z"
   },
   {
    "duration": 26,
    "start_time": "2024-07-20T19:19:22.440Z"
   },
   {
    "duration": 8,
    "start_time": "2024-07-20T19:19:22.468Z"
   },
   {
    "duration": 3,
    "start_time": "2024-07-20T19:19:22.478Z"
   },
   {
    "duration": 11,
    "start_time": "2024-07-20T19:19:22.512Z"
   },
   {
    "duration": 23,
    "start_time": "2024-07-20T19:19:22.524Z"
   },
   {
    "duration": 14,
    "start_time": "2024-07-20T19:19:22.549Z"
   },
   {
    "duration": 3,
    "start_time": "2024-07-20T19:19:22.565Z"
   },
   {
    "duration": 23,
    "start_time": "2024-07-20T19:19:22.569Z"
   },
   {
    "duration": 6,
    "start_time": "2024-07-20T19:19:22.593Z"
   },
   {
    "duration": 13,
    "start_time": "2024-07-20T19:19:22.600Z"
   },
   {
    "duration": 10,
    "start_time": "2024-07-20T19:19:22.614Z"
   },
   {
    "duration": 9,
    "start_time": "2024-07-20T19:19:22.625Z"
   },
   {
    "duration": 6,
    "start_time": "2024-07-20T19:19:22.636Z"
   },
   {
    "duration": 14,
    "start_time": "2024-07-20T19:19:22.643Z"
   },
   {
    "duration": 8,
    "start_time": "2024-07-20T19:19:22.658Z"
   },
   {
    "duration": 41,
    "start_time": "2024-07-20T19:19:22.667Z"
   },
   {
    "duration": 17,
    "start_time": "2024-07-20T19:19:22.710Z"
   },
   {
    "duration": 5,
    "start_time": "2024-07-20T19:19:22.728Z"
   },
   {
    "duration": 62,
    "start_time": "2024-07-20T19:21:25.542Z"
   },
   {
    "duration": 62,
    "start_time": "2024-07-20T19:21:51.755Z"
   },
   {
    "duration": 7,
    "start_time": "2024-07-20T19:21:58.451Z"
   },
   {
    "duration": 66,
    "start_time": "2024-07-20T20:09:59.208Z"
   },
   {
    "duration": 6,
    "start_time": "2024-07-20T20:10:19.533Z"
   },
   {
    "duration": 8,
    "start_time": "2024-07-20T20:10:27.130Z"
   },
   {
    "duration": 9,
    "start_time": "2024-07-20T20:17:02.022Z"
   },
   {
    "duration": 8,
    "start_time": "2024-07-20T20:22:34.293Z"
   },
   {
    "duration": 10,
    "start_time": "2024-07-20T20:22:51.226Z"
   },
   {
    "duration": 7,
    "start_time": "2024-07-20T20:23:43.026Z"
   },
   {
    "duration": 64,
    "start_time": "2024-07-20T20:27:26.657Z"
   },
   {
    "duration": 12,
    "start_time": "2024-07-20T20:27:36.407Z"
   },
   {
    "duration": 10,
    "start_time": "2024-07-20T21:08:43.679Z"
   },
   {
    "duration": 14,
    "start_time": "2024-07-20T21:09:33.703Z"
   },
   {
    "duration": 14,
    "start_time": "2024-07-20T21:09:51.869Z"
   },
   {
    "duration": 12,
    "start_time": "2024-07-20T21:11:31.421Z"
   },
   {
    "duration": 12,
    "start_time": "2024-07-20T21:16:12.668Z"
   },
   {
    "duration": 11,
    "start_time": "2024-07-20T22:45:20.198Z"
   },
   {
    "duration": 6,
    "start_time": "2024-07-20T22:45:42.198Z"
   },
   {
    "duration": 9,
    "start_time": "2024-07-20T22:45:43.111Z"
   },
   {
    "duration": 12,
    "start_time": "2024-07-20T22:45:43.740Z"
   },
   {
    "duration": 434,
    "start_time": "2024-07-21T17:21:13.386Z"
   },
   {
    "duration": 21,
    "start_time": "2024-07-21T17:21:13.822Z"
   },
   {
    "duration": 17,
    "start_time": "2024-07-21T17:21:13.844Z"
   },
   {
    "duration": 10,
    "start_time": "2024-07-21T17:21:13.863Z"
   },
   {
    "duration": 37,
    "start_time": "2024-07-21T17:21:13.875Z"
   },
   {
    "duration": 3,
    "start_time": "2024-07-21T17:21:13.915Z"
   },
   {
    "duration": 12,
    "start_time": "2024-07-21T17:21:13.920Z"
   },
   {
    "duration": 30,
    "start_time": "2024-07-21T17:21:13.933Z"
   },
   {
    "duration": 14,
    "start_time": "2024-07-21T17:21:13.965Z"
   },
   {
    "duration": 6,
    "start_time": "2024-07-21T17:21:13.981Z"
   },
   {
    "duration": 43,
    "start_time": "2024-07-21T17:21:13.989Z"
   },
   {
    "duration": 39,
    "start_time": "2024-07-21T17:21:14.033Z"
   },
   {
    "duration": 4,
    "start_time": "2024-07-21T17:21:14.074Z"
   },
   {
    "duration": 19,
    "start_time": "2024-07-21T17:21:14.081Z"
   },
   {
    "duration": 23,
    "start_time": "2024-07-21T17:21:14.102Z"
   },
   {
    "duration": 39,
    "start_time": "2024-07-21T17:21:14.127Z"
   },
   {
    "duration": 3,
    "start_time": "2024-07-21T17:21:14.167Z"
   },
   {
    "duration": 14,
    "start_time": "2024-07-21T17:21:14.171Z"
   },
   {
    "duration": 7,
    "start_time": "2024-07-21T17:21:14.187Z"
   },
   {
    "duration": 7,
    "start_time": "2024-07-21T17:21:14.195Z"
   },
   {
    "duration": 9,
    "start_time": "2024-07-21T17:21:14.203Z"
   },
   {
    "duration": 12,
    "start_time": "2024-07-21T17:21:14.213Z"
   },
   {
    "duration": 39,
    "start_time": "2024-07-21T17:21:14.226Z"
   },
   {
    "duration": 7,
    "start_time": "2024-07-21T17:21:14.267Z"
   },
   {
    "duration": 6,
    "start_time": "2024-07-21T17:21:14.276Z"
   },
   {
    "duration": 8,
    "start_time": "2024-07-21T17:21:14.283Z"
   },
   {
    "duration": 16,
    "start_time": "2024-07-21T17:21:14.292Z"
   },
   {
    "duration": 12,
    "start_time": "2024-07-21T17:21:14.309Z"
   },
   {
    "duration": 352,
    "start_time": "2024-07-21T17:43:32.643Z"
   },
   {
    "duration": 50,
    "start_time": "2024-07-21T22:03:45.016Z"
   },
   {
    "duration": 733,
    "start_time": "2024-07-21T22:04:00.376Z"
   },
   {
    "duration": 23,
    "start_time": "2024-07-21T22:04:01.111Z"
   },
   {
    "duration": 40,
    "start_time": "2024-07-21T22:04:01.135Z"
   },
   {
    "duration": 32,
    "start_time": "2024-07-21T22:04:01.176Z"
   },
   {
    "duration": 70,
    "start_time": "2024-07-21T22:04:01.210Z"
   },
   {
    "duration": 3,
    "start_time": "2024-07-21T22:04:01.282Z"
   },
   {
    "duration": 39,
    "start_time": "2024-07-21T22:04:01.286Z"
   },
   {
    "duration": 16,
    "start_time": "2024-07-21T22:04:01.327Z"
   },
   {
    "duration": 115,
    "start_time": "2024-07-21T22:04:01.344Z"
   },
   {
    "duration": 21,
    "start_time": "2024-07-21T22:04:01.461Z"
   },
   {
    "duration": 69,
    "start_time": "2024-07-21T22:04:01.484Z"
   },
   {
    "duration": 11,
    "start_time": "2024-07-21T22:04:01.554Z"
   },
   {
    "duration": 30,
    "start_time": "2024-07-21T22:04:01.566Z"
   },
   {
    "duration": 44,
    "start_time": "2024-07-21T22:04:01.599Z"
   },
   {
    "duration": 23,
    "start_time": "2024-07-21T22:04:01.644Z"
   },
   {
    "duration": 16,
    "start_time": "2024-07-21T22:04:01.668Z"
   },
   {
    "duration": 3,
    "start_time": "2024-07-21T22:04:01.685Z"
   },
   {
    "duration": 20,
    "start_time": "2024-07-21T22:04:01.689Z"
   },
   {
    "duration": 15,
    "start_time": "2024-07-21T22:04:01.710Z"
   },
   {
    "duration": 8,
    "start_time": "2024-07-21T22:04:01.726Z"
   },
   {
    "duration": 14,
    "start_time": "2024-07-21T22:04:01.735Z"
   },
   {
    "duration": 11,
    "start_time": "2024-07-21T22:04:01.750Z"
   },
   {
    "duration": 8,
    "start_time": "2024-07-21T22:04:01.763Z"
   },
   {
    "duration": 507,
    "start_time": "2024-07-21T22:04:01.772Z"
   },
   {
    "duration": 9,
    "start_time": "2024-07-21T22:04:02.280Z"
   },
   {
    "duration": 35,
    "start_time": "2024-07-21T22:04:02.291Z"
   },
   {
    "duration": 14,
    "start_time": "2024-07-21T22:04:02.327Z"
   },
   {
    "duration": 13,
    "start_time": "2024-07-21T22:04:02.342Z"
   },
   {
    "duration": 23,
    "start_time": "2024-07-21T22:04:02.357Z"
   },
   {
    "duration": 20,
    "start_time": "2024-07-21T23:44:14.008Z"
   },
   {
    "duration": 35,
    "start_time": "2024-07-21T23:45:20.071Z"
   },
   {
    "duration": 9,
    "start_time": "2024-07-21T23:46:18.514Z"
   },
   {
    "duration": 49,
    "start_time": "2024-07-21T23:49:07.569Z"
   },
   {
    "duration": 61,
    "start_time": "2024-07-21T23:53:14.756Z"
   },
   {
    "duration": 100,
    "start_time": "2024-07-21T23:53:51.148Z"
   },
   {
    "duration": 36,
    "start_time": "2024-07-21T23:54:55.589Z"
   },
   {
    "duration": 27,
    "start_time": "2024-07-21T23:55:20.280Z"
   },
   {
    "duration": 34,
    "start_time": "2024-07-21T23:55:43.699Z"
   },
   {
    "duration": 37,
    "start_time": "2024-07-21T23:55:59.223Z"
   },
   {
    "duration": 28,
    "start_time": "2024-07-21T23:56:10.153Z"
   },
   {
    "duration": 7,
    "start_time": "2024-07-21T23:56:18.585Z"
   },
   {
    "duration": 8,
    "start_time": "2024-07-21T23:56:22.086Z"
   },
   {
    "duration": 6,
    "start_time": "2024-07-21T23:56:34.949Z"
   },
   {
    "duration": 8,
    "start_time": "2024-07-21T23:56:35.210Z"
   },
   {
    "duration": 13,
    "start_time": "2024-07-21T23:56:35.871Z"
   },
   {
    "duration": 8,
    "start_time": "2024-07-22T00:11:59.768Z"
   },
   {
    "duration": 7,
    "start_time": "2024-07-22T00:13:21.922Z"
   },
   {
    "duration": 8,
    "start_time": "2024-07-22T00:13:43.704Z"
   },
   {
    "duration": 4,
    "start_time": "2024-07-22T00:14:54.673Z"
   },
   {
    "duration": 12,
    "start_time": "2024-07-22T00:15:35.848Z"
   },
   {
    "duration": 8,
    "start_time": "2024-07-22T00:16:42.424Z"
   },
   {
    "duration": 68,
    "start_time": "2024-07-22T00:25:11.611Z"
   },
   {
    "duration": 7,
    "start_time": "2024-07-22T00:27:51.278Z"
   },
   {
    "duration": 43,
    "start_time": "2024-07-22T15:39:44.776Z"
   },
   {
    "duration": 7,
    "start_time": "2024-07-22T15:40:10.749Z"
   },
   {
    "duration": 690,
    "start_time": "2024-07-22T15:40:24.007Z"
   },
   {
    "duration": 20,
    "start_time": "2024-07-22T15:40:24.699Z"
   },
   {
    "duration": 24,
    "start_time": "2024-07-22T15:40:24.721Z"
   },
   {
    "duration": 9,
    "start_time": "2024-07-22T15:40:24.747Z"
   },
   {
    "duration": 40,
    "start_time": "2024-07-22T15:40:24.757Z"
   },
   {
    "duration": 4,
    "start_time": "2024-07-22T15:40:24.798Z"
   },
   {
    "duration": 8,
    "start_time": "2024-07-22T15:40:24.803Z"
   },
   {
    "duration": 55,
    "start_time": "2024-07-22T15:40:24.813Z"
   },
   {
    "duration": 15,
    "start_time": "2024-07-22T15:40:24.870Z"
   },
   {
    "duration": 4,
    "start_time": "2024-07-22T15:40:24.889Z"
   },
   {
    "duration": 35,
    "start_time": "2024-07-22T15:40:24.894Z"
   },
   {
    "duration": 10,
    "start_time": "2024-07-22T15:40:24.930Z"
   },
   {
    "duration": 4,
    "start_time": "2024-07-22T15:40:24.941Z"
   },
   {
    "duration": 14,
    "start_time": "2024-07-22T15:40:24.946Z"
   },
   {
    "duration": 35,
    "start_time": "2024-07-22T15:40:24.962Z"
   },
   {
    "duration": 16,
    "start_time": "2024-07-22T15:40:24.998Z"
   },
   {
    "duration": 3,
    "start_time": "2024-07-22T15:40:25.016Z"
   },
   {
    "duration": 19,
    "start_time": "2024-07-22T15:40:25.021Z"
   },
   {
    "duration": 21,
    "start_time": "2024-07-22T15:40:25.041Z"
   },
   {
    "duration": 4,
    "start_time": "2024-07-22T15:40:25.063Z"
   },
   {
    "duration": 10,
    "start_time": "2024-07-22T15:40:25.068Z"
   },
   {
    "duration": 11,
    "start_time": "2024-07-22T15:40:25.079Z"
   },
   {
    "duration": 7,
    "start_time": "2024-07-22T15:40:25.095Z"
   },
   {
    "duration": 483,
    "start_time": "2024-07-22T15:40:25.103Z"
   },
   {
    "duration": 12,
    "start_time": "2024-07-22T15:40:25.588Z"
   },
   {
    "duration": 6,
    "start_time": "2024-07-22T15:40:25.602Z"
   },
   {
    "duration": 8,
    "start_time": "2024-07-22T15:40:25.609Z"
   },
   {
    "duration": 4,
    "start_time": "2024-07-22T15:40:25.620Z"
   },
   {
    "duration": 13,
    "start_time": "2024-07-22T15:40:25.625Z"
   },
   {
    "duration": 13,
    "start_time": "2024-07-22T15:40:25.640Z"
   },
   {
    "duration": 6,
    "start_time": "2024-07-22T15:40:25.655Z"
   },
   {
    "duration": 9,
    "start_time": "2024-07-22T15:40:47.726Z"
   },
   {
    "duration": 9,
    "start_time": "2024-07-22T15:42:15.260Z"
   },
   {
    "duration": 430,
    "start_time": "2024-07-22T15:44:56.233Z"
   },
   {
    "duration": 20,
    "start_time": "2024-07-22T15:44:56.664Z"
   },
   {
    "duration": 15,
    "start_time": "2024-07-22T15:44:56.685Z"
   },
   {
    "duration": 9,
    "start_time": "2024-07-22T15:44:56.702Z"
   },
   {
    "duration": 32,
    "start_time": "2024-07-22T15:44:56.713Z"
   },
   {
    "duration": 4,
    "start_time": "2024-07-22T15:44:56.746Z"
   },
   {
    "duration": 21,
    "start_time": "2024-07-22T15:44:56.751Z"
   },
   {
    "duration": 23,
    "start_time": "2024-07-22T15:44:56.773Z"
   },
   {
    "duration": 5,
    "start_time": "2024-07-22T15:44:56.798Z"
   },
   {
    "duration": 4,
    "start_time": "2024-07-22T15:44:56.806Z"
   },
   {
    "duration": 33,
    "start_time": "2024-07-22T15:44:56.811Z"
   },
   {
    "duration": 10,
    "start_time": "2024-07-22T15:44:56.845Z"
   },
   {
    "duration": 8,
    "start_time": "2024-07-22T15:44:56.856Z"
   },
   {
    "duration": 38,
    "start_time": "2024-07-22T15:44:56.865Z"
   },
   {
    "duration": 27,
    "start_time": "2024-07-22T15:44:56.904Z"
   },
   {
    "duration": 15,
    "start_time": "2024-07-22T15:44:56.932Z"
   },
   {
    "duration": 3,
    "start_time": "2024-07-22T15:44:56.949Z"
   },
   {
    "duration": 13,
    "start_time": "2024-07-22T15:44:56.953Z"
   },
   {
    "duration": 11,
    "start_time": "2024-07-22T15:44:56.968Z"
   },
   {
    "duration": 17,
    "start_time": "2024-07-22T15:44:56.980Z"
   },
   {
    "duration": 14,
    "start_time": "2024-07-22T15:44:56.999Z"
   },
   {
    "duration": 15,
    "start_time": "2024-07-22T15:44:57.015Z"
   },
   {
    "duration": 18,
    "start_time": "2024-07-22T15:44:57.031Z"
   },
   {
    "duration": 286,
    "start_time": "2024-07-22T15:44:57.051Z"
   },
   {
    "duration": 7,
    "start_time": "2024-07-22T15:44:57.339Z"
   },
   {
    "duration": 6,
    "start_time": "2024-07-22T15:44:57.347Z"
   },
   {
    "duration": 8,
    "start_time": "2024-07-22T15:44:57.354Z"
   },
   {
    "duration": 33,
    "start_time": "2024-07-22T15:44:57.365Z"
   },
   {
    "duration": 10,
    "start_time": "2024-07-22T15:44:57.400Z"
   },
   {
    "duration": 11,
    "start_time": "2024-07-22T15:44:57.412Z"
   },
   {
    "duration": 7,
    "start_time": "2024-07-22T15:44:57.425Z"
   },
   {
    "duration": 453,
    "start_time": "2024-07-22T23:46:34.100Z"
   },
   {
    "duration": 23,
    "start_time": "2024-07-22T23:46:34.554Z"
   },
   {
    "duration": 15,
    "start_time": "2024-07-22T23:46:34.579Z"
   },
   {
    "duration": 11,
    "start_time": "2024-07-22T23:46:34.596Z"
   },
   {
    "duration": 59,
    "start_time": "2024-07-22T23:46:34.609Z"
   },
   {
    "duration": 3,
    "start_time": "2024-07-22T23:46:34.670Z"
   },
   {
    "duration": 13,
    "start_time": "2024-07-22T23:46:34.674Z"
   },
   {
    "duration": 4,
    "start_time": "2024-07-22T23:46:34.689Z"
   },
   {
    "duration": 31,
    "start_time": "2024-07-22T23:46:34.694Z"
   },
   {
    "duration": 4,
    "start_time": "2024-07-22T23:46:34.727Z"
   },
   {
    "duration": 39,
    "start_time": "2024-07-22T23:46:34.732Z"
   },
   {
    "duration": 11,
    "start_time": "2024-07-22T23:46:34.772Z"
   },
   {
    "duration": 5,
    "start_time": "2024-07-22T23:46:34.784Z"
   },
   {
    "duration": 15,
    "start_time": "2024-07-22T23:46:34.792Z"
   },
   {
    "duration": 20,
    "start_time": "2024-07-22T23:46:34.809Z"
   },
   {
    "duration": 37,
    "start_time": "2024-07-22T23:46:34.830Z"
   },
   {
    "duration": 3,
    "start_time": "2024-07-22T23:46:34.869Z"
   },
   {
    "duration": 11,
    "start_time": "2024-07-22T23:46:34.873Z"
   },
   {
    "duration": 31,
    "start_time": "2024-07-22T23:46:34.886Z"
   },
   {
    "duration": 30,
    "start_time": "2024-07-22T23:46:34.918Z"
   },
   {
    "duration": 9,
    "start_time": "2024-07-22T23:46:34.949Z"
   },
   {
    "duration": 11,
    "start_time": "2024-07-22T23:46:34.960Z"
   },
   {
    "duration": 7,
    "start_time": "2024-07-22T23:46:34.972Z"
   },
   {
    "duration": 339,
    "start_time": "2024-07-22T23:46:34.981Z"
   },
   {
    "duration": 9,
    "start_time": "2024-07-22T23:46:35.322Z"
   },
   {
    "duration": 25,
    "start_time": "2024-07-22T23:46:35.333Z"
   },
   {
    "duration": 8,
    "start_time": "2024-07-22T23:46:35.360Z"
   },
   {
    "duration": 10,
    "start_time": "2024-07-22T23:46:35.370Z"
   },
   {
    "duration": 13,
    "start_time": "2024-07-22T23:46:35.381Z"
   },
   {
    "duration": 18,
    "start_time": "2024-07-22T23:46:35.395Z"
   },
   {
    "duration": 41,
    "start_time": "2024-07-22T23:46:35.415Z"
   },
   {
    "duration": 33,
    "start_time": "2024-07-22T23:54:54.318Z"
   },
   {
    "duration": 90,
    "start_time": "2024-07-22T23:56:51.456Z"
   },
   {
    "duration": 14,
    "start_time": "2024-07-22T23:56:59.860Z"
   },
   {
    "duration": 16,
    "start_time": "2024-07-22T23:59:43.438Z"
   },
   {
    "duration": 16,
    "start_time": "2024-07-22T23:59:58.983Z"
   },
   {
    "duration": 22,
    "start_time": "2024-07-23T00:01:10.939Z"
   },
   {
    "duration": 18,
    "start_time": "2024-07-23T00:01:38.982Z"
   },
   {
    "duration": 63,
    "start_time": "2024-07-23T00:06:03.503Z"
   },
   {
    "duration": 73,
    "start_time": "2024-07-23T00:07:38.831Z"
   },
   {
    "duration": 15,
    "start_time": "2024-07-23T00:08:23.321Z"
   },
   {
    "duration": 32,
    "start_time": "2024-07-23T00:09:26.304Z"
   },
   {
    "duration": 32,
    "start_time": "2024-07-23T00:09:55.780Z"
   },
   {
    "duration": 38,
    "start_time": "2024-07-23T00:11:46.813Z"
   },
   {
    "duration": 37,
    "start_time": "2024-07-23T00:12:29.332Z"
   },
   {
    "duration": 42,
    "start_time": "2024-07-23T00:15:29.114Z"
   },
   {
    "duration": 36,
    "start_time": "2024-07-23T00:17:58.503Z"
   },
   {
    "duration": 9,
    "start_time": "2024-07-23T00:20:03.403Z"
   },
   {
    "duration": 28,
    "start_time": "2024-07-23T00:20:27.381Z"
   },
   {
    "duration": 28,
    "start_time": "2024-07-23T00:20:57.022Z"
   },
   {
    "duration": 24,
    "start_time": "2024-07-23T00:21:11.558Z"
   },
   {
    "duration": 29,
    "start_time": "2024-07-23T00:21:23.094Z"
   },
   {
    "duration": 245,
    "start_time": "2024-07-23T00:26:50.320Z"
   }
  ],
  "colab": {
   "provenance": []
  },
  "kernelspec": {
   "display_name": "Python 3 (ipykernel)",
   "language": "python",
   "name": "python3"
  },
  "language_info": {
   "codemirror_mode": {
    "name": "ipython",
    "version": 3
   },
   "file_extension": ".py",
   "mimetype": "text/x-python",
   "name": "python",
   "nbconvert_exporter": "python",
   "pygments_lexer": "ipython3",
   "version": "3.9.5"
  },
  "toc": {
   "base_numbering": 1,
   "nav_menu": {},
   "number_sections": true,
   "sideBar": true,
   "skip_h1_title": true,
   "title_cell": "Table of Contents",
   "title_sidebar": "Contents",
   "toc_cell": false,
   "toc_position": {
    "height": "calc(100% - 180px)",
    "left": "10px",
    "top": "150px",
    "width": "190.943px"
   },
   "toc_section_display": true,
   "toc_window_display": true
  }
 },
 "nbformat": 4,
 "nbformat_minor": 5
}

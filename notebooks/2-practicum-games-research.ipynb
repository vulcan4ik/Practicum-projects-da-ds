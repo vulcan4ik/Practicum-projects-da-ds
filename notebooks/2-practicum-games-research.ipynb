{
 "cells": [
  {
   "cell_type": "markdown",
   "metadata": {},
   "source": [
    "# Исследование продаж игр интернет-магазина"
   ]
  },
  {
   "cell_type": "markdown",
   "metadata": {},
   "source": [
    "##  Описание проекта и исходные данные\n",
    "**Цель :  на основе предоставленных данных провести исследовательский анализ данных и получить ответы на перечень поставленных задач:**\n",
    "\n",
    "*1 этап. Подготовить данные для исследования:*\n",
    "- Заменить названия столбцов (приведите к нижнему регистру);\n",
    "- Преобразовать данные в нужные типы;\n",
    "- Обработать пропуски и при необходимости:\n",
    "  1. Объяснить, почему заполнили пропуски определённым образом или почему не стали это делать;\n",
    "  2. Описсать причины, которые могли привести к пропускам;\n",
    "  3. Обратить внимание на аббревиатуру 'tbd' в столбце с оценкой пользователей. Отдельно разобрать это значение и описать его обработку.\n",
    "- Посчитать суммарные продажи во всех регионах и записать их в отдельный столбец.\n",
    "\n",
    "*2 этап. Исследовательский анализ данных*\n",
    "- Изучить, сколько игр выпускалось в разные годы. Сделать вывод о важности всех периодов.\n",
    "- Изучить, как менялись продажи по платформам. Выбрать латформы с наибольшими суммарными продажами и построить распределение по годам. За какой характерный срок появляются новые и исчезают старые платформы?\n",
    "- Изучить данные за соответствующий актуальный период. Актуальный период определить самостоятельно в результате исследования предыдущих вопросов. Основной фактор — эти данные помогут построить прогноз на 2017 год.\n",
    "- Исследовать какие платформы лидируют по продажам, растут или падают? Выбрать потенциально прибыльные платформы.\n",
    "- Построить график «ящик с усами» по глобальным продажам игр в разбивке по платформам. Описать результат.\n",
    "- Изучить, как влияют на продажи внутри одной популярной платформы отзывы пользователей и критиков. Построить диаграмму рассеяния и посчитать корреляцию между отзывами и продажами. Выводы.\n",
    "- Соотнести выводы с продажами игр на других платформах.\n",
    "- Изучить общее распределение игр по жанрам. Сделать вывод о самых прибыльных жанрах? Выделить жанры с высокими и низкими продажами.\n",
    "*3 этап. Составление портрета пользователя каждого региона*\n",
    "Определить для пользователя каждого региона (NA, EU, JP):\n",
    "- Самые популярные платформы (топ-5). Опистаь различия в долях продаж.\n",
    "- Самые популярные жанры (топ-5). Пояснить разницу.\n",
    "- Влияение рейтинга ESRB на продажи в отдельном регионе.\n",
    "\n",
    "*Общий вывод*\n",
    "\n"
   ]
  },
  {
   "cell_type": "markdown",
   "metadata": {},
   "source": [
    "## Описание данных\n",
    "\n",
    " - ```Name``` — название игры\n",
    " - ```Platform```— платформа\n",
    " - ```Year_of_Release``` — год выпуска\n",
    " - ```Genre``` — жанр\n",
    " - ```NA_sales``` — продажи в Северной Америке (миллионы проданных копий)\n",
    " - ```EU_sales``` — продажи в Европе (миллионы проданных копий)\n",
    " - ```JP_sales``` — продажи в Японии (миллионы проданных копий)\n",
    " - ```Other_sales``` — продажи в других странах (миллионы проданных копий)\n",
    " - ```Critic_Score``` — оценка критиков (максимум 100)\n",
    " - ```User_Score``` — оценка пользователей (максимум 10)\n",
    " - ```Rating``` — рейтинг от организации ESRB (англ. Entertainment Software Rating Board).\n"
   ]
  },
  {
   "cell_type": "code",
   "execution_count": 1,
   "metadata": {},
   "outputs": [
    {
     "name": "stdout",
     "output_type": "stream",
     "text": [
      "Requirement already satisfied: jupyter-black in /opt/conda/lib/python3.9/site-packages (0.4.0)\n",
      "Requirement already satisfied: black[jupyter]>=21 in /opt/conda/lib/python3.9/site-packages (from jupyter-black) (24.8.0)\n",
      "Requirement already satisfied: mypy-extensions>=0.4.3 in /opt/conda/lib/python3.9/site-packages (from black[jupyter]>=21->jupyter-black) (1.0.0)\n",
      "Requirement already satisfied: packaging>=22.0 in /opt/conda/lib/python3.9/site-packages (from black[jupyter]>=21->jupyter-black) (24.1)\n",
      "Requirement already satisfied: pathspec>=0.9.0 in /opt/conda/lib/python3.9/site-packages (from black[jupyter]>=21->jupyter-black) (0.12.1)\n",
      "Requirement already satisfied: platformdirs>=2 in /opt/conda/lib/python3.9/site-packages (from black[jupyter]>=21->jupyter-black) (4.2.2)\n",
      "Requirement already satisfied: click>=8.0.0 in /opt/conda/lib/python3.9/site-packages (from black[jupyter]>=21->jupyter-black) (8.1.3)\n",
      "Requirement already satisfied: tomli>=1.1.0 in /opt/conda/lib/python3.9/site-packages (from black[jupyter]>=21->jupyter-black) (2.0.1)\n",
      "Requirement already satisfied: typing-extensions>=4.0.1 in /opt/conda/lib/python3.9/site-packages (from black[jupyter]>=21->jupyter-black) (4.3.0)\n",
      "Requirement already satisfied: ipython>=7.8.0 in /opt/conda/lib/python3.9/site-packages (from black[jupyter]>=21->jupyter-black) (7.25.0)\n",
      "Requirement already satisfied: tokenize-rt>=3.2.0 in /opt/conda/lib/python3.9/site-packages (from black[jupyter]>=21->jupyter-black) (6.0.0)\n",
      "Requirement already satisfied: matplotlib-inline in /opt/conda/lib/python3.9/site-packages (from ipython>=7.8.0->black[jupyter]>=21->jupyter-black) (0.1.2)\n",
      "Requirement already satisfied: pickleshare in /opt/conda/lib/python3.9/site-packages (from ipython>=7.8.0->black[jupyter]>=21->jupyter-black) (0.7.5)\n",
      "Requirement already satisfied: traitlets>=4.2 in /opt/conda/lib/python3.9/site-packages (from ipython>=7.8.0->black[jupyter]>=21->jupyter-black) (5.0.5)\n",
      "Requirement already satisfied: backcall in /opt/conda/lib/python3.9/site-packages (from ipython>=7.8.0->black[jupyter]>=21->jupyter-black) (0.2.0)\n",
      "Requirement already satisfied: prompt-toolkit!=3.0.0,!=3.0.1,<3.1.0,>=2.0.0 in /opt/conda/lib/python3.9/site-packages (from ipython>=7.8.0->black[jupyter]>=21->jupyter-black) (3.0.19)\n",
      "Requirement already satisfied: jedi>=0.16 in /opt/conda/lib/python3.9/site-packages (from ipython>=7.8.0->black[jupyter]>=21->jupyter-black) (0.18.0)\n",
      "Requirement already satisfied: decorator in /opt/conda/lib/python3.9/site-packages (from ipython>=7.8.0->black[jupyter]>=21->jupyter-black) (5.0.9)\n",
      "Requirement already satisfied: setuptools>=18.5 in /opt/conda/lib/python3.9/site-packages (from ipython>=7.8.0->black[jupyter]>=21->jupyter-black) (49.6.0.post20210108)\n",
      "Requirement already satisfied: pexpect>4.3 in /opt/conda/lib/python3.9/site-packages (from ipython>=7.8.0->black[jupyter]>=21->jupyter-black) (4.8.0)\n",
      "Requirement already satisfied: pygments in /opt/conda/lib/python3.9/site-packages (from ipython>=7.8.0->black[jupyter]>=21->jupyter-black) (2.9.0)\n",
      "Requirement already satisfied: parso<0.9.0,>=0.8.0 in /opt/conda/lib/python3.9/site-packages (from jedi>=0.16->ipython>=7.8.0->black[jupyter]>=21->jupyter-black) (0.8.2)\n",
      "Requirement already satisfied: ptyprocess>=0.5 in /opt/conda/lib/python3.9/site-packages (from pexpect>4.3->ipython>=7.8.0->black[jupyter]>=21->jupyter-black) (0.7.0)\n",
      "Requirement already satisfied: wcwidth in /opt/conda/lib/python3.9/site-packages (from prompt-toolkit!=3.0.0,!=3.0.1,<3.1.0,>=2.0.0->ipython>=7.8.0->black[jupyter]>=21->jupyter-black) (0.2.5)\n",
      "Requirement already satisfied: ipython-genutils in /opt/conda/lib/python3.9/site-packages (from traitlets>=4.2->ipython>=7.8.0->black[jupyter]>=21->jupyter-black) (0.2.0)\n"
     ]
    }
   ],
   "source": [
    "!pip install jupyter-black"
   ]
  },
  {
   "cell_type": "code",
   "execution_count": 2,
   "metadata": {},
   "outputs": [],
   "source": [
    "# помощник писать код красиво\n",
    "import jupyter_black\n",
    "\n",
    "jupyter_black.load()\n",
    "\n",
    "# необходимые библиотеки\n",
    "import pandas as pd\n",
    "from textwrap import dedent\n",
    "from IPython import get_ipython\n",
    "from IPython.display import display\n",
    "import seaborn as sns\n",
    "import matplotlib.pyplot as plt\n",
    "import warnings\n",
    "\n",
    "from matplotlib.colors import (\n",
    "    LinearSegmentedColormap,\n",
    ")  # поможет расскарсить датафрейм\n",
    "\n",
    "# Скроем лишние предупреждения\n",
    "warnings.filterwarnings(\"ignore\")\n",
    "\n",
    "# Настройки Pandas для вывода всех столбцов\n",
    "pd.set_option(\"display.max_columns\", None)\n"
   ]
  },
  {
   "cell_type": "code",
   "execution_count": 3,
   "metadata": {},
   "outputs": [],
   "source": [
    "# улучшение четкости изображения графиков\n",
    "%config InlineBackend.figure_format = 'retina'"
   ]
  },
  {
   "cell_type": "code",
   "execution_count": 4,
   "metadata": {},
   "outputs": [
    {
     "data": {
      "text/html": [
       "<div>\n",
       "<style scoped>\n",
       "    .dataframe tbody tr th:only-of-type {\n",
       "        vertical-align: middle;\n",
       "    }\n",
       "\n",
       "    .dataframe tbody tr th {\n",
       "        vertical-align: top;\n",
       "    }\n",
       "\n",
       "    .dataframe thead th {\n",
       "        text-align: right;\n",
       "    }\n",
       "</style>\n",
       "<table border=\"1\" class=\"dataframe\">\n",
       "  <thead>\n",
       "    <tr style=\"text-align: right;\">\n",
       "      <th></th>\n",
       "      <th>Name</th>\n",
       "      <th>Platform</th>\n",
       "      <th>Year_of_Release</th>\n",
       "      <th>Genre</th>\n",
       "      <th>NA_sales</th>\n",
       "      <th>EU_sales</th>\n",
       "      <th>JP_sales</th>\n",
       "      <th>Other_sales</th>\n",
       "      <th>Critic_Score</th>\n",
       "      <th>User_Score</th>\n",
       "      <th>Rating</th>\n",
       "    </tr>\n",
       "  </thead>\n",
       "  <tbody>\n",
       "    <tr>\n",
       "      <th>0</th>\n",
       "      <td>Wii Sports</td>\n",
       "      <td>Wii</td>\n",
       "      <td>2006.0</td>\n",
       "      <td>Sports</td>\n",
       "      <td>41.36</td>\n",
       "      <td>28.96</td>\n",
       "      <td>3.77</td>\n",
       "      <td>8.45</td>\n",
       "      <td>76.0</td>\n",
       "      <td>8</td>\n",
       "      <td>E</td>\n",
       "    </tr>\n",
       "    <tr>\n",
       "      <th>1</th>\n",
       "      <td>Super Mario Bros.</td>\n",
       "      <td>NES</td>\n",
       "      <td>1985.0</td>\n",
       "      <td>Platform</td>\n",
       "      <td>29.08</td>\n",
       "      <td>3.58</td>\n",
       "      <td>6.81</td>\n",
       "      <td>0.77</td>\n",
       "      <td>NaN</td>\n",
       "      <td>NaN</td>\n",
       "      <td>NaN</td>\n",
       "    </tr>\n",
       "    <tr>\n",
       "      <th>2</th>\n",
       "      <td>Mario Kart Wii</td>\n",
       "      <td>Wii</td>\n",
       "      <td>2008.0</td>\n",
       "      <td>Racing</td>\n",
       "      <td>15.68</td>\n",
       "      <td>12.76</td>\n",
       "      <td>3.79</td>\n",
       "      <td>3.29</td>\n",
       "      <td>82.0</td>\n",
       "      <td>8.3</td>\n",
       "      <td>E</td>\n",
       "    </tr>\n",
       "    <tr>\n",
       "      <th>3</th>\n",
       "      <td>Wii Sports Resort</td>\n",
       "      <td>Wii</td>\n",
       "      <td>2009.0</td>\n",
       "      <td>Sports</td>\n",
       "      <td>15.61</td>\n",
       "      <td>10.93</td>\n",
       "      <td>3.28</td>\n",
       "      <td>2.95</td>\n",
       "      <td>80.0</td>\n",
       "      <td>8</td>\n",
       "      <td>E</td>\n",
       "    </tr>\n",
       "    <tr>\n",
       "      <th>4</th>\n",
       "      <td>Pokemon Red/Pokemon Blue</td>\n",
       "      <td>GB</td>\n",
       "      <td>1996.0</td>\n",
       "      <td>Role-Playing</td>\n",
       "      <td>11.27</td>\n",
       "      <td>8.89</td>\n",
       "      <td>10.22</td>\n",
       "      <td>1.00</td>\n",
       "      <td>NaN</td>\n",
       "      <td>NaN</td>\n",
       "      <td>NaN</td>\n",
       "    </tr>\n",
       "    <tr>\n",
       "      <th>5</th>\n",
       "      <td>Tetris</td>\n",
       "      <td>GB</td>\n",
       "      <td>1989.0</td>\n",
       "      <td>Puzzle</td>\n",
       "      <td>23.20</td>\n",
       "      <td>2.26</td>\n",
       "      <td>4.22</td>\n",
       "      <td>0.58</td>\n",
       "      <td>NaN</td>\n",
       "      <td>NaN</td>\n",
       "      <td>NaN</td>\n",
       "    </tr>\n",
       "  </tbody>\n",
       "</table>\n",
       "</div>"
      ],
      "text/plain": [
       "                       Name Platform  Year_of_Release         Genre  NA_sales  \\\n",
       "0                Wii Sports      Wii           2006.0        Sports     41.36   \n",
       "1         Super Mario Bros.      NES           1985.0      Platform     29.08   \n",
       "2            Mario Kart Wii      Wii           2008.0        Racing     15.68   \n",
       "3         Wii Sports Resort      Wii           2009.0        Sports     15.61   \n",
       "4  Pokemon Red/Pokemon Blue       GB           1996.0  Role-Playing     11.27   \n",
       "5                    Tetris       GB           1989.0        Puzzle     23.20   \n",
       "\n",
       "   EU_sales  JP_sales  Other_sales  Critic_Score User_Score Rating  \n",
       "0     28.96      3.77         8.45          76.0          8      E  \n",
       "1      3.58      6.81         0.77           NaN        NaN    NaN  \n",
       "2     12.76      3.79         3.29          82.0        8.3      E  \n",
       "3     10.93      3.28         2.95          80.0          8      E  \n",
       "4      8.89     10.22         1.00           NaN        NaN    NaN  \n",
       "5      2.26      4.22         0.58           NaN        NaN    NaN  "
      ]
     },
     "metadata": {},
     "output_type": "display_data"
    },
    {
     "name": "stdout",
     "output_type": "stream",
     "text": [
      "<class 'pandas.core.frame.DataFrame'>\n",
      "RangeIndex: 16715 entries, 0 to 16714\n",
      "Data columns (total 11 columns):\n",
      " #   Column           Non-Null Count  Dtype  \n",
      "---  ------           --------------  -----  \n",
      " 0   Name             16713 non-null  object \n",
      " 1   Platform         16715 non-null  object \n",
      " 2   Year_of_Release  16446 non-null  float64\n",
      " 3   Genre            16713 non-null  object \n",
      " 4   NA_sales         16715 non-null  float64\n",
      " 5   EU_sales         16715 non-null  float64\n",
      " 6   JP_sales         16715 non-null  float64\n",
      " 7   Other_sales      16715 non-null  float64\n",
      " 8   Critic_Score     8137 non-null   float64\n",
      " 9   User_Score       10014 non-null  object \n",
      " 10  Rating           9949 non-null   object \n",
      "dtypes: float64(6), object(5)\n",
      "memory usage: 1.4+ MB\n"
     ]
    }
   ],
   "source": [
    "try:\n",
    "    data = pd.read_csv(\"datasets/games.csv\", sep=\",\")\n",
    "except:\n",
    "    data = pd.read_csv(\"https://code.s3.yandex.net/datasets/games.csv\", sep=\",\")\n",
    "\n",
    "display(data.head(6))\n",
    "data.info()"
   ]
  },
  {
   "cell_type": "code",
   "execution_count": 5,
   "metadata": {},
   "outputs": [
    {
     "data": {
      "text/html": [
       "<div>\n",
       "<style scoped>\n",
       "    .dataframe tbody tr th:only-of-type {\n",
       "        vertical-align: middle;\n",
       "    }\n",
       "\n",
       "    .dataframe tbody tr th {\n",
       "        vertical-align: top;\n",
       "    }\n",
       "\n",
       "    .dataframe thead th {\n",
       "        text-align: right;\n",
       "    }\n",
       "</style>\n",
       "<table border=\"1\" class=\"dataframe\">\n",
       "  <thead>\n",
       "    <tr style=\"text-align: right;\">\n",
       "      <th></th>\n",
       "      <th>year_of_release</th>\n",
       "      <th>na_sales</th>\n",
       "      <th>eu_sales</th>\n",
       "      <th>jp_sales</th>\n",
       "      <th>other_sales</th>\n",
       "      <th>critic_score</th>\n",
       "    </tr>\n",
       "  </thead>\n",
       "  <tbody>\n",
       "    <tr>\n",
       "      <th>count</th>\n",
       "      <td>16,446.00</td>\n",
       "      <td>16,715.00</td>\n",
       "      <td>16,715.00</td>\n",
       "      <td>16,715.00</td>\n",
       "      <td>16,715.00</td>\n",
       "      <td>8,137.00</td>\n",
       "    </tr>\n",
       "    <tr>\n",
       "      <th>mean</th>\n",
       "      <td>2,006.48</td>\n",
       "      <td>0.26</td>\n",
       "      <td>0.15</td>\n",
       "      <td>0.08</td>\n",
       "      <td>0.05</td>\n",
       "      <td>68.97</td>\n",
       "    </tr>\n",
       "    <tr>\n",
       "      <th>std</th>\n",
       "      <td>5.88</td>\n",
       "      <td>0.81</td>\n",
       "      <td>0.50</td>\n",
       "      <td>0.31</td>\n",
       "      <td>0.19</td>\n",
       "      <td>13.94</td>\n",
       "    </tr>\n",
       "    <tr>\n",
       "      <th>min</th>\n",
       "      <td>1,980.00</td>\n",
       "      <td>0.00</td>\n",
       "      <td>0.00</td>\n",
       "      <td>0.00</td>\n",
       "      <td>0.00</td>\n",
       "      <td>13.00</td>\n",
       "    </tr>\n",
       "    <tr>\n",
       "      <th>25%</th>\n",
       "      <td>2,003.00</td>\n",
       "      <td>0.00</td>\n",
       "      <td>0.00</td>\n",
       "      <td>0.00</td>\n",
       "      <td>0.00</td>\n",
       "      <td>60.00</td>\n",
       "    </tr>\n",
       "    <tr>\n",
       "      <th>50%</th>\n",
       "      <td>2,007.00</td>\n",
       "      <td>0.08</td>\n",
       "      <td>0.02</td>\n",
       "      <td>0.00</td>\n",
       "      <td>0.01</td>\n",
       "      <td>71.00</td>\n",
       "    </tr>\n",
       "    <tr>\n",
       "      <th>75%</th>\n",
       "      <td>2,010.00</td>\n",
       "      <td>0.24</td>\n",
       "      <td>0.11</td>\n",
       "      <td>0.04</td>\n",
       "      <td>0.03</td>\n",
       "      <td>79.00</td>\n",
       "    </tr>\n",
       "    <tr>\n",
       "      <th>max</th>\n",
       "      <td>2,016.00</td>\n",
       "      <td>41.36</td>\n",
       "      <td>28.96</td>\n",
       "      <td>10.22</td>\n",
       "      <td>10.57</td>\n",
       "      <td>98.00</td>\n",
       "    </tr>\n",
       "  </tbody>\n",
       "</table>\n",
       "</div>"
      ],
      "text/plain": [
       "       year_of_release  na_sales  eu_sales  jp_sales  other_sales  \\\n",
       "count        16,446.00 16,715.00 16,715.00 16,715.00    16,715.00   \n",
       "mean          2,006.48      0.26      0.15      0.08         0.05   \n",
       "std               5.88      0.81      0.50      0.31         0.19   \n",
       "min           1,980.00      0.00      0.00      0.00         0.00   \n",
       "25%           2,003.00      0.00      0.00      0.00         0.00   \n",
       "50%           2,007.00      0.08      0.02      0.00         0.01   \n",
       "75%           2,010.00      0.24      0.11      0.04         0.03   \n",
       "max           2,016.00     41.36     28.96     10.22        10.57   \n",
       "\n",
       "       critic_score  \n",
       "count      8,137.00  \n",
       "mean          68.97  \n",
       "std           13.94  \n",
       "min           13.00  \n",
       "25%           60.00  \n",
       "50%           71.00  \n",
       "75%           79.00  \n",
       "max           98.00  "
      ]
     },
     "execution_count": 5,
     "metadata": {},
     "output_type": "execute_result"
    }
   ],
   "source": [
    "# обработаем копию датасета чтобы работать с ней, а не с оригинальной таблицей\n",
    "df = data.copy()\n",
    "# Приведем названия столбцов к нижнему регистру\n",
    "df.columns = df.columns.str.lower()\n",
    "# удалим явные дубликаты  строк\n",
    "df = df.drop_duplicates()\n",
    "# привычный формат отображения чисел\n",
    "pd.options.display.float_format = \"{:,.2f}\".format\n",
    "df.describe()"
   ]
  },
  {
   "cell_type": "code",
   "execution_count": 6,
   "metadata": {},
   "outputs": [
    {
     "data": {
      "image/png": "[encoded data removed]",
      "text/plain": [
       "<Figure size 720x432 with 2 Axes>"
      ]
     },
     "metadata": {
      "image/png": {
       "height": 460,
       "width": 582
      },
      "needs_background": "light"
     },
     "output_type": "display_data"
    }
   ],
   "source": [
    "cols = df.columns\n",
    "# определяем цвета\n",
    "# Розовый - пропущенные данные, серый - не пропущенные\n",
    "colours = [\"#ff69b4\", \"#808080\"]\n",
    "# Настройка размера графика\n",
    "plt.figure(figsize=(10, 6))\n",
    "# Создание тепловой карты пропущенных данных\n",
    "sns.heatmap(df[cols].isnull(), cmap=sns.color_palette(colours), cbar=True)\n",
    "# Добавление заголовка и меток осей\n",
    "plt.title(\"Тепловая карта пропущенных данных\", fontsize=16)\n",
    "plt.xlabel(\"Названия столбцов\", fontsize=12)\n",
    "plt.ylabel(\"Индексы строк\", fontsize=12)\n",
    "plt.show()"
   ]
  },
  {
   "cell_type": "code",
   "execution_count": null,
   "metadata": {},
   "outputs": [],
   "source": []
  },
  {
   "cell_type": "code",
   "execution_count": null,
   "metadata": {},
   "outputs": [],
   "source": []
  },
  {
   "cell_type": "code",
   "execution_count": null,
   "metadata": {},
   "outputs": [],
   "source": []
  },
  {
   "cell_type": "code",
   "execution_count": null,
   "metadata": {},
   "outputs": [],
   "source": []
  }
 ],
 "metadata": {
  "ExecuteTimeLog": [
   {
    "duration": 58,
    "start_time": "2024-09-04T10:32:55.188Z"
   },
   {
    "duration": 5053,
    "start_time": "2024-09-04T10:34:14.899Z"
   },
   {
    "duration": 1504,
    "start_time": "2024-09-04T10:37:05.605Z"
   },
   {
    "duration": 178,
    "start_time": "2024-09-04T10:39:19.870Z"
   },
   {
    "duration": 139,
    "start_time": "2024-09-04T10:39:23.345Z"
   },
   {
    "duration": 38,
    "start_time": "2024-09-04T10:44:11.298Z"
   },
   {
    "duration": 34,
    "start_time": "2024-09-04T10:44:14.483Z"
   },
   {
    "duration": 20,
    "start_time": "2024-09-04T10:45:30.386Z"
   },
   {
    "duration": 19,
    "start_time": "2024-09-04T10:45:33.831Z"
   },
   {
    "duration": 19,
    "start_time": "2024-09-04T10:48:23.761Z"
   },
   {
    "duration": 21,
    "start_time": "2024-09-04T10:48:33.053Z"
   },
   {
    "duration": 20,
    "start_time": "2024-09-04T10:52:47.266Z"
   },
   {
    "duration": 43,
    "start_time": "2024-09-04T10:55:12.414Z"
   },
   {
    "duration": 15,
    "start_time": "2024-09-04T10:59:32.245Z"
   },
   {
    "duration": 4,
    "start_time": "2024-09-04T10:59:35.638Z"
   },
   {
    "duration": 2365,
    "start_time": "2024-09-04T10:59:50.778Z"
   },
   {
    "duration": 1290,
    "start_time": "2024-09-04T10:59:53.145Z"
   },
   {
    "duration": 40,
    "start_time": "2024-09-04T10:59:54.436Z"
   },
   {
    "duration": 148,
    "start_time": "2024-09-04T10:59:54.477Z"
   },
   {
    "duration": 45,
    "start_time": "2024-09-04T10:59:54.627Z"
   },
   {
    "duration": 22,
    "start_time": "2024-09-04T10:59:54.708Z"
   },
   {
    "duration": 614,
    "start_time": "2024-09-04T11:10:55.966Z"
   },
   {
    "duration": 640,
    "start_time": "2024-09-04T11:10:59.225Z"
   },
   {
    "duration": 2366,
    "start_time": "2024-09-04T11:17:47.551Z"
   },
   {
    "duration": 1307,
    "start_time": "2024-09-04T11:17:49.919Z"
   },
   {
    "duration": 37,
    "start_time": "2024-09-04T11:17:51.229Z"
   },
   {
    "duration": 210,
    "start_time": "2024-09-04T11:17:51.268Z"
   },
   {
    "duration": 44,
    "start_time": "2024-09-04T11:17:51.480Z"
   },
   {
    "duration": 2501,
    "start_time": "2024-09-04T11:19:58.410Z"
   },
   {
    "duration": 1327,
    "start_time": "2024-09-04T11:20:00.913Z"
   },
   {
    "duration": 263,
    "start_time": "2024-09-04T11:20:02.244Z"
   },
   {
    "duration": 178,
    "start_time": "2024-09-04T11:20:02.509Z"
   },
   {
    "duration": 48,
    "start_time": "2024-09-04T11:20:02.689Z"
   },
   {
    "duration": 2401,
    "start_time": "2024-09-04T11:23:17.552Z"
   },
   {
    "duration": 1258,
    "start_time": "2024-09-04T11:23:22.664Z"
   },
   {
    "duration": 45,
    "start_time": "2024-09-04T11:23:23.974Z"
   },
   {
    "duration": 211,
    "start_time": "2024-09-04T11:23:26.242Z"
   },
   {
    "duration": 44,
    "start_time": "2024-09-04T11:23:29.502Z"
   },
   {
    "duration": 643,
    "start_time": "2024-09-04T11:23:32.166Z"
   },
   {
    "duration": 635,
    "start_time": "2024-09-04T11:23:37.469Z"
   },
   {
    "duration": 822,
    "start_time": "2024-09-04T11:23:56.483Z"
   },
   {
    "duration": 902,
    "start_time": "2024-09-04T11:24:00.025Z"
   },
   {
    "duration": 820,
    "start_time": "2024-09-04T11:24:10.633Z"
   },
   {
    "duration": 849,
    "start_time": "2024-09-04T11:24:17.126Z"
   },
   {
    "duration": 719,
    "start_time": "2024-09-04T11:25:49.918Z"
   },
   {
    "duration": 701,
    "start_time": "2024-09-04T11:25:54.730Z"
   },
   {
    "duration": 2428,
    "start_time": "2024-09-04T11:28:04.553Z"
   },
   {
    "duration": 1324,
    "start_time": "2024-09-04T11:28:09.119Z"
   },
   {
    "duration": 42,
    "start_time": "2024-09-04T11:28:11.768Z"
   },
   {
    "duration": 364,
    "start_time": "2024-09-04T11:28:13.539Z"
   },
   {
    "duration": 46,
    "start_time": "2024-09-04T11:28:17.658Z"
   },
   {
    "duration": 958,
    "start_time": "2024-09-04T11:28:19.632Z"
   }
  ],
  "kernelspec": {
   "display_name": "Python 3 (ipykernel)",
   "language": "python",
   "name": "python3"
  },
  "language_info": {
   "codemirror_mode": {
    "name": "ipython",
    "version": 3
   },
   "file_extension": ".py",
   "mimetype": "text/x-python",
   "name": "python",
   "nbconvert_exporter": "python",
   "pygments_lexer": "ipython3",
   "version": "3.9.5"
  },
  "toc": {
   "base_numbering": 1,
   "nav_menu": {},
   "number_sections": true,
   "sideBar": true,
   "skip_h1_title": true,
   "title_cell": "Table of Contents",
   "title_sidebar": "Contents",
   "toc_cell": false,
   "toc_position": {
    "height": "calc(100% - 180px)",
    "left": "10px",
    "top": "150px",
    "width": "355.556px"
   },
   "toc_section_display": true,
   "toc_window_display": true
  }
 },
 "nbformat": 4,
 "nbformat_minor": 2
}

{
  "cells": [
    {
      "cell_type": "markdown",
      "metadata": {
        "id": "SUcw0-Iipm7R"
      },
      "source": [
        "# Рекомендация тарифов"
      ]
    },
    {
      "cell_type": "markdown",
      "metadata": {
        "id": "i2kQ-Hr0pm7R"
      },
      "source": [
        "<a class='anchor' id='content'></a>\n",
        "## Содержание\n",
        "\n",
        "1. [Описание проекта](#desc)\n",
        "2. [Получение выборок данных](#get)\n",
        "3. [Ход исследования](#research)\n",
        "4. [Результаты исследования](#result)\n",
        "5. [Итоговая проверка модели](#check)"
      ]
    },
    {
      "cell_type": "markdown",
      "metadata": {
        "id": "XMnCLZpQpm7R"
      },
      "source": [
        "<a class='anchor' id='desc'></a>\n",
        "## 1. Описание проекта. Исходные данные"
      ]
    },
    {
      "cell_type": "markdown",
      "metadata": {
        "id": "JX1BFcr_pm7S"
      },
      "source": [
        " Многие клиенты пользуются архивными тарифами. Необходимо построить систему, способную проанализировать поведение клиентов и предложить пользователям новый тариф: «Смарт» или «Ультра».\n",
        "\n",
        "В нашем распоряжении данные о поведении клиентов, которые уже перешли на эти тарифы. Нужно построить модель для задачи классификации, которая выберет подходящий тариф. Предобработка данных ранее была выполнена.\n",
        "\n",
        "#### Цель исследования\n",
        "Построить модель с максимально большим значением `accuracy`.\n",
        "\n",
        "\n",
        "#### Задачи исследования\n",
        "* довести долю правильных ответов до 0.75 и выше\n",
        "* проверить `accuracy` на тестовой выборке\n",
        "\n",
        "\n",
        "\n",
        "\n",
        "Каждый объект в наборе данных — это информация о поведении одного пользователя за месяц. Известно:\n",
        "\n",
        "- `сalls` — количество звонков,\n",
        "- `minutes` — суммарная длительность звонков в минутах,\n",
        "- `messages` — количество sms-сообщений,\n",
        "- `mb_used` — израсходованный интернет-трафик в Мб,\n",
        "- `is_ultra` — каким тарифом пользовался в течение месяца («Ультра» — 1, «Смарт» — 0).\n",
        "\n"
      ]
    },
    {
      "cell_type": "markdown",
      "metadata": {
        "id": "9q1g9e9Lpm7S"
      },
      "source": [
        "<a class='anchor' id='desc'></a>\n",
        "### Знакомство с данными\n"
      ]
    },
    {
      "cell_type": "code",
      "execution_count": null,
      "metadata": {
        "id": "k4gwLWygpm7S"
      },
      "outputs": [],
      "source": [
        "!pip install jupyter-black -q"
      ]
    },
    {
      "cell_type": "code",
      "execution_count": null,
      "metadata": {
        "id": "M60vRov7pm7T"
      },
      "outputs": [],
      "source": [
        "# помощник писать код красиво\n",
        "\n",
        "import jupyter_black\n",
        "\n",
        "jupyter_black.load()\n",
        "\n",
        "# необходимые библиотеки\n",
        "import pandas as pd\n",
        "from IPython.display import display\n",
        "import numpy as np\n",
        "import warnings\n",
        "\n",
        "# импортируем структуры данных для классификации и подсчета метрик\n",
        "from sklearn.tree import DecisionTreeClassifier\n",
        "from sklearn.ensemble import RandomForestClassifier\n",
        "from sklearn.linear_model import LogisticRegression\n",
        "from sklearn.model_selection import train_test_split\n",
        "from sklearn.metrics import accuracy_score\n",
        "from sklearn.dummy import DummyClassifier\n",
        "\n",
        "# Скроем лишние предупреждения\n",
        "warnings.filterwarnings(\"ignore\")\n",
        "\n",
        "# Настройки Pandas для вывода всех столбцов\n",
        "pd.set_option(\"display.max_columns\", None)"
      ]
    },
    {
      "cell_type": "code",
      "execution_count": null,
      "metadata": {
        "id": "IwJSgKKdpm7T",
        "outputId": "cffe7c73-e0f2-472a-9493-2f53c4ccf14e",
        "colab": {
          "base_uri": "https://localhost:8080/",
          "height": 414
        }
      },
      "outputs": [
        {
          "output_type": "display_data",
          "data": {
            "text/plain": [
              "   calls  minutes  messages   mb_used  is_ultra\n",
              "0   40.0   311.90      83.0  19915.42         0\n",
              "1   85.0   516.75      56.0  22696.96         0\n",
              "2   77.0   467.66      86.0  21060.45         0\n",
              "3  106.0   745.53      81.0   8437.39         1\n",
              "4   66.0   418.74       1.0  14502.75         0"
            ],
            "text/html": [
              "\n",
              "  <div id=\"df-c8199c41-272b-4b31-a2ef-8101073594f9\" class=\"colab-df-container\">\n",
              "    <div>\n",
              "<style scoped>\n",
              "    .dataframe tbody tr th:only-of-type {\n",
              "        vertical-align: middle;\n",
              "    }\n",
              "\n",
              "    .dataframe tbody tr th {\n",
              "        vertical-align: top;\n",
              "    }\n",
              "\n",
              "    .dataframe thead th {\n",
              "        text-align: right;\n",
              "    }\n",
              "</style>\n",
              "<table border=\"1\" class=\"dataframe\">\n",
              "  <thead>\n",
              "    <tr style=\"text-align: right;\">\n",
              "      <th></th>\n",
              "      <th>calls</th>\n",
              "      <th>minutes</th>\n",
              "      <th>messages</th>\n",
              "      <th>mb_used</th>\n",
              "      <th>is_ultra</th>\n",
              "    </tr>\n",
              "  </thead>\n",
              "  <tbody>\n",
              "    <tr>\n",
              "      <th>0</th>\n",
              "      <td>40.0</td>\n",
              "      <td>311.90</td>\n",
              "      <td>83.0</td>\n",
              "      <td>19915.42</td>\n",
              "      <td>0</td>\n",
              "    </tr>\n",
              "    <tr>\n",
              "      <th>1</th>\n",
              "      <td>85.0</td>\n",
              "      <td>516.75</td>\n",
              "      <td>56.0</td>\n",
              "      <td>22696.96</td>\n",
              "      <td>0</td>\n",
              "    </tr>\n",
              "    <tr>\n",
              "      <th>2</th>\n",
              "      <td>77.0</td>\n",
              "      <td>467.66</td>\n",
              "      <td>86.0</td>\n",
              "      <td>21060.45</td>\n",
              "      <td>0</td>\n",
              "    </tr>\n",
              "    <tr>\n",
              "      <th>3</th>\n",
              "      <td>106.0</td>\n",
              "      <td>745.53</td>\n",
              "      <td>81.0</td>\n",
              "      <td>8437.39</td>\n",
              "      <td>1</td>\n",
              "    </tr>\n",
              "    <tr>\n",
              "      <th>4</th>\n",
              "      <td>66.0</td>\n",
              "      <td>418.74</td>\n",
              "      <td>1.0</td>\n",
              "      <td>14502.75</td>\n",
              "      <td>0</td>\n",
              "    </tr>\n",
              "  </tbody>\n",
              "</table>\n",
              "</div>\n",
              "    <div class=\"colab-df-buttons\">\n",
              "\n",
              "  <div class=\"colab-df-container\">\n",
              "    <button class=\"colab-df-convert\" onclick=\"convertToInteractive('df-c8199c41-272b-4b31-a2ef-8101073594f9')\"\n",
              "            title=\"Convert this dataframe to an interactive table.\"\n",
              "            style=\"display:none;\">\n",
              "\n",
              "  <svg xmlns=\"http://www.w3.org/2000/svg\" height=\"24px\" viewBox=\"0 -960 960 960\">\n",
              "    <path d=\"M120-120v-720h720v720H120Zm60-500h600v-160H180v160Zm220 220h160v-160H400v160Zm0 220h160v-160H400v160ZM180-400h160v-160H180v160Zm440 0h160v-160H620v160ZM180-180h160v-160H180v160Zm440 0h160v-160H620v160Z\"/>\n",
              "  </svg>\n",
              "    </button>\n",
              "\n",
              "  <style>\n",
              "    .colab-df-container {\n",
              "      display:flex;\n",
              "      gap: 12px;\n",
              "    }\n",
              "\n",
              "    .colab-df-convert {\n",
              "      background-color: #E8F0FE;\n",
              "      border: none;\n",
              "      border-radius: 50%;\n",
              "      cursor: pointer;\n",
              "      display: none;\n",
              "      fill: #1967D2;\n",
              "      height: 32px;\n",
              "      padding: 0 0 0 0;\n",
              "      width: 32px;\n",
              "    }\n",
              "\n",
              "    .colab-df-convert:hover {\n",
              "      background-color: #E2EBFA;\n",
              "      box-shadow: 0px 1px 2px rgba(60, 64, 67, 0.3), 0px 1px 3px 1px rgba(60, 64, 67, 0.15);\n",
              "      fill: #174EA6;\n",
              "    }\n",
              "\n",
              "    .colab-df-buttons div {\n",
              "      margin-bottom: 4px;\n",
              "    }\n",
              "\n",
              "    [theme=dark] .colab-df-convert {\n",
              "      background-color: #3B4455;\n",
              "      fill: #D2E3FC;\n",
              "    }\n",
              "\n",
              "    [theme=dark] .colab-df-convert:hover {\n",
              "      background-color: #434B5C;\n",
              "      box-shadow: 0px 1px 3px 1px rgba(0, 0, 0, 0.15);\n",
              "      filter: drop-shadow(0px 1px 2px rgba(0, 0, 0, 0.3));\n",
              "      fill: #FFFFFF;\n",
              "    }\n",
              "  </style>\n",
              "\n",
              "    <script>\n",
              "      const buttonEl =\n",
              "        document.querySelector('#df-c8199c41-272b-4b31-a2ef-8101073594f9 button.colab-df-convert');\n",
              "      buttonEl.style.display =\n",
              "        google.colab.kernel.accessAllowed ? 'block' : 'none';\n",
              "\n",
              "      async function convertToInteractive(key) {\n",
              "        const element = document.querySelector('#df-c8199c41-272b-4b31-a2ef-8101073594f9');\n",
              "        const dataTable =\n",
              "          await google.colab.kernel.invokeFunction('convertToInteractive',\n",
              "                                                    [key], {});\n",
              "        if (!dataTable) return;\n",
              "\n",
              "        const docLinkHtml = 'Like what you see? Visit the ' +\n",
              "          '<a target=\"_blank\" href=https://colab.research.google.com/notebooks/data_table.ipynb>data table notebook</a>'\n",
              "          + ' to learn more about interactive tables.';\n",
              "        element.innerHTML = '';\n",
              "        dataTable['output_type'] = 'display_data';\n",
              "        await google.colab.output.renderOutput(dataTable, element);\n",
              "        const docLink = document.createElement('div');\n",
              "        docLink.innerHTML = docLinkHtml;\n",
              "        element.appendChild(docLink);\n",
              "      }\n",
              "    </script>\n",
              "  </div>\n",
              "\n",
              "\n",
              "    <div id=\"df-3f5f6f18-68d4-4bef-b118-6f496f579563\">\n",
              "      <button class=\"colab-df-quickchart\" onclick=\"quickchart('df-3f5f6f18-68d4-4bef-b118-6f496f579563')\"\n",
              "                title=\"Suggest charts\"\n",
              "                style=\"display:none;\">\n",
              "\n",
              "<svg xmlns=\"http://www.w3.org/2000/svg\" height=\"24px\"viewBox=\"0 0 24 24\"\n",
              "     width=\"24px\">\n",
              "    <g>\n",
              "        <path d=\"M19 3H5c-1.1 0-2 .9-2 2v14c0 1.1.9 2 2 2h14c1.1 0 2-.9 2-2V5c0-1.1-.9-2-2-2zM9 17H7v-7h2v7zm4 0h-2V7h2v10zm4 0h-2v-4h2v4z\"/>\n",
              "    </g>\n",
              "</svg>\n",
              "      </button>\n",
              "\n",
              "<style>\n",
              "  .colab-df-quickchart {\n",
              "      --bg-color: #E8F0FE;\n",
              "      --fill-color: #1967D2;\n",
              "      --hover-bg-color: #E2EBFA;\n",
              "      --hover-fill-color: #174EA6;\n",
              "      --disabled-fill-color: #AAA;\n",
              "      --disabled-bg-color: #DDD;\n",
              "  }\n",
              "\n",
              "  [theme=dark] .colab-df-quickchart {\n",
              "      --bg-color: #3B4455;\n",
              "      --fill-color: #D2E3FC;\n",
              "      --hover-bg-color: #434B5C;\n",
              "      --hover-fill-color: #FFFFFF;\n",
              "      --disabled-bg-color: #3B4455;\n",
              "      --disabled-fill-color: #666;\n",
              "  }\n",
              "\n",
              "  .colab-df-quickchart {\n",
              "    background-color: var(--bg-color);\n",
              "    border: none;\n",
              "    border-radius: 50%;\n",
              "    cursor: pointer;\n",
              "    display: none;\n",
              "    fill: var(--fill-color);\n",
              "    height: 32px;\n",
              "    padding: 0;\n",
              "    width: 32px;\n",
              "  }\n",
              "\n",
              "  .colab-df-quickchart:hover {\n",
              "    background-color: var(--hover-bg-color);\n",
              "    box-shadow: 0 1px 2px rgba(60, 64, 67, 0.3), 0 1px 3px 1px rgba(60, 64, 67, 0.15);\n",
              "    fill: var(--button-hover-fill-color);\n",
              "  }\n",
              "\n",
              "  .colab-df-quickchart-complete:disabled,\n",
              "  .colab-df-quickchart-complete:disabled:hover {\n",
              "    background-color: var(--disabled-bg-color);\n",
              "    fill: var(--disabled-fill-color);\n",
              "    box-shadow: none;\n",
              "  }\n",
              "\n",
              "  .colab-df-spinner {\n",
              "    border: 2px solid var(--fill-color);\n",
              "    border-color: transparent;\n",
              "    border-bottom-color: var(--fill-color);\n",
              "    animation:\n",
              "      spin 1s steps(1) infinite;\n",
              "  }\n",
              "\n",
              "  @keyframes spin {\n",
              "    0% {\n",
              "      border-color: transparent;\n",
              "      border-bottom-color: var(--fill-color);\n",
              "      border-left-color: var(--fill-color);\n",
              "    }\n",
              "    20% {\n",
              "      border-color: transparent;\n",
              "      border-left-color: var(--fill-color);\n",
              "      border-top-color: var(--fill-color);\n",
              "    }\n",
              "    30% {\n",
              "      border-color: transparent;\n",
              "      border-left-color: var(--fill-color);\n",
              "      border-top-color: var(--fill-color);\n",
              "      border-right-color: var(--fill-color);\n",
              "    }\n",
              "    40% {\n",
              "      border-color: transparent;\n",
              "      border-right-color: var(--fill-color);\n",
              "      border-top-color: var(--fill-color);\n",
              "    }\n",
              "    60% {\n",
              "      border-color: transparent;\n",
              "      border-right-color: var(--fill-color);\n",
              "    }\n",
              "    80% {\n",
              "      border-color: transparent;\n",
              "      border-right-color: var(--fill-color);\n",
              "      border-bottom-color: var(--fill-color);\n",
              "    }\n",
              "    90% {\n",
              "      border-color: transparent;\n",
              "      border-bottom-color: var(--fill-color);\n",
              "    }\n",
              "  }\n",
              "</style>\n",
              "\n",
              "      <script>\n",
              "        async function quickchart(key) {\n",
              "          const quickchartButtonEl =\n",
              "            document.querySelector('#' + key + ' button');\n",
              "          quickchartButtonEl.disabled = true;  // To prevent multiple clicks.\n",
              "          quickchartButtonEl.classList.add('colab-df-spinner');\n",
              "          try {\n",
              "            const charts = await google.colab.kernel.invokeFunction(\n",
              "                'suggestCharts', [key], {});\n",
              "          } catch (error) {\n",
              "            console.error('Error during call to suggestCharts:', error);\n",
              "          }\n",
              "          quickchartButtonEl.classList.remove('colab-df-spinner');\n",
              "          quickchartButtonEl.classList.add('colab-df-quickchart-complete');\n",
              "        }\n",
              "        (() => {\n",
              "          let quickchartButtonEl =\n",
              "            document.querySelector('#df-3f5f6f18-68d4-4bef-b118-6f496f579563 button');\n",
              "          quickchartButtonEl.style.display =\n",
              "            google.colab.kernel.accessAllowed ? 'block' : 'none';\n",
              "        })();\n",
              "      </script>\n",
              "    </div>\n",
              "\n",
              "    </div>\n",
              "  </div>\n"
            ],
            "application/vnd.google.colaboratory.intrinsic+json": {
              "type": "dataframe",
              "summary": "{\n  \"name\": \"data\",\n  \"rows\": 5,\n  \"fields\": [\n    {\n      \"column\": \"calls\",\n      \"properties\": {\n        \"dtype\": \"number\",\n        \"std\": 24.345430782797827,\n        \"min\": 40.0,\n        \"max\": 106.0,\n        \"num_unique_values\": 5,\n        \"samples\": [\n          85.0,\n          66.0,\n          77.0\n        ],\n        \"semantic_type\": \"\",\n        \"description\": \"\"\n      }\n    },\n    {\n      \"column\": \"minutes\",\n      \"properties\": {\n        \"dtype\": \"number\",\n        \"std\": 160.69025275355068,\n        \"min\": 311.8999999999999,\n        \"max\": 745.53,\n        \"num_unique_values\": 5,\n        \"samples\": [\n          516.75,\n          418.74,\n          467.6600000000001\n        ],\n        \"semantic_type\": \"\",\n        \"description\": \"\"\n      }\n    },\n    {\n      \"column\": \"messages\",\n      \"properties\": {\n        \"dtype\": \"number\",\n        \"std\": 35.82317685521484,\n        \"min\": 1.0,\n        \"max\": 86.0,\n        \"num_unique_values\": 5,\n        \"samples\": [\n          56.0,\n          1.0,\n          86.0\n        ],\n        \"semantic_type\": \"\",\n        \"description\": \"\"\n      }\n    },\n    {\n      \"column\": \"mb_used\",\n      \"properties\": {\n        \"dtype\": \"number\",\n        \"std\": 5841.157726660871,\n        \"min\": 8437.39,\n        \"max\": 22696.96,\n        \"num_unique_values\": 5,\n        \"samples\": [\n          22696.96,\n          14502.750000000002,\n          21060.45\n        ],\n        \"semantic_type\": \"\",\n        \"description\": \"\"\n      }\n    },\n    {\n      \"column\": \"is_ultra\",\n      \"properties\": {\n        \"dtype\": \"number\",\n        \"std\": 0,\n        \"min\": 0,\n        \"max\": 1,\n        \"num_unique_values\": 2,\n        \"samples\": [\n          1,\n          0\n        ],\n        \"semantic_type\": \"\",\n        \"description\": \"\"\n      }\n    }\n  ]\n}"
            }
          },
          "metadata": {}
        },
        {
          "output_type": "stream",
          "name": "stdout",
          "text": [
            "<class 'pandas.core.frame.DataFrame'>\n",
            "RangeIndex: 3214 entries, 0 to 3213\n",
            "Data columns (total 5 columns):\n",
            " #   Column    Non-Null Count  Dtype  \n",
            "---  ------    --------------  -----  \n",
            " 0   calls     3214 non-null   float64\n",
            " 1   minutes   3214 non-null   float64\n",
            " 2   messages  3214 non-null   float64\n",
            " 3   mb_used   3214 non-null   float64\n",
            " 4   is_ultra  3214 non-null   int64  \n",
            "dtypes: float64(4), int64(1)\n",
            "memory usage: 125.7 KB\n"
          ]
        }
      ],
      "source": [
        "# чтение датасета\n",
        "try:\n",
        "    data = pd.read_csv(\"datasets/users_behavior.csv\", sep=\",\")\n",
        "except:\n",
        "    data = pd.read_csv(\n",
        "        \"https://code.s3.yandex.net/datasets/users_behavior.csv\", sep=\",\"\n",
        "    )\n",
        "\n",
        "display(data.head())\n",
        "data.info()"
      ]
    },
    {
      "cell_type": "markdown",
      "metadata": {
        "id": "oPEQXD5Opm7U"
      },
      "source": [
        "Полученные данные по всем пользователям полны, пропусков нет. Числовые типы в столбцах соответсвуют логике их содержимого, оставим на этом этапе без изменений. Проверим столбец `is_ultra` на встречающиеся значения, так как там не должно быть никаких других значений кроме 0 и 1"
      ]
    },
    {
      "cell_type": "code",
      "execution_count": null,
      "metadata": {
        "id": "9XeG8HJrpm7U",
        "outputId": "7a958370-aa01-47a5-856e-9db6474bce1d",
        "colab": {
          "base_uri": "https://localhost:8080/",
          "height": 178
        }
      },
      "outputs": [
        {
          "output_type": "execute_result",
          "data": {
            "text/plain": [
              "is_ultra\n",
              "0    0.693528\n",
              "1    0.306472\n",
              "Name: proportion, dtype: float64"
            ],
            "text/html": [
              "<div>\n",
              "<style scoped>\n",
              "    .dataframe tbody tr th:only-of-type {\n",
              "        vertical-align: middle;\n",
              "    }\n",
              "\n",
              "    .dataframe tbody tr th {\n",
              "        vertical-align: top;\n",
              "    }\n",
              "\n",
              "    .dataframe thead th {\n",
              "        text-align: right;\n",
              "    }\n",
              "</style>\n",
              "<table border=\"1\" class=\"dataframe\">\n",
              "  <thead>\n",
              "    <tr style=\"text-align: right;\">\n",
              "      <th></th>\n",
              "      <th>proportion</th>\n",
              "    </tr>\n",
              "    <tr>\n",
              "      <th>is_ultra</th>\n",
              "      <th></th>\n",
              "    </tr>\n",
              "  </thead>\n",
              "  <tbody>\n",
              "    <tr>\n",
              "      <th>0</th>\n",
              "      <td>0.693528</td>\n",
              "    </tr>\n",
              "    <tr>\n",
              "      <th>1</th>\n",
              "      <td>0.306472</td>\n",
              "    </tr>\n",
              "  </tbody>\n",
              "</table>\n",
              "</div><br><label><b>dtype:</b> float64</label>"
            ]
          },
          "metadata": {},
          "execution_count": 4
        }
      ],
      "source": [
        "data[\"is_ultra\"].value_counts(normalize=True)"
      ]
    },
    {
      "cell_type": "markdown",
      "metadata": {
        "id": "tq432BTVpm7U"
      },
      "source": [
        "**Вывод:** Исходя из вводных данных нам предстоит решить задачу двоичной классификации и определить какой тариф предпочтительнее для пользователей которые еще не перешли на тарифы \"Смарт\" и \"Ультра\". Целевым признаком в нашем случае будет столбец `is_ultra`. Значения 1 в нем составляют примерно 30% от всех данных. Это соотношение желательно сохранить при разделении выборок для обучения и тестирования моделей\n",
        "\n",
        "[назад к содержанию](#content)"
      ]
    },
    {
      "cell_type": "markdown",
      "metadata": {
        "id": "Hr70W3VKpm7U"
      },
      "source": [
        "<a class='anchor' id='get'></a>\n",
        "## 2. Получение выборок\n",
        "\n",
        "\n"
      ]
    },
    {
      "cell_type": "markdown",
      "metadata": {
        "id": "KJ7TAFjDpm7U"
      },
      "source": [
        "До обучения модели разобъем данные на обучающую, валидационную и тестовую выборки. Тестовый набор данных изначально отсутствует,поэтому разделим данные в соотношении 3:1:1, оставив тестовой выборке 20% данных.\n",
        "Таким образом в итоге у нас будет:\n",
        "- Обучающая выборка: 60%\n",
        "- Валидационная выборка: 20%\n",
        "- Тестовая выборка: 20%\n",
        "\n"
      ]
    },
    {
      "cell_type": "code",
      "execution_count": null,
      "metadata": {
        "id": "tGCfmZYEpm7U",
        "outputId": "ab308642-5ef2-4207-dfbd-9d5f968ecf6e",
        "colab": {
          "base_uri": "https://localhost:8080/",
          "height": 69
        }
      },
      "outputs": [
        {
          "output_type": "display_data",
          "data": {
            "text/plain": [
              "(1928, 5)"
            ]
          },
          "metadata": {}
        },
        {
          "output_type": "display_data",
          "data": {
            "text/plain": [
              "(643, 5)"
            ]
          },
          "metadata": {}
        },
        {
          "output_type": "display_data",
          "data": {
            "text/plain": [
              "(643, 5)"
            ]
          },
          "metadata": {}
        }
      ],
      "source": [
        "# обработаем копию датасета чтобы работать с ней, а не с оригинальной таблицей\n",
        "df = data.copy()\n",
        "\n",
        "features = df.drop([\"is_ultra\"], axis=1)\n",
        "target = df[\"is_ultra\"]\n",
        "\n",
        "# разобьем на выборки, сначала выделим тестовую, затем валидационную\n",
        "train_valid, df_test = train_test_split(\n",
        "    df, test_size=0.2, random_state=777, stratify=target\n",
        ")\n",
        "df_train, df_valid = train_test_split(\n",
        "    train_valid,\n",
        "    test_size=0.25,\n",
        "    random_state=777,\n",
        ")\n",
        "display(df_train.shape, df_valid.shape, df_test.shape)"
      ]
    },
    {
      "cell_type": "code",
      "execution_count": null,
      "metadata": {
        "id": "HeQlP8YGpm7U",
        "outputId": "9e3c94c3-1f64-4be3-e9e2-616fec671211",
        "colab": {
          "base_uri": "https://localhost:8080/",
          "height": 556
        }
      },
      "outputs": [
        {
          "output_type": "display_data",
          "data": {
            "text/plain": [
              "'Обучающая выборка:'"
            ],
            "application/vnd.google.colaboratory.intrinsic+json": {
              "type": "string"
            }
          },
          "metadata": {}
        },
        {
          "output_type": "display_data",
          "data": {
            "text/plain": [
              "is_ultra\n",
              "0    0.68361\n",
              "1    0.31639\n",
              "Name: proportion, dtype: float64"
            ],
            "text/html": [
              "<div>\n",
              "<style scoped>\n",
              "    .dataframe tbody tr th:only-of-type {\n",
              "        vertical-align: middle;\n",
              "    }\n",
              "\n",
              "    .dataframe tbody tr th {\n",
              "        vertical-align: top;\n",
              "    }\n",
              "\n",
              "    .dataframe thead th {\n",
              "        text-align: right;\n",
              "    }\n",
              "</style>\n",
              "<table border=\"1\" class=\"dataframe\">\n",
              "  <thead>\n",
              "    <tr style=\"text-align: right;\">\n",
              "      <th></th>\n",
              "      <th>proportion</th>\n",
              "    </tr>\n",
              "    <tr>\n",
              "      <th>is_ultra</th>\n",
              "      <th></th>\n",
              "    </tr>\n",
              "  </thead>\n",
              "  <tbody>\n",
              "    <tr>\n",
              "      <th>0</th>\n",
              "      <td>0.68361</td>\n",
              "    </tr>\n",
              "    <tr>\n",
              "      <th>1</th>\n",
              "      <td>0.31639</td>\n",
              "    </tr>\n",
              "  </tbody>\n",
              "</table>\n",
              "</div><br><label><b>dtype:</b> float64</label>"
            ]
          },
          "metadata": {}
        },
        {
          "output_type": "display_data",
          "data": {
            "text/plain": [
              "'Валидационная выборка:'"
            ],
            "application/vnd.google.colaboratory.intrinsic+json": {
              "type": "string"
            }
          },
          "metadata": {}
        },
        {
          "output_type": "display_data",
          "data": {
            "text/plain": [
              "is_ultra\n",
              "0    0.723173\n",
              "1    0.276827\n",
              "Name: proportion, dtype: float64"
            ],
            "text/html": [
              "<div>\n",
              "<style scoped>\n",
              "    .dataframe tbody tr th:only-of-type {\n",
              "        vertical-align: middle;\n",
              "    }\n",
              "\n",
              "    .dataframe tbody tr th {\n",
              "        vertical-align: top;\n",
              "    }\n",
              "\n",
              "    .dataframe thead th {\n",
              "        text-align: right;\n",
              "    }\n",
              "</style>\n",
              "<table border=\"1\" class=\"dataframe\">\n",
              "  <thead>\n",
              "    <tr style=\"text-align: right;\">\n",
              "      <th></th>\n",
              "      <th>proportion</th>\n",
              "    </tr>\n",
              "    <tr>\n",
              "      <th>is_ultra</th>\n",
              "      <th></th>\n",
              "    </tr>\n",
              "  </thead>\n",
              "  <tbody>\n",
              "    <tr>\n",
              "      <th>0</th>\n",
              "      <td>0.723173</td>\n",
              "    </tr>\n",
              "    <tr>\n",
              "      <th>1</th>\n",
              "      <td>0.276827</td>\n",
              "    </tr>\n",
              "  </tbody>\n",
              "</table>\n",
              "</div><br><label><b>dtype:</b> float64</label>"
            ]
          },
          "metadata": {}
        },
        {
          "output_type": "display_data",
          "data": {
            "text/plain": [
              "'Тестовая выборка:'"
            ],
            "application/vnd.google.colaboratory.intrinsic+json": {
              "type": "string"
            }
          },
          "metadata": {}
        },
        {
          "output_type": "display_data",
          "data": {
            "text/plain": [
              "is_ultra\n",
              "0    0.693624\n",
              "1    0.306376\n",
              "Name: proportion, dtype: float64"
            ],
            "text/html": [
              "<div>\n",
              "<style scoped>\n",
              "    .dataframe tbody tr th:only-of-type {\n",
              "        vertical-align: middle;\n",
              "    }\n",
              "\n",
              "    .dataframe tbody tr th {\n",
              "        vertical-align: top;\n",
              "    }\n",
              "\n",
              "    .dataframe thead th {\n",
              "        text-align: right;\n",
              "    }\n",
              "</style>\n",
              "<table border=\"1\" class=\"dataframe\">\n",
              "  <thead>\n",
              "    <tr style=\"text-align: right;\">\n",
              "      <th></th>\n",
              "      <th>proportion</th>\n",
              "    </tr>\n",
              "    <tr>\n",
              "      <th>is_ultra</th>\n",
              "      <th></th>\n",
              "    </tr>\n",
              "  </thead>\n",
              "  <tbody>\n",
              "    <tr>\n",
              "      <th>0</th>\n",
              "      <td>0.693624</td>\n",
              "    </tr>\n",
              "    <tr>\n",
              "      <th>1</th>\n",
              "      <td>0.306376</td>\n",
              "    </tr>\n",
              "  </tbody>\n",
              "</table>\n",
              "</div><br><label><b>dtype:</b> float64</label>"
            ]
          },
          "metadata": {}
        }
      ],
      "source": [
        "b# проверим выборки на сбалансированность по признаку\n",
        "\n",
        "display(\"Обучающая выборка:\")\n",
        "display(df_train[\"is_ultra\"].value_counts(normalize=True))\n",
        "\n",
        "display(\"Валидационная выборка:\")\n",
        "display(df_valid[\"is_ultra\"].value_counts(normalize=True))\n",
        "\n",
        "display(\"Тестовая выборка:\")\n",
        "display(df_test[\"is_ultra\"].value_counts(normalize=True))"
      ]
    },
    {
      "cell_type": "markdown",
      "source": [
        "[назад к содержанию](#content)"
      ],
      "metadata": {
        "id": "ZSkm2zZ8rS1g"
      }
    },
    {
      "cell_type": "markdown",
      "metadata": {
        "id": "ATKTVUz-pm7V"
      },
      "source": [
        "<a class='anchor' id='research'></a>\n",
        "## 3. Исследование модели\n",
        "\n",
        "- 3.1. [Решающее дерево](#dts)\n",
        "- 3.2. [Случайный лес](#random_forest)\n",
        "- 3.3. [Логистическая регрессия](#logistic)\n",
        "\n",
        "\n"
      ]
    },
    {
      "cell_type": "markdown",
      "metadata": {
        "id": "deGNMm5vpm7V"
      },
      "source": [
        "Для выбора наилучшей обучающей модели для определения тарифа изучим несколько моделей, меняя гиперпараметры и на основании исследования выберем наиболее подходящую нам"
      ]
    },
    {
      "cell_type": "markdown",
      "metadata": {
        "id": "Vo5vpScHpm7V"
      },
      "source": [
        "<a class='anchor' id='dtc'></a>\n",
        "### 3.1 Модель решающего дерева"
      ]
    },
    {
      "cell_type": "code",
      "execution_count": null,
      "metadata": {
        "id": "1-BWc9Zhpm7V",
        "outputId": "b1f5ec1d-8850-4f95-d16a-be3133f3842b",
        "colab": {
          "base_uri": "https://localhost:8080/",
          "height": 80
        }
      },
      "outputs": [
        {
          "output_type": "execute_result",
          "data": {
            "text/plain": [
              "DecisionTreeClassifier(random_state=777)"
            ],
            "text/html": [
              "<style>#sk-container-id-1 {\n",
              "  /* Definition of color scheme common for light and dark mode */\n",
              "  --sklearn-color-text: #000;\n",
              "  --sklearn-color-text-muted: #666;\n",
              "  --sklearn-color-line: gray;\n",
              "  /* Definition of color scheme for unfitted estimators */\n",
              "  --sklearn-color-unfitted-level-0: #fff5e6;\n",
              "  --sklearn-color-unfitted-level-1: #f6e4d2;\n",
              "  --sklearn-color-unfitted-level-2: #ffe0b3;\n",
              "  --sklearn-color-unfitted-level-3: chocolate;\n",
              "  /* Definition of color scheme for fitted estimators */\n",
              "  --sklearn-color-fitted-level-0: #f0f8ff;\n",
              "  --sklearn-color-fitted-level-1: #d4ebff;\n",
              "  --sklearn-color-fitted-level-2: #b3dbfd;\n",
              "  --sklearn-color-fitted-level-3: cornflowerblue;\n",
              "\n",
              "  /* Specific color for light theme */\n",
              "  --sklearn-color-text-on-default-background: var(--sg-text-color, var(--theme-code-foreground, var(--jp-content-font-color1, black)));\n",
              "  --sklearn-color-background: var(--sg-background-color, var(--theme-background, var(--jp-layout-color0, white)));\n",
              "  --sklearn-color-border-box: var(--sg-text-color, var(--theme-code-foreground, var(--jp-content-font-color1, black)));\n",
              "  --sklearn-color-icon: #696969;\n",
              "\n",
              "  @media (prefers-color-scheme: dark) {\n",
              "    /* Redefinition of color scheme for dark theme */\n",
              "    --sklearn-color-text-on-default-background: var(--sg-text-color, var(--theme-code-foreground, var(--jp-content-font-color1, white)));\n",
              "    --sklearn-color-background: var(--sg-background-color, var(--theme-background, var(--jp-layout-color0, #111)));\n",
              "    --sklearn-color-border-box: var(--sg-text-color, var(--theme-code-foreground, var(--jp-content-font-color1, white)));\n",
              "    --sklearn-color-icon: #878787;\n",
              "  }\n",
              "}\n",
              "\n",
              "#sk-container-id-1 {\n",
              "  color: var(--sklearn-color-text);\n",
              "}\n",
              "\n",
              "#sk-container-id-1 pre {\n",
              "  padding: 0;\n",
              "}\n",
              "\n",
              "#sk-container-id-1 input.sk-hidden--visually {\n",
              "  border: 0;\n",
              "  clip: rect(1px 1px 1px 1px);\n",
              "  clip: rect(1px, 1px, 1px, 1px);\n",
              "  height: 1px;\n",
              "  margin: -1px;\n",
              "  overflow: hidden;\n",
              "  padding: 0;\n",
              "  position: absolute;\n",
              "  width: 1px;\n",
              "}\n",
              "\n",
              "#sk-container-id-1 div.sk-dashed-wrapped {\n",
              "  border: 1px dashed var(--sklearn-color-line);\n",
              "  margin: 0 0.4em 0.5em 0.4em;\n",
              "  box-sizing: border-box;\n",
              "  padding-bottom: 0.4em;\n",
              "  background-color: var(--sklearn-color-background);\n",
              "}\n",
              "\n",
              "#sk-container-id-1 div.sk-container {\n",
              "  /* jupyter's `normalize.less` sets `[hidden] { display: none; }`\n",
              "     but bootstrap.min.css set `[hidden] { display: none !important; }`\n",
              "     so we also need the `!important` here to be able to override the\n",
              "     default hidden behavior on the sphinx rendered scikit-learn.org.\n",
              "     See: https://github.com/scikit-learn/scikit-learn/issues/21755 */\n",
              "  display: inline-block !important;\n",
              "  position: relative;\n",
              "}\n",
              "\n",
              "#sk-container-id-1 div.sk-text-repr-fallback {\n",
              "  display: none;\n",
              "}\n",
              "\n",
              "div.sk-parallel-item,\n",
              "div.sk-serial,\n",
              "div.sk-item {\n",
              "  /* draw centered vertical line to link estimators */\n",
              "  background-image: linear-gradient(var(--sklearn-color-text-on-default-background), var(--sklearn-color-text-on-default-background));\n",
              "  background-size: 2px 100%;\n",
              "  background-repeat: no-repeat;\n",
              "  background-position: center center;\n",
              "}\n",
              "\n",
              "/* Parallel-specific style estimator block */\n",
              "\n",
              "#sk-container-id-1 div.sk-parallel-item::after {\n",
              "  content: \"\";\n",
              "  width: 100%;\n",
              "  border-bottom: 2px solid var(--sklearn-color-text-on-default-background);\n",
              "  flex-grow: 1;\n",
              "}\n",
              "\n",
              "#sk-container-id-1 div.sk-parallel {\n",
              "  display: flex;\n",
              "  align-items: stretch;\n",
              "  justify-content: center;\n",
              "  background-color: var(--sklearn-color-background);\n",
              "  position: relative;\n",
              "}\n",
              "\n",
              "#sk-container-id-1 div.sk-parallel-item {\n",
              "  display: flex;\n",
              "  flex-direction: column;\n",
              "}\n",
              "\n",
              "#sk-container-id-1 div.sk-parallel-item:first-child::after {\n",
              "  align-self: flex-end;\n",
              "  width: 50%;\n",
              "}\n",
              "\n",
              "#sk-container-id-1 div.sk-parallel-item:last-child::after {\n",
              "  align-self: flex-start;\n",
              "  width: 50%;\n",
              "}\n",
              "\n",
              "#sk-container-id-1 div.sk-parallel-item:only-child::after {\n",
              "  width: 0;\n",
              "}\n",
              "\n",
              "/* Serial-specific style estimator block */\n",
              "\n",
              "#sk-container-id-1 div.sk-serial {\n",
              "  display: flex;\n",
              "  flex-direction: column;\n",
              "  align-items: center;\n",
              "  background-color: var(--sklearn-color-background);\n",
              "  padding-right: 1em;\n",
              "  padding-left: 1em;\n",
              "}\n",
              "\n",
              "\n",
              "/* Toggleable style: style used for estimator/Pipeline/ColumnTransformer box that is\n",
              "clickable and can be expanded/collapsed.\n",
              "- Pipeline and ColumnTransformer use this feature and define the default style\n",
              "- Estimators will overwrite some part of the style using the `sk-estimator` class\n",
              "*/\n",
              "\n",
              "/* Pipeline and ColumnTransformer style (default) */\n",
              "\n",
              "#sk-container-id-1 div.sk-toggleable {\n",
              "  /* Default theme specific background. It is overwritten whether we have a\n",
              "  specific estimator or a Pipeline/ColumnTransformer */\n",
              "  background-color: var(--sklearn-color-background);\n",
              "}\n",
              "\n",
              "/* Toggleable label */\n",
              "#sk-container-id-1 label.sk-toggleable__label {\n",
              "  cursor: pointer;\n",
              "  display: flex;\n",
              "  width: 100%;\n",
              "  margin-bottom: 0;\n",
              "  padding: 0.5em;\n",
              "  box-sizing: border-box;\n",
              "  text-align: center;\n",
              "  align-items: start;\n",
              "  justify-content: space-between;\n",
              "  gap: 0.5em;\n",
              "}\n",
              "\n",
              "#sk-container-id-1 label.sk-toggleable__label .caption {\n",
              "  font-size: 0.6rem;\n",
              "  font-weight: lighter;\n",
              "  color: var(--sklearn-color-text-muted);\n",
              "}\n",
              "\n",
              "#sk-container-id-1 label.sk-toggleable__label-arrow:before {\n",
              "  /* Arrow on the left of the label */\n",
              "  content: \"▸\";\n",
              "  float: left;\n",
              "  margin-right: 0.25em;\n",
              "  color: var(--sklearn-color-icon);\n",
              "}\n",
              "\n",
              "#sk-container-id-1 label.sk-toggleable__label-arrow:hover:before {\n",
              "  color: var(--sklearn-color-text);\n",
              "}\n",
              "\n",
              "/* Toggleable content - dropdown */\n",
              "\n",
              "#sk-container-id-1 div.sk-toggleable__content {\n",
              "  max-height: 0;\n",
              "  max-width: 0;\n",
              "  overflow: hidden;\n",
              "  text-align: left;\n",
              "  /* unfitted */\n",
              "  background-color: var(--sklearn-color-unfitted-level-0);\n",
              "}\n",
              "\n",
              "#sk-container-id-1 div.sk-toggleable__content.fitted {\n",
              "  /* fitted */\n",
              "  background-color: var(--sklearn-color-fitted-level-0);\n",
              "}\n",
              "\n",
              "#sk-container-id-1 div.sk-toggleable__content pre {\n",
              "  margin: 0.2em;\n",
              "  border-radius: 0.25em;\n",
              "  color: var(--sklearn-color-text);\n",
              "  /* unfitted */\n",
              "  background-color: var(--sklearn-color-unfitted-level-0);\n",
              "}\n",
              "\n",
              "#sk-container-id-1 div.sk-toggleable__content.fitted pre {\n",
              "  /* unfitted */\n",
              "  background-color: var(--sklearn-color-fitted-level-0);\n",
              "}\n",
              "\n",
              "#sk-container-id-1 input.sk-toggleable__control:checked~div.sk-toggleable__content {\n",
              "  /* Expand drop-down */\n",
              "  max-height: 200px;\n",
              "  max-width: 100%;\n",
              "  overflow: auto;\n",
              "}\n",
              "\n",
              "#sk-container-id-1 input.sk-toggleable__control:checked~label.sk-toggleable__label-arrow:before {\n",
              "  content: \"▾\";\n",
              "}\n",
              "\n",
              "/* Pipeline/ColumnTransformer-specific style */\n",
              "\n",
              "#sk-container-id-1 div.sk-label input.sk-toggleable__control:checked~label.sk-toggleable__label {\n",
              "  color: var(--sklearn-color-text);\n",
              "  background-color: var(--sklearn-color-unfitted-level-2);\n",
              "}\n",
              "\n",
              "#sk-container-id-1 div.sk-label.fitted input.sk-toggleable__control:checked~label.sk-toggleable__label {\n",
              "  background-color: var(--sklearn-color-fitted-level-2);\n",
              "}\n",
              "\n",
              "/* Estimator-specific style */\n",
              "\n",
              "/* Colorize estimator box */\n",
              "#sk-container-id-1 div.sk-estimator input.sk-toggleable__control:checked~label.sk-toggleable__label {\n",
              "  /* unfitted */\n",
              "  background-color: var(--sklearn-color-unfitted-level-2);\n",
              "}\n",
              "\n",
              "#sk-container-id-1 div.sk-estimator.fitted input.sk-toggleable__control:checked~label.sk-toggleable__label {\n",
              "  /* fitted */\n",
              "  background-color: var(--sklearn-color-fitted-level-2);\n",
              "}\n",
              "\n",
              "#sk-container-id-1 div.sk-label label.sk-toggleable__label,\n",
              "#sk-container-id-1 div.sk-label label {\n",
              "  /* The background is the default theme color */\n",
              "  color: var(--sklearn-color-text-on-default-background);\n",
              "}\n",
              "\n",
              "/* On hover, darken the color of the background */\n",
              "#sk-container-id-1 div.sk-label:hover label.sk-toggleable__label {\n",
              "  color: var(--sklearn-color-text);\n",
              "  background-color: var(--sklearn-color-unfitted-level-2);\n",
              "}\n",
              "\n",
              "/* Label box, darken color on hover, fitted */\n",
              "#sk-container-id-1 div.sk-label.fitted:hover label.sk-toggleable__label.fitted {\n",
              "  color: var(--sklearn-color-text);\n",
              "  background-color: var(--sklearn-color-fitted-level-2);\n",
              "}\n",
              "\n",
              "/* Estimator label */\n",
              "\n",
              "#sk-container-id-1 div.sk-label label {\n",
              "  font-family: monospace;\n",
              "  font-weight: bold;\n",
              "  display: inline-block;\n",
              "  line-height: 1.2em;\n",
              "}\n",
              "\n",
              "#sk-container-id-1 div.sk-label-container {\n",
              "  text-align: center;\n",
              "}\n",
              "\n",
              "/* Estimator-specific */\n",
              "#sk-container-id-1 div.sk-estimator {\n",
              "  font-family: monospace;\n",
              "  border: 1px dotted var(--sklearn-color-border-box);\n",
              "  border-radius: 0.25em;\n",
              "  box-sizing: border-box;\n",
              "  margin-bottom: 0.5em;\n",
              "  /* unfitted */\n",
              "  background-color: var(--sklearn-color-unfitted-level-0);\n",
              "}\n",
              "\n",
              "#sk-container-id-1 div.sk-estimator.fitted {\n",
              "  /* fitted */\n",
              "  background-color: var(--sklearn-color-fitted-level-0);\n",
              "}\n",
              "\n",
              "/* on hover */\n",
              "#sk-container-id-1 div.sk-estimator:hover {\n",
              "  /* unfitted */\n",
              "  background-color: var(--sklearn-color-unfitted-level-2);\n",
              "}\n",
              "\n",
              "#sk-container-id-1 div.sk-estimator.fitted:hover {\n",
              "  /* fitted */\n",
              "  background-color: var(--sklearn-color-fitted-level-2);\n",
              "}\n",
              "\n",
              "/* Specification for estimator info (e.g. \"i\" and \"?\") */\n",
              "\n",
              "/* Common style for \"i\" and \"?\" */\n",
              "\n",
              ".sk-estimator-doc-link,\n",
              "a:link.sk-estimator-doc-link,\n",
              "a:visited.sk-estimator-doc-link {\n",
              "  float: right;\n",
              "  font-size: smaller;\n",
              "  line-height: 1em;\n",
              "  font-family: monospace;\n",
              "  background-color: var(--sklearn-color-background);\n",
              "  border-radius: 1em;\n",
              "  height: 1em;\n",
              "  width: 1em;\n",
              "  text-decoration: none !important;\n",
              "  margin-left: 0.5em;\n",
              "  text-align: center;\n",
              "  /* unfitted */\n",
              "  border: var(--sklearn-color-unfitted-level-1) 1pt solid;\n",
              "  color: var(--sklearn-color-unfitted-level-1);\n",
              "}\n",
              "\n",
              ".sk-estimator-doc-link.fitted,\n",
              "a:link.sk-estimator-doc-link.fitted,\n",
              "a:visited.sk-estimator-doc-link.fitted {\n",
              "  /* fitted */\n",
              "  border: var(--sklearn-color-fitted-level-1) 1pt solid;\n",
              "  color: var(--sklearn-color-fitted-level-1);\n",
              "}\n",
              "\n",
              "/* On hover */\n",
              "div.sk-estimator:hover .sk-estimator-doc-link:hover,\n",
              ".sk-estimator-doc-link:hover,\n",
              "div.sk-label-container:hover .sk-estimator-doc-link:hover,\n",
              ".sk-estimator-doc-link:hover {\n",
              "  /* unfitted */\n",
              "  background-color: var(--sklearn-color-unfitted-level-3);\n",
              "  color: var(--sklearn-color-background);\n",
              "  text-decoration: none;\n",
              "}\n",
              "\n",
              "div.sk-estimator.fitted:hover .sk-estimator-doc-link.fitted:hover,\n",
              ".sk-estimator-doc-link.fitted:hover,\n",
              "div.sk-label-container:hover .sk-estimator-doc-link.fitted:hover,\n",
              ".sk-estimator-doc-link.fitted:hover {\n",
              "  /* fitted */\n",
              "  background-color: var(--sklearn-color-fitted-level-3);\n",
              "  color: var(--sklearn-color-background);\n",
              "  text-decoration: none;\n",
              "}\n",
              "\n",
              "/* Span, style for the box shown on hovering the info icon */\n",
              ".sk-estimator-doc-link span {\n",
              "  display: none;\n",
              "  z-index: 9999;\n",
              "  position: relative;\n",
              "  font-weight: normal;\n",
              "  right: .2ex;\n",
              "  padding: .5ex;\n",
              "  margin: .5ex;\n",
              "  width: min-content;\n",
              "  min-width: 20ex;\n",
              "  max-width: 50ex;\n",
              "  color: var(--sklearn-color-text);\n",
              "  box-shadow: 2pt 2pt 4pt #999;\n",
              "  /* unfitted */\n",
              "  background: var(--sklearn-color-unfitted-level-0);\n",
              "  border: .5pt solid var(--sklearn-color-unfitted-level-3);\n",
              "}\n",
              "\n",
              ".sk-estimator-doc-link.fitted span {\n",
              "  /* fitted */\n",
              "  background: var(--sklearn-color-fitted-level-0);\n",
              "  border: var(--sklearn-color-fitted-level-3);\n",
              "}\n",
              "\n",
              ".sk-estimator-doc-link:hover span {\n",
              "  display: block;\n",
              "}\n",
              "\n",
              "/* \"?\"-specific style due to the `<a>` HTML tag */\n",
              "\n",
              "#sk-container-id-1 a.estimator_doc_link {\n",
              "  float: right;\n",
              "  font-size: 1rem;\n",
              "  line-height: 1em;\n",
              "  font-family: monospace;\n",
              "  background-color: var(--sklearn-color-background);\n",
              "  border-radius: 1rem;\n",
              "  height: 1rem;\n",
              "  width: 1rem;\n",
              "  text-decoration: none;\n",
              "  /* unfitted */\n",
              "  color: var(--sklearn-color-unfitted-level-1);\n",
              "  border: var(--sklearn-color-unfitted-level-1) 1pt solid;\n",
              "}\n",
              "\n",
              "#sk-container-id-1 a.estimator_doc_link.fitted {\n",
              "  /* fitted */\n",
              "  border: var(--sklearn-color-fitted-level-1) 1pt solid;\n",
              "  color: var(--sklearn-color-fitted-level-1);\n",
              "}\n",
              "\n",
              "/* On hover */\n",
              "#sk-container-id-1 a.estimator_doc_link:hover {\n",
              "  /* unfitted */\n",
              "  background-color: var(--sklearn-color-unfitted-level-3);\n",
              "  color: var(--sklearn-color-background);\n",
              "  text-decoration: none;\n",
              "}\n",
              "\n",
              "#sk-container-id-1 a.estimator_doc_link.fitted:hover {\n",
              "  /* fitted */\n",
              "  background-color: var(--sklearn-color-fitted-level-3);\n",
              "}\n",
              "</style><div id=\"sk-container-id-1\" class=\"sk-top-container\"><div class=\"sk-text-repr-fallback\"><pre>DecisionTreeClassifier(random_state=777)</pre><b>In a Jupyter environment, please rerun this cell to show the HTML representation or trust the notebook. <br />On GitHub, the HTML representation is unable to render, please try loading this page with nbviewer.org.</b></div><div class=\"sk-container\" hidden><div class=\"sk-item\"><div class=\"sk-estimator fitted sk-toggleable\"><input class=\"sk-toggleable__control sk-hidden--visually\" id=\"sk-estimator-id-1\" type=\"checkbox\" checked><label for=\"sk-estimator-id-1\" class=\"sk-toggleable__label fitted sk-toggleable__label-arrow\"><div><div>DecisionTreeClassifier</div></div><div><a class=\"sk-estimator-doc-link fitted\" rel=\"noreferrer\" target=\"_blank\" href=\"https://scikit-learn.org/1.6/modules/generated/sklearn.tree.DecisionTreeClassifier.html\">?<span>Documentation for DecisionTreeClassifier</span></a><span class=\"sk-estimator-doc-link fitted\">i<span>Fitted</span></span></div></label><div class=\"sk-toggleable__content fitted\"><pre>DecisionTreeClassifier(random_state=777)</pre></div> </div></div></div></div>"
            ]
          },
          "metadata": {},
          "execution_count": 7
        }
      ],
      "source": [
        "# переменные для признаков и целевого признака обучающей выборки\n",
        "train_features = df_train.drop([\"is_ultra\"], axis=1)\n",
        "train_target = df_train[\"is_ultra\"]\n",
        "# переменные для признаков и целевого признака валидационной выборки\n",
        "valid_features = df_valid.drop([\"is_ultra\"], axis=1)\n",
        "valid_target = df_valid[\"is_ultra\"]\n",
        "# создание модели\n",
        "model_dtc = DecisionTreeClassifier(random_state=777)\n",
        "\n",
        "# Обучение модели\n",
        "model_dtc.fit(train_features, train_target)"
      ]
    },
    {
      "cell_type": "code",
      "execution_count": null,
      "metadata": {
        "id": "Bjvo4wr6pm7V",
        "outputId": "6e99b53d-5cd5-4d05-a164-f205272ed9f6",
        "colab": {
          "base_uri": "https://localhost:8080/"
        }
      },
      "outputs": [
        {
          "output_type": "execute_result",
          "data": {
            "text/plain": [
              "1.0"
            ]
          },
          "metadata": {},
          "execution_count": 8
        }
      ],
      "source": [
        "train_predictions = model_dtc.predict(train_features)\n",
        "accuracy_learn = accuracy_score(train_target, train_predictions)\n",
        "accuracy_learn"
      ]
    },
    {
      "cell_type": "markdown",
      "metadata": {
        "id": "AnCzDaWJpm7V"
      },
      "source": [
        "На обучающей выборке точность предсказаний равна 1, значит модель корректно обучилась и не делает ошибок при определении значений столбца `is_ultra` в обучающей выборке `df_train`\n",
        "\n",
        "Оценим модели с различным гиперпараметром max_depth который отвечает за максимальную глубину дерева решений\n",
        "   - Для глубины дерева от 1 до 10  создадим новую модель, обучим её и оценим точность на валидационной выборке.\n",
        "   - Результаты выведем на экран."
      ]
    },
    {
      "cell_type": "code",
      "execution_count": null,
      "metadata": {
        "scrolled": true,
        "id": "zbYS7AgOpm7V",
        "outputId": "98a30980-5d94-432b-ea8a-37117baf72a5",
        "colab": {
          "base_uri": "https://localhost:8080/"
        }
      },
      "outputs": [
        {
          "output_type": "stream",
          "name": "stdout",
          "text": [
            "max_depth = 1, criterion = gini : 0.7667\n",
            "max_depth = 1, criterion = entropy : 0.7667\n",
            "max_depth = 2, criterion = gini : 0.7823\n",
            "max_depth = 2, criterion = entropy : 0.7823\n",
            "max_depth = 3, criterion = gini : 0.7916\n",
            "max_depth = 3, criterion = entropy : 0.7916\n",
            "max_depth = 4, criterion = gini : 0.7978\n",
            "max_depth = 4, criterion = entropy : 0.7916\n",
            "max_depth = 5, criterion = gini : 0.7978\n",
            "max_depth = 5, criterion = entropy : 0.7838\n",
            "max_depth = 6, criterion = gini : 0.7947\n",
            "max_depth = 6, criterion = entropy : 0.7994\n",
            "max_depth = 7, criterion = gini : 0.7978\n",
            "max_depth = 7, criterion = entropy : 0.8009\n",
            "max_depth = 8, criterion = gini : 0.7947\n",
            "max_depth = 8, criterion = entropy : 0.8103\n",
            "max_depth = 9, criterion = gini : 0.8009\n",
            "max_depth = 9, criterion = entropy : 0.8103\n",
            "max_depth = 10, criterion = gini : 0.7869\n",
            "max_depth = 10, criterion = entropy : 0.7745\n",
            "\n",
            "Лучшие параметры: {'max_depth': 8, 'criterion': 'entropy'}\n",
            "Лучшая accuracy: 0.8103\n"
          ]
        }
      ],
      "source": [
        "# Поиск лучших параметров\n",
        "best_accuracy = 0\n",
        "best_params = {}\n",
        "\n",
        "for depth in range(1, 11):\n",
        "    for criterion in [\"gini\", \"entropy\"]:\n",
        "        model_dtc = DecisionTreeClassifier(\n",
        "            random_state=777,\n",
        "            max_depth=depth,\n",
        "            criterion=criterion,\n",
        "        )\n",
        "\n",
        "        model_dtc.fit(train_features, train_target)\n",
        "        valid_predictions = model_dtc.predict(valid_features)\n",
        "        accuracy = accuracy_score(valid_target, valid_predictions)\n",
        "\n",
        "        print(f\"max_depth = {depth}, criterion = {criterion} : {accuracy:.4f}\")\n",
        "\n",
        "        if accuracy > best_accuracy:\n",
        "            best_accuracy = accuracy\n",
        "            best_params = {\"max_depth\": depth, \"criterion\": criterion}\n",
        "\n",
        "print(f\"\\nЛучшие параметры: {best_params}\")\n",
        "print(f\"Лучшая accuracy: {best_accuracy:.4f}\")"
      ]
    },
    {
      "cell_type": "code",
      "source": [
        "# Создаем финальную модель с лучшими параметрами\n",
        "final_model = DecisionTreeClassifier(\n",
        "    random_state=777,\n",
        "    **best_params  # распаковываем лучшие параметры\n",
        ")\n",
        "\n",
        "final_model.fit(train_features, train_target)\n",
        "\n",
        "# Тестируем на тестовой выборке\n",
        "test_predictions = final_model.predict(test_features)\n",
        "test_accuracy = accuracy_score(test_target, test_predictions)\n",
        "\n",
        "print(f\"Accuracy на тестовой выборке: {test_accuracy:.4f}\")"
      ],
      "metadata": {
        "id": "gk4iQxpcaW3v"
      },
      "execution_count": null,
      "outputs": []
    },
    {
      "cell_type": "markdown",
      "metadata": {
        "id": "P2XyyEtnpm7W"
      },
      "source": [
        "Лучшая accuracy соответвует параметру `max_depth` = 8, критерий = `entropy`\n",
        "\n",
        "Gini фокусируется на вероятности случайного выбора разных классов, тогда как Entropy оценивает уровень неопределенности в данных. Entropy более чувствительна к изменениям в распределении классов, в то время как Gini может быть менее чувствителен к малым изменениям."
      ]
    },
    {
      "cell_type": "markdown",
      "metadata": {
        "id": "UQjdhDMdpm7Z"
      },
      "source": [
        "<a class='anchor' id='random_forest'></a>\n",
        "### 3.2 Модель случайного леса\n"
      ]
    },
    {
      "cell_type": "markdown",
      "metadata": {
        "id": "LV0Yiu0gpm7Z"
      },
      "source": [
        "Для построения модели случайного леса зададим параметры\n",
        "\n",
        "`n_estimators от 1 до 10:`  количество  деревьев решений, которые будут использованы в модели.\n",
        "\n",
        "`max_depth от 1 до 5:`   ограничивает максимальную глубину каждого отдельного дерева в модели.\n",
        "\n",
        "- Установка значения `max_depth` помогает контролировать сложность модели. Более глубокие деревья могут лучше подстраиваться под данные, но также имеют больший риск переобучения, особенно если данные шумные."
      ]
    },
    {
      "cell_type": "code",
      "execution_count": null,
      "metadata": {
        "id": "7sIWcFlepm7Z",
        "outputId": "166c46b0-1b81-48fe-9423-1ce29ba2bc98",
        "colab": {
          "base_uri": "https://localhost:8080/"
        }
      },
      "outputs": [
        {
          "output_type": "stream",
          "name": "stdout",
          "text": [
            "Accuracy наилучшей модели на валидационной выборке: 0.8087091757387247\n",
            "Наилучшая модель:\n",
            "n_estimators: 7\n",
            "max_depth: 7\n"
          ]
        }
      ],
      "source": [
        "best_model = None\n",
        "best_result = 0\n",
        "for est in range(1, 11):\n",
        "    for depth in range(1, 11):\n",
        "        model_rfc = RandomForestClassifier(\n",
        "            random_state=777, max_depth=depth, n_estimators=est\n",
        "        )\n",
        "        model_rfc.fit(\n",
        "            train_features, train_target\n",
        "        )  # обучение  на тренировочной выборке\n",
        "        result = model_rfc.score(valid_features, valid_target)\n",
        "        if result > best_result:\n",
        "            best_model = model_rfc  # сохраняем наилучшую модель\n",
        "            best_result = result  # сохраняем наилучшее значение метрики accuracy на валидационных данных\n",
        "\n",
        "print(\"Accuracy наилучшей модели на валидационной выборке:\", best_result)\n",
        "print(\"Наилучшая модель:\")\n",
        "print(\"n_estimators:\", best_model.n_estimators)\n",
        "print(\"max_depth:\", best_model.max_depth)"
      ]
    },
    {
      "cell_type": "markdown",
      "metadata": {
        "id": "J_ARsAhopm7Z"
      },
      "source": [
        "<a class='anchor' id='logistic'></a>\n",
        "### 3.3 Модель логистической регрессии"
      ]
    },
    {
      "cell_type": "markdown",
      "metadata": {
        "id": "b9N6ZDWypm7Z"
      },
      "source": [
        "Логистическая регрессия — это статистический метод, используемый для бинарной классификации, который моделирует вероятность принадлежности объекта к одному из двух классов."
      ]
    },
    {
      "cell_type": "markdown",
      "source": [
        "Настройка LogisticRegression\n",
        "\n",
        "Обязательные параметры для перебора**\n",
        "- `C` (регуляризация) → [0.001, 0.01, 0.1, 1, 10, 100]\n",
        "- `solver` (алгоритм) → ['lbfgs', 'liblinear', 'newton-cg', 'sag', 'saga']\n",
        "- `max_iter` (итерации) → [500, 1000, 2000]\n",
        "- `class_weight` → [None, 'balanced'] ⚠️ при дисбалансе классов\n",
        "\n",
        "** Важные ограничения совместимости**\n",
        "- `liblinear` → только `l1` и `l2` penalty\n",
        "- `lbfgs/newton-cg/sag` → только `l2` или `None` penalty  \n",
        "- `saga` → поддерживает все penalty включая `elasticnet`\n",
        "- `elasticnet` → требует `l1_ratio`\n",
        "\n",
        " **Рекомендации по использованию**\n",
        "1. **Всегда используй StandardScaler** для solver'ов: sag, saga, lbfgs, newton-cg\n",
        "2. **При дисбалансе классов** пробуй class_weight='balanced'\n",
        "3. **Для больших данных** используй solver='sag' или 'saga'\n",
        "4. **Для L1-регуляризации** только solver='liblinear' или 'saga'\n",
        "\n",
        "**Интерпретация результатов**\n",
        "- **Высокое C (1-100)** → слабая регуляризация, риск переобучения\n",
        "- **Низкое C (0.001-0.1)** → сильная регуляризация, риск недобучения\n",
        "- **class_weight='balanced'** → улучшает recall для миноритарных классов\n",
        "\n",
        "**Производительность**\n",
        "- `n_jobs=-1` → использует все ядра процессора\n",
        "- `cv=5` → оптимальный баланс точности и скорости\n",
        "- `verbose=1` → отслеживание прогресса при большом количестве комбинаций"
      ],
      "metadata": {
        "id": "bO9AZ3vLKJjE"
      }
    },
    {
      "cell_type": "code",
      "source": [
        "from sklearn.linear_model import LogisticRegression\n",
        "from sklearn.model_selection import GridSearchCV\n",
        "from sklearn.preprocessing import StandardScaler\n",
        "from sklearn.pipeline import Pipeline\n",
        "\n",
        "# Базовый пайплайн\n",
        "pipeline = Pipeline(\n",
        "    [\n",
        "        (\"scaler\", StandardScaler()),\n",
        "        (\"logreg\", LogisticRegression(random_state=777, n_jobs=-1)),\n",
        "    ]\n",
        ")\n",
        "\n",
        "# Основные параметры включая class_weight\n",
        "param_grid = {\n",
        "    \"scaler\": [StandardScaler(), None],\n",
        "    \"logreg__solver\": [\"lbfgs\", \"liblinear\"],\n",
        "    \"logreg__C\": [0.01, 0.1, 1, 10, 100],\n",
        "    \"logreg__max_iter\": [1000, 2000],\n",
        "    \"logreg__class_weight\": [None, \"balanced\"],  # ← добавлен class_weight\n",
        "    \"logreg__fit_intercept\": [True, False],  # ← добавлен fit_intercept\n",
        "}\n",
        "\n",
        "grid_search = GridSearchCV(\n",
        "    pipeline, param_grid, cv=3, scoring=\"accuracy\", n_jobs=-1, verbose=1\n",
        ")\n",
        "\n",
        "grid_search.fit(train_features, train_target)\n",
        "\n",
        "print(\"Лучшие параметры:\", grid_search.best_params_)\n",
        "print(\"Лучшая accuracy:\", grid_search.best_score_)"
      ],
      "metadata": {
        "colab": {
          "base_uri": "https://localhost:8080/"
        },
        "id": "1m7ckaQ7IG29",
        "outputId": "c143ec9c-e10a-40a6-8283-bf4bf3060796"
      },
      "execution_count": null,
      "outputs": [
        {
          "output_type": "stream",
          "name": "stdout",
          "text": [
            "Fitting 3 folds for each of 160 candidates, totalling 480 fits\n",
            "Лучшие параметры: {'logreg__C': 0.1, 'logreg__class_weight': None, 'logreg__fit_intercept': True, 'logreg__max_iter': 1000, 'logreg__solver': 'liblinear', 'scaler': StandardScaler()}\n",
            "Лучшая accuracy: 0.7427492171463915\n"
          ]
        }
      ]
    },
    {
      "cell_type": "code",
      "execution_count": null,
      "metadata": {
        "id": "k79u91-Opm7Z",
        "outputId": "63a1da1d-4f7c-42d1-ceeb-0d75e9980537",
        "colab": {
          "base_uri": "https://localhost:8080/"
        }
      },
      "outputs": [
        {
          "output_type": "stream",
          "name": "stdout",
          "text": [
            "Accuracy наилучшей модели логистической регрессии на валидационной выборке: 0.7636080870917574\n",
            "Наилучшая модель:\n",
            "solver: liblinear\n",
            "max_iter: 500\n"
          ]
        }
      ],
      "source": [
        "best_model_lr = None\n",
        "best_result_lr = 0\n",
        "\n",
        "for solver in [\"lbfgs\", \"liblinear\"]:\n",
        "    for i in [500, 1000, 1500]:\n",
        "        model_lr = LogisticRegression(random_state=777, solver=solver, max_iter=i)\n",
        "        model_lr.fit(train_features, train_target)  # обучение на тренировочной выборке\n",
        "        valid_predictions = model_lr.predict(valid_features)\n",
        "        accuracy_lr = accuracy_score(valid_target, valid_predictions)\n",
        "        if accuracy_lr > best_result_lr:\n",
        "            best_model_lr = model_lr  # сохраняем наилучшую модель\n",
        "            best_result_lr = accuracy_lr  # сохраняем наилучшее значение метрики accuracy на валидационных данных\n",
        "print(\n",
        "    \"Accuracy наилучшей модели логистической регрессии на валидационной выборке:\",\n",
        "    best_result_lr,\n",
        ")\n",
        "print(\"Наилучшая модель:\")\n",
        "print(\"solver:\", best_model_lr.solver)\n",
        "print(\"max_iter:\", best_model_lr.max_iter)"
      ]
    },
    {
      "cell_type": "markdown",
      "source": [
        "Более простая модель без применения Grid Search показала лучший результат. Ключевое отличие: GridSearchCV оптимизирует под среднюю производительность на кросс-валидации, а не под конкретную валидационную выборку, как это делает классическая модель линейной регрессии\n",
        "\n",
        "Вероятнее всего:\n",
        "\n",
        "GridSearchCV выбрал масштабирование, которое ухудшило результат для твоих данных\n",
        "\n",
        "Простая модель попала в \"удачную\" комбинацию параметров для конкретной валидационной выборки\n",
        "\n"
      ],
      "metadata": {
        "id": "jF0lrti1pm7Z"
      }
    },
    {
      "cell_type": "markdown",
      "metadata": {
        "id": "JQOsXnc8pm7a"
      },
      "source": [
        "Полученные результаты хуже чем в методах случайного леса и решающего древа. Более низкая точность может быть связана с особенностями модели:\n",
        "- Неэффективна для сложных зависимостей (например, нелинейные).\n",
        "- Чувствительна к выбросам.\n",
        "\n",
        "Оба этих фактора  имеют место в исходных данных\n",
        "\n",
        "[назад к содержанию](#content)"
      ]
    },
    {
      "cell_type": "markdown",
      "metadata": {
        "id": "DRqhIeTZpm7a"
      },
      "source": [
        "<a class='anchor' id='result'></a>\n",
        "## 4. Результаты исследования. Вывод\n",
        "**Сравнение моделей**\n",
        "\n",
        "- дерево решений,\n",
        "- случайный лес,\n",
        "- логистическая регрессия.\n",
        "\n",
        " Оценим модели по качеству (accuracy) и скорости работы.\n",
        "1. Качество (accuracy). Это самый важный критерий для бизнеса: чем выше качество, тем больше прибыли приносит продукт.\n",
        " - Самое высокое качество  **0.81** у решающего дерева с параметрами `max_depth`=9, `criterion=\"entropy\"`\n",
        " - На втором месте — у случайного леса с параметрами `n_estimators:` 4 и `max_depth:` 5 .  **0.80**\n",
        " - Самое низкое качество предсказания у логистической регрессии.\n",
        "\n",
        "2. Скорость работы.\n",
        "Высокая скорость работы у логистической регрессии: у неё меньше всего параметров, однако скорость работы зависит от количества итераций.\n",
        "Скорость решающего дерева тоже высокая и зависит от глубины. В нашем случае глубина всего 4 признакаЯ, это немного.\n",
        "Случайный лес медленнее всех: чем больше деревьев, тем неторопливее работает модель. В нашем случае деревьев 4\n",
        "\n",
        "Учитывая что параметры модели решающего древа относительно невелики, принимаем эту модель со значением **accuracy = 0.81** за наиболее точную и проверим ее на тестовой выборке.\n",
        "\n",
        "[назад к содержанию](#content)"
      ]
    },
    {
      "cell_type": "markdown",
      "metadata": {
        "id": "5I4Asxt_pm7a"
      },
      "source": [
        "\n",
        "<a class='anchor' id='check'></a>\n",
        "## 5. Проверка модели на тестовой выборке\n"
      ]
    },
    {
      "cell_type": "markdown",
      "source": [
        "На тестовой выборке проверим выбранную модель решающего дерева"
      ],
      "metadata": {
        "id": "MWi1IrcQXohX"
      }
    },
    {
      "cell_type": "code",
      "source": [
        "test_features = df_test.drop([\"is_ultra\"], axis=1)\n",
        "test_target = df_test[\"is_ultra\"]"
      ],
      "metadata": {
        "id": "wAdeKc9-X8OH"
      },
      "execution_count": null,
      "outputs": []
    },
    {
      "cell_type": "code",
      "source": [
        "# 1. Создаем и обучаем финальную модель с лучшими параметрами\n",
        "final_model = DecisionTreeClassifier(random_state=777, **best_params)\n",
        "final_model.fit(train_features, train_target)\n",
        "\n",
        "# получим предсказания для выборок\n",
        "train_predictions = final_model.predict(train_features)\n",
        "valid_predictions = final_model.predict(valid_features)\n",
        "test_predictions = final_model.predict(test_features)\n",
        "\n",
        "# 3. Accuracy на всех выборках\n",
        "accuracy_train = accuracy_score(train_target, train_predictions)\n",
        "accuracy_valid = accuracy_score(valid_target, valid_predictions)\n",
        "accuracy_test = accuracy_score(test_target, test_predictions)\n",
        "\n",
        "print(f\"Accuracy на ТРЕНИРОВОЧНОЙ выборке: {accuracy_train:.4f}\")\n",
        "print(f\"Accuracy на ВАЛИДАЦИОННОЙ выборке: {accuracy_valid:.4f}\")\n",
        "print(f\"Accuracy на ТЕСТОВОЙ выборке: {accuracy_test:.4f}\")\n",
        "\n",
        "# 4. Анализ переобучения (сравниваем train vs test)\n",
        "difference = accuracy_train - accuracy_test\n",
        "if difference > 0.05:\n",
        "    print(f\"⚠️ Разница {difference:.4f} - возможное переобучение\")\n",
        "elif difference < -0.02:\n",
        "    print(f\"🔍 Разница {difference:.4f} - возможно недобучение\")\n",
        "else:\n",
        "    print(\"✅ Модель стабильна\")"
      ],
      "metadata": {
        "colab": {
          "base_uri": "https://localhost:8080/"
        },
        "id": "h5tEMgdOX4zX",
        "outputId": "30a7a0ea-c181-4fe3-a48d-ed90b45797e4"
      },
      "execution_count": null,
      "outputs": [
        {
          "output_type": "stream",
          "name": "stdout",
          "text": [
            "Accuracy на ТРЕНИРОВОЧНОЙ выборке: 0.8413\n",
            "Accuracy на ВАЛИДАЦИОННОЙ выборке: 0.8103\n",
            "Accuracy на ТЕСТОВОЙ выборке: 0.7947\n",
            "✅ Модель стабильна\n"
          ]
        }
      ]
    },
    {
      "cell_type": "markdown",
      "metadata": {
        "id": "mvNkuAX6pm7b"
      },
      "source": [
        "\n",
        "**Выводы исследования:**\n",
        "\n",
        "Модель **решающего дерева** с параметрами `max_depth=8` и `criterion=entropy` демонстрирует:\n",
        "\n",
        "- **Высокую точность**: 0.8103 на валидационной выборке\n",
        "- **Хорошую стабильность**: 0.7947 на тестовой выборке\n",
        "- **Минимальное переобучение**: разница между тренировочной и тестовой accuracy составляет всего 0.0466\n",
        "\n",
        "**Рекомендация:**\n",
        "Модель показывает сбалансированные результаты и рекомендуется к внедрению для классификации пользователей тарифов \"SMART\" и \"ULTRA\". Стабильность показателей на различных выборках свидетельствует о хорошей обобщающей способности модели.\n",
        "\n",
        "Одинаковое значение accuracy (точности) на тестовой и тренировочной выборках в модели решающего дерева может говорить о нескольких вещах:\n",
        "\n",
        "1. **Непереобучение**: Если модель показывает схожие результаты на валидационной и тестовой выборках, это может указывать на то, что она не переобучена.\n",
        "\n",
        "2. **Сложность задачи**: Соответсвует выбранной нами модели и гиперпараметрам\n",
        "\n",
        "3. **Данные**: Если обе выборки имеют схожие характеристики и распределение данных, модель может хорошо работать на обеих выборках.\n",
        "\n",
        "4. **Точность**:о качестве модели нельзя однозначно судить по одному значению accuracy = 0.8. Рекомендуется рассмотреть дополнительные критерии оценки модели\n",
        "\n",
        "**Итог:**\n",
        "для принятия решений о переводе пользователей на новые тарифы из линейки \"SMART\" и \"ULTRA\" рекомендую применять модель обучения решающего дерева `final_model` этого исследования с параметрами с параметрами `max_depth=8` и `criterion=entropy`"
      ]
    },
    {
      "cell_type": "markdown",
      "metadata": {
        "id": "wo3i_DDOpm7b"
      },
      "source": [
        "### 5.1. Проверка модели на адекватность"
      ]
    },
    {
      "cell_type": "markdown",
      "metadata": {
        "id": "RCM66spHpm7b"
      },
      "source": [
        "Для проверки на адеватность преположим что другая случайно выбранная модель предсказала назначения тарифов пользователям исходя из значения в столбце `minutes` - тем у кого значение в этом столбце выше среднего она присвоила тариф ULTRA. Определим ее accuracy"
      ]
    },
    {
      "cell_type": "code",
      "execution_count": null,
      "metadata": {
        "id": "1-5vKU7spm7b",
        "outputId": "4eb89b80-5bce-424c-85e5-15ea557c018d",
        "colab": {
          "base_uri": "https://localhost:8080/",
          "height": 206
        }
      },
      "outputs": [
        {
          "output_type": "execute_result",
          "data": {
            "text/plain": [
              "   calls  minutes  messages   mb_used  is_ultra\n",
              "0   40.0   311.90      83.0  19915.42         0\n",
              "1   85.0   516.75      56.0  22696.96         1\n",
              "2   77.0   467.66      86.0  21060.45         1\n",
              "3  106.0   745.53      81.0   8437.39         1\n",
              "4   66.0   418.74       1.0  14502.75         0"
            ],
            "text/html": [
              "\n",
              "  <div id=\"df-4c1b0d31-3391-4dbc-8a85-644ffb158de1\" class=\"colab-df-container\">\n",
              "    <div>\n",
              "<style scoped>\n",
              "    .dataframe tbody tr th:only-of-type {\n",
              "        vertical-align: middle;\n",
              "    }\n",
              "\n",
              "    .dataframe tbody tr th {\n",
              "        vertical-align: top;\n",
              "    }\n",
              "\n",
              "    .dataframe thead th {\n",
              "        text-align: right;\n",
              "    }\n",
              "</style>\n",
              "<table border=\"1\" class=\"dataframe\">\n",
              "  <thead>\n",
              "    <tr style=\"text-align: right;\">\n",
              "      <th></th>\n",
              "      <th>calls</th>\n",
              "      <th>minutes</th>\n",
              "      <th>messages</th>\n",
              "      <th>mb_used</th>\n",
              "      <th>is_ultra</th>\n",
              "    </tr>\n",
              "  </thead>\n",
              "  <tbody>\n",
              "    <tr>\n",
              "      <th>0</th>\n",
              "      <td>40.0</td>\n",
              "      <td>311.90</td>\n",
              "      <td>83.0</td>\n",
              "      <td>19915.42</td>\n",
              "      <td>0</td>\n",
              "    </tr>\n",
              "    <tr>\n",
              "      <th>1</th>\n",
              "      <td>85.0</td>\n",
              "      <td>516.75</td>\n",
              "      <td>56.0</td>\n",
              "      <td>22696.96</td>\n",
              "      <td>1</td>\n",
              "    </tr>\n",
              "    <tr>\n",
              "      <th>2</th>\n",
              "      <td>77.0</td>\n",
              "      <td>467.66</td>\n",
              "      <td>86.0</td>\n",
              "      <td>21060.45</td>\n",
              "      <td>1</td>\n",
              "    </tr>\n",
              "    <tr>\n",
              "      <th>3</th>\n",
              "      <td>106.0</td>\n",
              "      <td>745.53</td>\n",
              "      <td>81.0</td>\n",
              "      <td>8437.39</td>\n",
              "      <td>1</td>\n",
              "    </tr>\n",
              "    <tr>\n",
              "      <th>4</th>\n",
              "      <td>66.0</td>\n",
              "      <td>418.74</td>\n",
              "      <td>1.0</td>\n",
              "      <td>14502.75</td>\n",
              "      <td>0</td>\n",
              "    </tr>\n",
              "  </tbody>\n",
              "</table>\n",
              "</div>\n",
              "    <div class=\"colab-df-buttons\">\n",
              "\n",
              "  <div class=\"colab-df-container\">\n",
              "    <button class=\"colab-df-convert\" onclick=\"convertToInteractive('df-4c1b0d31-3391-4dbc-8a85-644ffb158de1')\"\n",
              "            title=\"Convert this dataframe to an interactive table.\"\n",
              "            style=\"display:none;\">\n",
              "\n",
              "  <svg xmlns=\"http://www.w3.org/2000/svg\" height=\"24px\" viewBox=\"0 -960 960 960\">\n",
              "    <path d=\"M120-120v-720h720v720H120Zm60-500h600v-160H180v160Zm220 220h160v-160H400v160Zm0 220h160v-160H400v160ZM180-400h160v-160H180v160Zm440 0h160v-160H620v160ZM180-180h160v-160H180v160Zm440 0h160v-160H620v160Z\"/>\n",
              "  </svg>\n",
              "    </button>\n",
              "\n",
              "  <style>\n",
              "    .colab-df-container {\n",
              "      display:flex;\n",
              "      gap: 12px;\n",
              "    }\n",
              "\n",
              "    .colab-df-convert {\n",
              "      background-color: #E8F0FE;\n",
              "      border: none;\n",
              "      border-radius: 50%;\n",
              "      cursor: pointer;\n",
              "      display: none;\n",
              "      fill: #1967D2;\n",
              "      height: 32px;\n",
              "      padding: 0 0 0 0;\n",
              "      width: 32px;\n",
              "    }\n",
              "\n",
              "    .colab-df-convert:hover {\n",
              "      background-color: #E2EBFA;\n",
              "      box-shadow: 0px 1px 2px rgba(60, 64, 67, 0.3), 0px 1px 3px 1px rgba(60, 64, 67, 0.15);\n",
              "      fill: #174EA6;\n",
              "    }\n",
              "\n",
              "    .colab-df-buttons div {\n",
              "      margin-bottom: 4px;\n",
              "    }\n",
              "\n",
              "    [theme=dark] .colab-df-convert {\n",
              "      background-color: #3B4455;\n",
              "      fill: #D2E3FC;\n",
              "    }\n",
              "\n",
              "    [theme=dark] .colab-df-convert:hover {\n",
              "      background-color: #434B5C;\n",
              "      box-shadow: 0px 1px 3px 1px rgba(0, 0, 0, 0.15);\n",
              "      filter: drop-shadow(0px 1px 2px rgba(0, 0, 0, 0.3));\n",
              "      fill: #FFFFFF;\n",
              "    }\n",
              "  </style>\n",
              "\n",
              "    <script>\n",
              "      const buttonEl =\n",
              "        document.querySelector('#df-4c1b0d31-3391-4dbc-8a85-644ffb158de1 button.colab-df-convert');\n",
              "      buttonEl.style.display =\n",
              "        google.colab.kernel.accessAllowed ? 'block' : 'none';\n",
              "\n",
              "      async function convertToInteractive(key) {\n",
              "        const element = document.querySelector('#df-4c1b0d31-3391-4dbc-8a85-644ffb158de1');\n",
              "        const dataTable =\n",
              "          await google.colab.kernel.invokeFunction('convertToInteractive',\n",
              "                                                    [key], {});\n",
              "        if (!dataTable) return;\n",
              "\n",
              "        const docLinkHtml = 'Like what you see? Visit the ' +\n",
              "          '<a target=\"_blank\" href=https://colab.research.google.com/notebooks/data_table.ipynb>data table notebook</a>'\n",
              "          + ' to learn more about interactive tables.';\n",
              "        element.innerHTML = '';\n",
              "        dataTable['output_type'] = 'display_data';\n",
              "        await google.colab.output.renderOutput(dataTable, element);\n",
              "        const docLink = document.createElement('div');\n",
              "        docLink.innerHTML = docLinkHtml;\n",
              "        element.appendChild(docLink);\n",
              "      }\n",
              "    </script>\n",
              "  </div>\n",
              "\n",
              "\n",
              "    <div id=\"df-2a5723e0-75dd-4218-a6cd-4ee59f5ddea1\">\n",
              "      <button class=\"colab-df-quickchart\" onclick=\"quickchart('df-2a5723e0-75dd-4218-a6cd-4ee59f5ddea1')\"\n",
              "                title=\"Suggest charts\"\n",
              "                style=\"display:none;\">\n",
              "\n",
              "<svg xmlns=\"http://www.w3.org/2000/svg\" height=\"24px\"viewBox=\"0 0 24 24\"\n",
              "     width=\"24px\">\n",
              "    <g>\n",
              "        <path d=\"M19 3H5c-1.1 0-2 .9-2 2v14c0 1.1.9 2 2 2h14c1.1 0 2-.9 2-2V5c0-1.1-.9-2-2-2zM9 17H7v-7h2v7zm4 0h-2V7h2v10zm4 0h-2v-4h2v4z\"/>\n",
              "    </g>\n",
              "</svg>\n",
              "      </button>\n",
              "\n",
              "<style>\n",
              "  .colab-df-quickchart {\n",
              "      --bg-color: #E8F0FE;\n",
              "      --fill-color: #1967D2;\n",
              "      --hover-bg-color: #E2EBFA;\n",
              "      --hover-fill-color: #174EA6;\n",
              "      --disabled-fill-color: #AAA;\n",
              "      --disabled-bg-color: #DDD;\n",
              "  }\n",
              "\n",
              "  [theme=dark] .colab-df-quickchart {\n",
              "      --bg-color: #3B4455;\n",
              "      --fill-color: #D2E3FC;\n",
              "      --hover-bg-color: #434B5C;\n",
              "      --hover-fill-color: #FFFFFF;\n",
              "      --disabled-bg-color: #3B4455;\n",
              "      --disabled-fill-color: #666;\n",
              "  }\n",
              "\n",
              "  .colab-df-quickchart {\n",
              "    background-color: var(--bg-color);\n",
              "    border: none;\n",
              "    border-radius: 50%;\n",
              "    cursor: pointer;\n",
              "    display: none;\n",
              "    fill: var(--fill-color);\n",
              "    height: 32px;\n",
              "    padding: 0;\n",
              "    width: 32px;\n",
              "  }\n",
              "\n",
              "  .colab-df-quickchart:hover {\n",
              "    background-color: var(--hover-bg-color);\n",
              "    box-shadow: 0 1px 2px rgba(60, 64, 67, 0.3), 0 1px 3px 1px rgba(60, 64, 67, 0.15);\n",
              "    fill: var(--button-hover-fill-color);\n",
              "  }\n",
              "\n",
              "  .colab-df-quickchart-complete:disabled,\n",
              "  .colab-df-quickchart-complete:disabled:hover {\n",
              "    background-color: var(--disabled-bg-color);\n",
              "    fill: var(--disabled-fill-color);\n",
              "    box-shadow: none;\n",
              "  }\n",
              "\n",
              "  .colab-df-spinner {\n",
              "    border: 2px solid var(--fill-color);\n",
              "    border-color: transparent;\n",
              "    border-bottom-color: var(--fill-color);\n",
              "    animation:\n",
              "      spin 1s steps(1) infinite;\n",
              "  }\n",
              "\n",
              "  @keyframes spin {\n",
              "    0% {\n",
              "      border-color: transparent;\n",
              "      border-bottom-color: var(--fill-color);\n",
              "      border-left-color: var(--fill-color);\n",
              "    }\n",
              "    20% {\n",
              "      border-color: transparent;\n",
              "      border-left-color: var(--fill-color);\n",
              "      border-top-color: var(--fill-color);\n",
              "    }\n",
              "    30% {\n",
              "      border-color: transparent;\n",
              "      border-left-color: var(--fill-color);\n",
              "      border-top-color: var(--fill-color);\n",
              "      border-right-color: var(--fill-color);\n",
              "    }\n",
              "    40% {\n",
              "      border-color: transparent;\n",
              "      border-right-color: var(--fill-color);\n",
              "      border-top-color: var(--fill-color);\n",
              "    }\n",
              "    60% {\n",
              "      border-color: transparent;\n",
              "      border-right-color: var(--fill-color);\n",
              "    }\n",
              "    80% {\n",
              "      border-color: transparent;\n",
              "      border-right-color: var(--fill-color);\n",
              "      border-bottom-color: var(--fill-color);\n",
              "    }\n",
              "    90% {\n",
              "      border-color: transparent;\n",
              "      border-bottom-color: var(--fill-color);\n",
              "    }\n",
              "  }\n",
              "</style>\n",
              "\n",
              "      <script>\n",
              "        async function quickchart(key) {\n",
              "          const quickchartButtonEl =\n",
              "            document.querySelector('#' + key + ' button');\n",
              "          quickchartButtonEl.disabled = true;  // To prevent multiple clicks.\n",
              "          quickchartButtonEl.classList.add('colab-df-spinner');\n",
              "          try {\n",
              "            const charts = await google.colab.kernel.invokeFunction(\n",
              "                'suggestCharts', [key], {});\n",
              "          } catch (error) {\n",
              "            console.error('Error during call to suggestCharts:', error);\n",
              "          }\n",
              "          quickchartButtonEl.classList.remove('colab-df-spinner');\n",
              "          quickchartButtonEl.classList.add('colab-df-quickchart-complete');\n",
              "        }\n",
              "        (() => {\n",
              "          let quickchartButtonEl =\n",
              "            document.querySelector('#df-2a5723e0-75dd-4218-a6cd-4ee59f5ddea1 button');\n",
              "          quickchartButtonEl.style.display =\n",
              "            google.colab.kernel.accessAllowed ? 'block' : 'none';\n",
              "        })();\n",
              "      </script>\n",
              "    </div>\n",
              "\n",
              "    </div>\n",
              "  </div>\n"
            ],
            "application/vnd.google.colaboratory.intrinsic+json": {
              "type": "dataframe",
              "variable_name": "df_copy_1",
              "summary": "{\n  \"name\": \"df_copy_1\",\n  \"rows\": 3214,\n  \"fields\": [\n    {\n      \"column\": \"calls\",\n      \"properties\": {\n        \"dtype\": \"number\",\n        \"std\": 33.23636754744347,\n        \"min\": 0.0,\n        \"max\": 244.0,\n        \"num_unique_values\": 184,\n        \"samples\": [\n          49.0,\n          124.0,\n          157.0\n        ],\n        \"semantic_type\": \"\",\n        \"description\": \"\"\n      }\n    },\n    {\n      \"column\": \"minutes\",\n      \"properties\": {\n        \"dtype\": \"number\",\n        \"std\": 234.56987217335674,\n        \"min\": 0.0,\n        \"max\": 1632.0600000000004,\n        \"num_unique_values\": 3144,\n        \"samples\": [\n          277.24999999999994,\n          565.14,\n          604.3900000000001\n        ],\n        \"semantic_type\": \"\",\n        \"description\": \"\"\n      }\n    },\n    {\n      \"column\": \"messages\",\n      \"properties\": {\n        \"dtype\": \"number\",\n        \"std\": 36.14832557358993,\n        \"min\": 0.0,\n        \"max\": 224.0,\n        \"num_unique_values\": 180,\n        \"samples\": [\n          19.0,\n          46.0,\n          157.0\n        ],\n        \"semantic_type\": \"\",\n        \"description\": \"\"\n      }\n    },\n    {\n      \"column\": \"mb_used\",\n      \"properties\": {\n        \"dtype\": \"number\",\n        \"std\": 7570.968246251082,\n        \"min\": 0.0,\n        \"max\": 49745.73000000001,\n        \"num_unique_values\": 3203,\n        \"samples\": [\n          20974.219999999998,\n          19427.620000000003,\n          15080.13\n        ],\n        \"semantic_type\": \"\",\n        \"description\": \"\"\n      }\n    },\n    {\n      \"column\": \"is_ultra\",\n      \"properties\": {\n        \"dtype\": \"number\",\n        \"std\": 0,\n        \"min\": 0,\n        \"max\": 1,\n        \"num_unique_values\": 2,\n        \"samples\": [\n          1,\n          0\n        ],\n        \"semantic_type\": \"\",\n        \"description\": \"\"\n      }\n    }\n  ]\n}"
            }
          },
          "metadata": {},
          "execution_count": 24
        }
      ],
      "source": [
        "df_copy_1 = df.copy()\n",
        "mean_minutes = df_copy_1[\"minutes\"].mean()\n",
        "df_copy_1[\"is_ultra\"] = (df_copy_1[\"minutes\"] > mean_minutes) * 1\n",
        "df_copy_1.head()"
      ]
    },
    {
      "cell_type": "code",
      "execution_count": null,
      "metadata": {
        "id": "9WkvFudKpm7b",
        "outputId": "e649cb36-d0ae-418b-beeb-cf1ff2a754e8",
        "colab": {
          "base_uri": "https://localhost:8080/"
        }
      },
      "outputs": [
        {
          "output_type": "stream",
          "name": "stdout",
          "text": [
            "Accuracy случайной модели распределния тарифов: 0.56\n"
          ]
        }
      ],
      "source": [
        "accuracy_random_1 = accuracy_score(df[\"is_ultra\"], df_copy_1[\"is_ultra\"])\n",
        "print(f\"Accuracy случайной модели распределния тарифов: {accuracy_random_1:.2f}\")"
      ]
    },
    {
      "cell_type": "markdown",
      "metadata": {
        "id": "VrmRKQ_Lpm7c"
      },
      "source": [
        "<div class=\"alert alert-info\">\n",
        "    <b>Комментарий студента </b> <br/>\n",
        "эту проверку на адекватность тоже удалять, она некорректна скорее всего. Преподаватель в пачке посоветовал немного другой путь да, я подумал что импровизация возможна)\n",
        "    \n",
        "\n",
        "</div>"
      ]
    },
    {
      "cell_type": "code",
      "execution_count": null,
      "metadata": {
        "id": "DFi2qIhOpm7c",
        "outputId": "ebc50dcb-de94-42ba-f227-7cfbb9b5d3ce",
        "colab": {
          "base_uri": "https://localhost:8080/"
        }
      },
      "outputs": [
        {
          "output_type": "stream",
          "name": "stdout",
          "text": [
            "Accuracy базовой модели, которая предсказывает всем пользователям \n",
            "  константное значение: 0.69\n"
          ]
        }
      ],
      "source": [
        "from sklearn.dummy import DummyClassifier\n",
        "from sklearn.metrics import accuracy_score\n",
        "\n",
        "# cоздаем и обучаем базовую модель\n",
        "dummy_model = DummyClassifier(strategy=\"constant\", constant=0)\n",
        "dummy_model.fit(train_features, train_target)\n",
        "\n",
        "dummy_accuracy = accuracy_score(test_target, dummy_model.predict(test_features))\n",
        "print(\n",
        "    f\"Accuracy базовой модели, которая предсказывает всем пользователям \\n\\\n",
        "  константное значение: {dummy_accuracy:.2f}\"\n",
        ")"
      ]
    },
    {
      "cell_type": "markdown",
      "metadata": {
        "id": "V90JB-PWpm7c"
      },
      "source": [
        "**Вывод:**\n",
        "  Наша модель  случайного леса случайного леса `final_model` с параметрами `max_depth=8` и `criterion=entropy`  и с `accuracy` 0.79 показывает значительно лучшее качество по сравнению со случайной моделью. Это говорит о том, что эта модель способна делать более точные предсказания, чем случайный выбор.\n",
        "\n",
        "  [назад к содержанию](#content)"
      ]
    },
    {
      "cell_type": "code",
      "source": [],
      "metadata": {
        "id": "UcNahAffkfVp"
      },
      "execution_count": null,
      "outputs": []
    }
  ],
  "metadata": {
    "ExecuteTimeLog": [
      {
        "duration": 64,
        "start_time": "2024-09-21T12:11:47.674Z"
      },
      {
        "duration": 54,
        "start_time": "2024-09-21T12:12:02.106Z"
      },
      {
        "duration": 3,
        "start_time": "2024-09-21T12:18:40.277Z"
      },
      {
        "duration": 46,
        "start_time": "2024-09-21T12:19:34.955Z"
      },
      {
        "duration": 6323,
        "start_time": "2024-09-21T12:20:30.334Z"
      },
      {
        "duration": 48,
        "start_time": "2024-09-21T12:22:09.537Z"
      },
      {
        "duration": 669,
        "start_time": "2024-09-21T12:22:15.238Z"
      },
      {
        "duration": 169,
        "start_time": "2024-09-21T12:22:15.987Z"
      },
      {
        "duration": 89,
        "start_time": "2024-09-21T12:22:18.968Z"
      },
      {
        "duration": 112,
        "start_time": "2024-09-21T12:27:52.817Z"
      },
      {
        "duration": 95,
        "start_time": "2024-09-21T12:29:13.132Z"
      },
      {
        "duration": 102,
        "start_time": "2024-09-21T12:29:22.601Z"
      },
      {
        "duration": 7,
        "start_time": "2024-09-21T12:29:27.114Z"
      },
      {
        "duration": 118,
        "start_time": "2024-09-21T12:46:47.771Z"
      },
      {
        "duration": 118,
        "start_time": "2024-09-21T12:47:57.746Z"
      },
      {
        "duration": 779,
        "start_time": "2024-09-21T12:52:15.064Z"
      },
      {
        "duration": 107,
        "start_time": "2024-09-21T12:59:17.114Z"
      },
      {
        "duration": 73,
        "start_time": "2024-09-21T13:15:52.445Z"
      },
      {
        "duration": 12,
        "start_time": "2024-09-21T13:15:57.484Z"
      },
      {
        "duration": 10,
        "start_time": "2024-09-21T13:17:11.591Z"
      },
      {
        "duration": 8,
        "start_time": "2024-09-21T13:17:15.386Z"
      },
      {
        "duration": 98,
        "start_time": "2024-09-21T13:33:52.939Z"
      },
      {
        "duration": 14,
        "start_time": "2024-09-21T13:34:01.792Z"
      },
      {
        "duration": 14,
        "start_time": "2024-09-21T13:38:26.839Z"
      },
      {
        "duration": 5,
        "start_time": "2024-09-21T13:39:37.707Z"
      },
      {
        "duration": 106,
        "start_time": "2024-09-21T13:42:53.918Z"
      },
      {
        "duration": 19,
        "start_time": "2024-09-21T13:43:18.283Z"
      },
      {
        "duration": 17,
        "start_time": "2024-09-21T13:43:20.482Z"
      },
      {
        "duration": 16,
        "start_time": "2024-09-21T13:48:48.153Z"
      },
      {
        "duration": 15,
        "start_time": "2024-09-21T13:48:52.465Z"
      },
      {
        "duration": 26,
        "start_time": "2024-09-21T13:49:04.848Z"
      },
      {
        "duration": 15,
        "start_time": "2024-09-21T13:49:06.105Z"
      },
      {
        "duration": 34,
        "start_time": "2024-09-21T13:53:33.197Z"
      },
      {
        "duration": 31,
        "start_time": "2024-09-21T13:53:44.494Z"
      },
      {
        "duration": 24,
        "start_time": "2024-09-21T13:53:58.137Z"
      },
      {
        "duration": 20,
        "start_time": "2024-09-21T13:54:13.825Z"
      },
      {
        "duration": 2811,
        "start_time": "2024-09-21T13:54:38.190Z"
      },
      {
        "duration": 1400,
        "start_time": "2024-09-21T13:54:41.003Z"
      },
      {
        "duration": 146,
        "start_time": "2024-09-21T13:54:42.405Z"
      },
      {
        "duration": 7,
        "start_time": "2024-09-21T13:54:42.553Z"
      },
      {
        "duration": 150,
        "start_time": "2024-09-21T13:54:42.561Z"
      },
      {
        "duration": 0,
        "start_time": "2024-09-21T13:54:42.712Z"
      },
      {
        "duration": 26,
        "start_time": "2024-09-21T13:54:47.125Z"
      },
      {
        "duration": 4,
        "start_time": "2024-09-21T13:55:22.772Z"
      },
      {
        "duration": 13,
        "start_time": "2024-09-21T13:55:28.674Z"
      },
      {
        "duration": 16,
        "start_time": "2024-09-21T13:55:31.794Z"
      },
      {
        "duration": 15,
        "start_time": "2024-09-21T13:56:01.844Z"
      },
      {
        "duration": 18,
        "start_time": "2024-09-21T13:56:05.024Z"
      },
      {
        "duration": 26,
        "start_time": "2024-09-21T13:56:14.018Z"
      },
      {
        "duration": 25,
        "start_time": "2024-09-21T13:56:17.487Z"
      },
      {
        "duration": 17,
        "start_time": "2024-09-21T13:56:34.465Z"
      },
      {
        "duration": 17,
        "start_time": "2024-09-21T13:56:36.511Z"
      },
      {
        "duration": 17,
        "start_time": "2024-09-21T13:56:38.573Z"
      },
      {
        "duration": 3,
        "start_time": "2024-09-21T13:57:20.297Z"
      },
      {
        "duration": 22,
        "start_time": "2024-09-21T13:58:00.112Z"
      },
      {
        "duration": 25,
        "start_time": "2024-09-21T13:58:19.065Z"
      },
      {
        "duration": 23,
        "start_time": "2024-09-21T13:58:39.103Z"
      },
      {
        "duration": 24,
        "start_time": "2024-09-21T14:02:09.484Z"
      },
      {
        "duration": 24,
        "start_time": "2024-09-21T14:02:11.281Z"
      },
      {
        "duration": 27,
        "start_time": "2024-09-21T14:08:01.567Z"
      },
      {
        "duration": 27,
        "start_time": "2024-09-21T14:08:04.351Z"
      },
      {
        "duration": 27,
        "start_time": "2024-09-21T14:08:29.816Z"
      },
      {
        "duration": 26,
        "start_time": "2024-09-21T14:08:34.924Z"
      },
      {
        "duration": 2521,
        "start_time": "2024-09-21T14:08:46.973Z"
      },
      {
        "duration": 1324,
        "start_time": "2024-09-21T14:08:49.496Z"
      },
      {
        "duration": 100,
        "start_time": "2024-09-21T14:08:50.822Z"
      },
      {
        "duration": 7,
        "start_time": "2024-09-21T14:08:50.923Z"
      },
      {
        "duration": 134,
        "start_time": "2024-09-21T14:08:50.932Z"
      },
      {
        "duration": 0,
        "start_time": "2024-09-21T14:08:51.067Z"
      },
      {
        "duration": 424,
        "start_time": "2024-09-21T14:09:19.028Z"
      },
      {
        "duration": 391,
        "start_time": "2024-09-21T14:09:21.942Z"
      },
      {
        "duration": 54,
        "start_time": "2024-09-21T14:10:07.195Z"
      },
      {
        "duration": 78,
        "start_time": "2024-09-21T14:10:10.580Z"
      },
      {
        "duration": 7,
        "start_time": "2024-09-21T14:10:18.762Z"
      },
      {
        "duration": 11,
        "start_time": "2024-09-21T14:10:36.522Z"
      },
      {
        "duration": 17,
        "start_time": "2024-09-21T14:11:22.751Z"
      },
      {
        "duration": 16,
        "start_time": "2024-09-21T14:11:25.525Z"
      },
      {
        "duration": 23,
        "start_time": "2024-09-21T14:11:26.174Z"
      },
      {
        "duration": 9,
        "start_time": "2024-09-21T14:12:02.144Z"
      },
      {
        "duration": 106,
        "start_time": "2024-09-21T14:16:58.895Z"
      },
      {
        "duration": 3,
        "start_time": "2024-09-21T14:17:29.864Z"
      },
      {
        "duration": 16,
        "start_time": "2024-09-21T14:24:42.943Z"
      },
      {
        "duration": 32,
        "start_time": "2024-09-21T14:24:51.253Z"
      },
      {
        "duration": 33,
        "start_time": "2024-09-21T14:26:54.431Z"
      },
      {
        "duration": 15,
        "start_time": "2024-09-21T14:27:37.981Z"
      },
      {
        "duration": 15,
        "start_time": "2024-09-21T14:27:45.653Z"
      },
      {
        "duration": 14,
        "start_time": "2024-09-21T14:34:26.933Z"
      },
      {
        "duration": 13,
        "start_time": "2024-09-21T14:34:29.305Z"
      },
      {
        "duration": 14,
        "start_time": "2024-09-21T14:34:39.161Z"
      },
      {
        "duration": 9,
        "start_time": "2024-09-21T14:35:21.350Z"
      },
      {
        "duration": 101,
        "start_time": "2024-09-21T14:35:23.664Z"
      },
      {
        "duration": 9,
        "start_time": "2024-09-21T14:35:24.703Z"
      },
      {
        "duration": 19,
        "start_time": "2024-09-21T14:35:27.691Z"
      },
      {
        "duration": 23,
        "start_time": "2024-09-21T14:35:28.294Z"
      },
      {
        "duration": 25,
        "start_time": "2024-09-21T14:35:30.401Z"
      },
      {
        "duration": 7,
        "start_time": "2024-09-21T14:35:30.990Z"
      },
      {
        "duration": 8,
        "start_time": "2024-09-21T14:35:39.988Z"
      },
      {
        "duration": 30,
        "start_time": "2024-09-21T14:47:25.099Z"
      },
      {
        "duration": 15,
        "start_time": "2024-09-21T14:52:33.645Z"
      },
      {
        "duration": 28,
        "start_time": "2024-09-21T14:52:38.435Z"
      },
      {
        "duration": 16,
        "start_time": "2024-09-21T14:52:40.691Z"
      },
      {
        "duration": 10,
        "start_time": "2024-09-21T14:53:00.157Z"
      },
      {
        "duration": 17,
        "start_time": "2024-09-21T15:17:55.443Z"
      },
      {
        "duration": 8,
        "start_time": "2024-09-21T15:18:09.487Z"
      },
      {
        "duration": 8,
        "start_time": "2024-09-21T15:18:12.956Z"
      },
      {
        "duration": 9,
        "start_time": "2024-09-21T15:18:17.734Z"
      },
      {
        "duration": 19,
        "start_time": "2024-09-21T15:23:00.876Z"
      },
      {
        "duration": 18,
        "start_time": "2024-09-21T15:23:03.628Z"
      },
      {
        "duration": 38,
        "start_time": "2024-09-21T15:23:13.698Z"
      },
      {
        "duration": 107,
        "start_time": "2024-09-21T15:29:26.262Z"
      },
      {
        "duration": 8,
        "start_time": "2024-09-21T15:46:35.039Z"
      },
      {
        "duration": 8,
        "start_time": "2024-09-21T15:46:38.745Z"
      },
      {
        "duration": 8,
        "start_time": "2024-09-21T15:47:56.373Z"
      },
      {
        "duration": 9,
        "start_time": "2024-09-21T15:48:00.226Z"
      },
      {
        "duration": 8,
        "start_time": "2024-09-21T15:49:32.644Z"
      },
      {
        "duration": 8,
        "start_time": "2024-09-21T15:49:35.369Z"
      },
      {
        "duration": 2558,
        "start_time": "2024-09-21T15:49:42.241Z"
      },
      {
        "duration": 1294,
        "start_time": "2024-09-21T15:49:44.801Z"
      },
      {
        "duration": 558,
        "start_time": "2024-09-21T15:49:46.097Z"
      },
      {
        "duration": 10,
        "start_time": "2024-09-21T15:49:46.656Z"
      },
      {
        "duration": 21,
        "start_time": "2024-09-21T15:49:46.667Z"
      },
      {
        "duration": 46,
        "start_time": "2024-09-21T15:49:46.689Z"
      },
      {
        "duration": 24,
        "start_time": "2024-09-21T15:49:46.737Z"
      },
      {
        "duration": 9,
        "start_time": "2024-09-21T15:49:46.763Z"
      },
      {
        "duration": 74,
        "start_time": "2024-09-21T15:49:46.773Z"
      },
      {
        "duration": 9,
        "start_time": "2024-09-21T15:49:46.850Z"
      },
      {
        "duration": 10,
        "start_time": "2024-09-21T15:51:00.178Z"
      },
      {
        "duration": 9,
        "start_time": "2024-09-21T15:51:02.993Z"
      },
      {
        "duration": 8,
        "start_time": "2024-09-21T15:51:07.119Z"
      },
      {
        "duration": 9,
        "start_time": "2024-09-21T15:51:12.481Z"
      },
      {
        "duration": 9,
        "start_time": "2024-09-21T15:51:38.718Z"
      },
      {
        "duration": 9,
        "start_time": "2024-09-21T15:52:03.342Z"
      },
      {
        "duration": 10,
        "start_time": "2024-09-21T15:52:07.394Z"
      },
      {
        "duration": 9,
        "start_time": "2024-09-21T15:52:16.608Z"
      },
      {
        "duration": 8,
        "start_time": "2024-09-21T15:52:19.476Z"
      },
      {
        "duration": 14,
        "start_time": "2024-09-21T15:53:59.032Z"
      },
      {
        "duration": 15,
        "start_time": "2024-09-21T15:54:09.671Z"
      },
      {
        "duration": 37,
        "start_time": "2024-09-21T15:54:57.150Z"
      },
      {
        "duration": 2566,
        "start_time": "2024-09-21T15:55:08.159Z"
      },
      {
        "duration": 1289,
        "start_time": "2024-09-21T15:55:10.727Z"
      },
      {
        "duration": 93,
        "start_time": "2024-09-21T15:55:12.018Z"
      },
      {
        "duration": 9,
        "start_time": "2024-09-21T15:55:12.112Z"
      },
      {
        "duration": 18,
        "start_time": "2024-09-21T15:55:12.123Z"
      },
      {
        "duration": 22,
        "start_time": "2024-09-21T15:55:12.143Z"
      },
      {
        "duration": 65,
        "start_time": "2024-09-21T15:55:12.167Z"
      },
      {
        "duration": 9,
        "start_time": "2024-09-21T15:55:12.234Z"
      },
      {
        "duration": 39,
        "start_time": "2024-09-21T15:55:12.245Z"
      },
      {
        "duration": 42,
        "start_time": "2024-09-21T15:55:12.286Z"
      },
      {
        "duration": 17,
        "start_time": "2024-09-21T15:55:36.700Z"
      },
      {
        "duration": 18,
        "start_time": "2024-09-21T15:55:40.032Z"
      },
      {
        "duration": 19,
        "start_time": "2024-09-21T15:56:10.898Z"
      },
      {
        "duration": 19,
        "start_time": "2024-09-21T15:56:13.846Z"
      },
      {
        "duration": 17,
        "start_time": "2024-09-21T15:57:17.738Z"
      },
      {
        "duration": 112,
        "start_time": "2024-09-21T16:03:18.671Z"
      },
      {
        "duration": 25,
        "start_time": "2024-09-21T16:03:41.524Z"
      },
      {
        "duration": 27,
        "start_time": "2024-09-21T16:04:19.345Z"
      },
      {
        "duration": 20,
        "start_time": "2024-09-21T16:04:22.023Z"
      },
      {
        "duration": 49,
        "start_time": "2024-09-21T16:05:57.631Z"
      },
      {
        "duration": 18,
        "start_time": "2024-09-21T16:06:02.144Z"
      },
      {
        "duration": 4,
        "start_time": "2024-09-21T16:06:37.290Z"
      },
      {
        "duration": 19,
        "start_time": "2024-09-21T16:08:02.435Z"
      },
      {
        "duration": 23,
        "start_time": "2024-09-21T16:11:26.103Z"
      },
      {
        "duration": 19,
        "start_time": "2024-09-21T16:11:30.251Z"
      },
      {
        "duration": 29,
        "start_time": "2024-09-21T16:11:38.798Z"
      },
      {
        "duration": 279,
        "start_time": "2024-09-21T16:12:01.753Z"
      },
      {
        "duration": 2686,
        "start_time": "2024-09-21T16:27:37.546Z"
      },
      {
        "duration": 1315,
        "start_time": "2024-09-21T16:27:40.234Z"
      },
      {
        "duration": 121,
        "start_time": "2024-09-21T16:27:41.551Z"
      },
      {
        "duration": 9,
        "start_time": "2024-09-21T16:27:41.673Z"
      },
      {
        "duration": 21,
        "start_time": "2024-09-21T16:27:41.684Z"
      },
      {
        "duration": 36,
        "start_time": "2024-09-21T16:27:41.706Z"
      },
      {
        "duration": 24,
        "start_time": "2024-09-21T16:27:41.744Z"
      },
      {
        "duration": 48,
        "start_time": "2024-09-21T16:27:41.770Z"
      },
      {
        "duration": 42,
        "start_time": "2024-09-21T16:27:41.820Z"
      },
      {
        "duration": 17,
        "start_time": "2024-09-21T16:27:41.863Z"
      },
      {
        "duration": 143,
        "start_time": "2024-09-21T16:27:41.882Z"
      },
      {
        "duration": 188,
        "start_time": "2024-09-21T16:27:48.699Z"
      },
      {
        "duration": 115,
        "start_time": "2024-09-21T16:30:15.419Z"
      },
      {
        "duration": 822,
        "start_time": "2024-09-21T16:30:52.241Z"
      },
      {
        "duration": 849,
        "start_time": "2024-09-21T16:30:56.461Z"
      },
      {
        "duration": 70,
        "start_time": "2024-09-22T13:44:02.212Z"
      },
      {
        "duration": 5760,
        "start_time": "2024-09-22T13:44:14.372Z"
      },
      {
        "duration": 1466,
        "start_time": "2024-09-22T13:44:20.135Z"
      },
      {
        "duration": 143,
        "start_time": "2024-09-22T13:44:21.603Z"
      },
      {
        "duration": 11,
        "start_time": "2024-09-22T13:44:21.748Z"
      },
      {
        "duration": 24,
        "start_time": "2024-09-22T13:44:21.761Z"
      },
      {
        "duration": 60,
        "start_time": "2024-09-22T13:44:21.787Z"
      },
      {
        "duration": 28,
        "start_time": "2024-09-22T13:44:21.849Z"
      },
      {
        "duration": 49,
        "start_time": "2024-09-22T13:44:21.880Z"
      },
      {
        "duration": 49,
        "start_time": "2024-09-22T13:44:21.933Z"
      },
      {
        "duration": 46,
        "start_time": "2024-09-22T13:44:21.984Z"
      },
      {
        "duration": 882,
        "start_time": "2024-09-22T13:44:22.031Z"
      },
      {
        "duration": 18,
        "start_time": "2024-09-22T13:50:55.468Z"
      },
      {
        "duration": 19,
        "start_time": "2024-09-22T13:51:02.586Z"
      },
      {
        "duration": 17,
        "start_time": "2024-09-22T13:51:07.374Z"
      },
      {
        "duration": 20,
        "start_time": "2024-09-22T13:51:11.245Z"
      },
      {
        "duration": 120,
        "start_time": "2024-09-22T13:51:53.138Z"
      },
      {
        "duration": 126,
        "start_time": "2024-09-22T13:51:58.481Z"
      },
      {
        "duration": 140,
        "start_time": "2024-09-22T13:56:54.948Z"
      },
      {
        "duration": 790,
        "start_time": "2024-09-22T14:00:35.472Z"
      },
      {
        "duration": 3,
        "start_time": "2024-09-22T14:01:22.952Z"
      },
      {
        "duration": 14,
        "start_time": "2024-09-22T14:03:17.896Z"
      },
      {
        "duration": 4,
        "start_time": "2024-09-22T14:18:40.283Z"
      },
      {
        "duration": 129,
        "start_time": "2024-09-22T14:18:48.513Z"
      },
      {
        "duration": 17,
        "start_time": "2024-09-22T14:18:52.035Z"
      },
      {
        "duration": 42,
        "start_time": "2024-09-22T14:20:10.709Z"
      },
      {
        "duration": 2947,
        "start_time": "2024-09-22T14:20:28.688Z"
      },
      {
        "duration": 1455,
        "start_time": "2024-09-22T14:20:31.638Z"
      },
      {
        "duration": 170,
        "start_time": "2024-09-22T14:20:33.095Z"
      },
      {
        "duration": 20,
        "start_time": "2024-09-22T14:20:33.267Z"
      },
      {
        "duration": 38,
        "start_time": "2024-09-22T14:20:33.291Z"
      },
      {
        "duration": 39,
        "start_time": "2024-09-22T14:20:33.332Z"
      },
      {
        "duration": 29,
        "start_time": "2024-09-22T14:20:33.372Z"
      },
      {
        "duration": 35,
        "start_time": "2024-09-22T14:20:33.403Z"
      },
      {
        "duration": 44,
        "start_time": "2024-09-22T14:20:33.440Z"
      },
      {
        "duration": 42,
        "start_time": "2024-09-22T14:20:33.486Z"
      },
      {
        "duration": 863,
        "start_time": "2024-09-22T14:20:33.533Z"
      },
      {
        "duration": 158,
        "start_time": "2024-09-22T14:20:34.398Z"
      },
      {
        "duration": 37,
        "start_time": "2024-09-22T14:20:59.331Z"
      },
      {
        "duration": 34,
        "start_time": "2024-09-22T14:21:01.184Z"
      },
      {
        "duration": 34,
        "start_time": "2024-09-22T14:21:55.007Z"
      },
      {
        "duration": 42,
        "start_time": "2024-09-22T14:22:01.926Z"
      },
      {
        "duration": 7,
        "start_time": "2024-09-22T14:23:26.060Z"
      },
      {
        "duration": 8,
        "start_time": "2024-09-22T14:23:28.273Z"
      },
      {
        "duration": 8,
        "start_time": "2024-09-22T14:23:57.455Z"
      },
      {
        "duration": 23,
        "start_time": "2024-09-22T14:29:17.644Z"
      },
      {
        "duration": 28,
        "start_time": "2024-09-22T14:29:21.412Z"
      },
      {
        "duration": 24,
        "start_time": "2024-09-22T14:29:46.444Z"
      },
      {
        "duration": 24,
        "start_time": "2024-09-22T14:29:52.870Z"
      },
      {
        "duration": 25,
        "start_time": "2024-09-22T14:39:41.555Z"
      },
      {
        "duration": 127,
        "start_time": "2024-09-22T14:40:01.562Z"
      },
      {
        "duration": 118,
        "start_time": "2024-09-22T14:40:06.274Z"
      },
      {
        "duration": 138,
        "start_time": "2024-09-22T14:45:39.606Z"
      },
      {
        "duration": 27,
        "start_time": "2024-09-22T14:46:36.756Z"
      },
      {
        "duration": 56,
        "start_time": "2024-09-22T18:14:29.248Z"
      },
      {
        "duration": 47,
        "start_time": "2024-09-22T18:17:41.766Z"
      },
      {
        "duration": 5518,
        "start_time": "2024-09-22T18:17:47.123Z"
      },
      {
        "duration": 1400,
        "start_time": "2024-09-22T18:17:52.644Z"
      },
      {
        "duration": 113,
        "start_time": "2024-09-22T18:17:54.045Z"
      },
      {
        "duration": 10,
        "start_time": "2024-09-22T18:17:54.159Z"
      },
      {
        "duration": 22,
        "start_time": "2024-09-22T18:17:54.171Z"
      },
      {
        "duration": 24,
        "start_time": "2024-09-22T18:17:54.195Z"
      },
      {
        "duration": 26,
        "start_time": "2024-09-22T18:17:54.220Z"
      },
      {
        "duration": 10,
        "start_time": "2024-09-22T18:17:54.277Z"
      },
      {
        "duration": 125,
        "start_time": "2024-09-22T18:17:54.288Z"
      },
      {
        "duration": 18,
        "start_time": "2024-09-22T18:17:54.415Z"
      },
      {
        "duration": 829,
        "start_time": "2024-09-22T18:17:54.434Z"
      },
      {
        "duration": 32,
        "start_time": "2024-09-22T18:17:55.265Z"
      },
      {
        "duration": 26,
        "start_time": "2024-09-22T18:17:55.298Z"
      },
      {
        "duration": 40,
        "start_time": "2024-09-22T18:18:42.458Z"
      },
      {
        "duration": 109,
        "start_time": "2024-09-22T18:27:47.545Z"
      },
      {
        "duration": 78,
        "start_time": "2024-09-22T18:36:13.812Z"
      },
      {
        "duration": 116,
        "start_time": "2024-09-22T18:39:59.682Z"
      },
      {
        "duration": 14,
        "start_time": "2024-09-22T18:40:13.032Z"
      },
      {
        "duration": 16,
        "start_time": "2024-09-22T18:41:13.941Z"
      },
      {
        "duration": 16,
        "start_time": "2024-09-22T18:43:28.541Z"
      },
      {
        "duration": 111,
        "start_time": "2024-09-22T18:45:00.405Z"
      },
      {
        "duration": 111,
        "start_time": "2024-09-22T18:45:02.752Z"
      },
      {
        "duration": 20,
        "start_time": "2024-09-22T18:52:39.734Z"
      },
      {
        "duration": 5,
        "start_time": "2024-09-22T18:56:12.909Z"
      },
      {
        "duration": 9,
        "start_time": "2024-09-22T18:56:39.980Z"
      },
      {
        "duration": 9,
        "start_time": "2024-09-22T18:56:41.918Z"
      },
      {
        "duration": 8,
        "start_time": "2024-09-22T18:59:09.763Z"
      },
      {
        "duration": 6,
        "start_time": "2024-09-22T18:59:19.375Z"
      },
      {
        "duration": 7,
        "start_time": "2024-09-22T18:59:59.785Z"
      },
      {
        "duration": 6,
        "start_time": "2024-09-22T19:00:02.611Z"
      },
      {
        "duration": 15,
        "start_time": "2024-09-22T19:10:16.527Z"
      },
      {
        "duration": 14,
        "start_time": "2024-09-22T19:10:37.531Z"
      },
      {
        "duration": 18,
        "start_time": "2024-09-22T19:10:42.104Z"
      },
      {
        "duration": 15,
        "start_time": "2024-09-22T19:10:48.002Z"
      },
      {
        "duration": 6,
        "start_time": "2024-09-22T19:10:49.866Z"
      },
      {
        "duration": 14,
        "start_time": "2024-09-22T19:10:55.116Z"
      },
      {
        "duration": 15,
        "start_time": "2024-09-22T19:11:55.069Z"
      },
      {
        "duration": 15,
        "start_time": "2024-09-22T19:11:59.258Z"
      },
      {
        "duration": 13,
        "start_time": "2024-09-22T19:15:56.924Z"
      },
      {
        "duration": 11,
        "start_time": "2024-09-22T19:15:59.924Z"
      },
      {
        "duration": 11,
        "start_time": "2024-09-22T19:18:23.591Z"
      },
      {
        "duration": 12,
        "start_time": "2024-09-22T19:18:45.047Z"
      },
      {
        "duration": 101,
        "start_time": "2024-09-22T19:18:46.696Z"
      },
      {
        "duration": 116,
        "start_time": "2024-09-22T19:28:33.789Z"
      },
      {
        "duration": 106,
        "start_time": "2024-09-22T19:28:36.029Z"
      },
      {
        "duration": 12,
        "start_time": "2024-09-22T19:29:24.046Z"
      },
      {
        "duration": 101,
        "start_time": "2024-09-22T19:33:57.350Z"
      },
      {
        "duration": 102,
        "start_time": "2024-09-22T19:34:12.841Z"
      },
      {
        "duration": 107,
        "start_time": "2024-09-22T19:34:17.778Z"
      },
      {
        "duration": 99,
        "start_time": "2024-09-22T19:34:30.675Z"
      },
      {
        "duration": 150,
        "start_time": "2024-09-22T19:34:34.706Z"
      },
      {
        "duration": 106,
        "start_time": "2024-09-22T19:34:44.850Z"
      },
      {
        "duration": 314,
        "start_time": "2024-09-22T19:35:58.555Z"
      },
      {
        "duration": 305,
        "start_time": "2024-09-22T19:36:01.931Z"
      },
      {
        "duration": 8,
        "start_time": "2024-09-22T19:36:44.641Z"
      },
      {
        "duration": 114,
        "start_time": "2024-09-22T19:40:07.588Z"
      },
      {
        "duration": 9,
        "start_time": "2024-09-22T19:41:15.142Z"
      },
      {
        "duration": 9,
        "start_time": "2024-09-22T19:45:21.608Z"
      },
      {
        "duration": 109,
        "start_time": "2024-09-22T19:45:26.217Z"
      },
      {
        "duration": 115,
        "start_time": "2024-09-22T19:47:19.394Z"
      },
      {
        "duration": 5599,
        "start_time": "2024-09-23T09:57:51.194Z"
      },
      {
        "duration": 1397,
        "start_time": "2024-09-23T09:57:56.796Z"
      },
      {
        "duration": 141,
        "start_time": "2024-09-23T09:57:58.195Z"
      },
      {
        "duration": 10,
        "start_time": "2024-09-23T09:57:58.339Z"
      },
      {
        "duration": 42,
        "start_time": "2024-09-23T09:57:58.351Z"
      },
      {
        "duration": 31,
        "start_time": "2024-09-23T09:57:58.395Z"
      },
      {
        "duration": 114,
        "start_time": "2024-09-23T09:58:41.502Z"
      },
      {
        "duration": 26,
        "start_time": "2024-09-23T09:58:45.192Z"
      },
      {
        "duration": 10,
        "start_time": "2024-09-23T09:58:45.724Z"
      },
      {
        "duration": 72,
        "start_time": "2024-09-23T09:58:47.020Z"
      },
      {
        "duration": 80,
        "start_time": "2024-09-23T09:58:54.448Z"
      },
      {
        "duration": 17,
        "start_time": "2024-09-23T09:59:10.047Z"
      },
      {
        "duration": 20,
        "start_time": "2024-09-23T10:00:17.784Z"
      },
      {
        "duration": 113,
        "start_time": "2024-09-23T10:10:46.151Z"
      },
      {
        "duration": 126,
        "start_time": "2024-09-23T10:11:09.925Z"
      },
      {
        "duration": 111,
        "start_time": "2024-09-23T10:11:43.280Z"
      },
      {
        "duration": 114,
        "start_time": "2024-09-23T10:11:56.713Z"
      },
      {
        "duration": 122,
        "start_time": "2024-09-23T10:24:47.276Z"
      },
      {
        "duration": 90,
        "start_time": "2024-09-23T10:24:49.494Z"
      },
      {
        "duration": 86,
        "start_time": "2024-09-23T10:24:59.916Z"
      },
      {
        "duration": 787,
        "start_time": "2024-09-23T10:25:21.555Z"
      },
      {
        "duration": 87,
        "start_time": "2024-09-23T10:29:45.068Z"
      },
      {
        "duration": 86,
        "start_time": "2024-09-23T10:29:47.371Z"
      },
      {
        "duration": 16,
        "start_time": "2024-09-23T10:36:51.790Z"
      },
      {
        "duration": 14,
        "start_time": "2024-09-23T10:38:31.774Z"
      },
      {
        "duration": 13,
        "start_time": "2024-09-23T10:38:38.095Z"
      },
      {
        "duration": 795,
        "start_time": "2024-09-23T10:48:49.729Z"
      },
      {
        "duration": 110,
        "start_time": "2024-09-23T10:52:17.446Z"
      },
      {
        "duration": 15,
        "start_time": "2024-09-23T10:54:34.871Z"
      },
      {
        "duration": 12,
        "start_time": "2024-09-23T10:54:36.384Z"
      },
      {
        "duration": 361,
        "start_time": "2024-09-23T10:54:41.298Z"
      },
      {
        "duration": 8,
        "start_time": "2024-09-23T10:54:41.998Z"
      },
      {
        "duration": 12,
        "start_time": "2024-09-23T10:55:26.200Z"
      },
      {
        "duration": 21,
        "start_time": "2024-09-23T10:55:31.844Z"
      },
      {
        "duration": 22,
        "start_time": "2024-09-23T10:55:32.195Z"
      },
      {
        "duration": 10,
        "start_time": "2024-09-23T10:57:01.006Z"
      },
      {
        "duration": 12,
        "start_time": "2024-09-23T10:57:03.269Z"
      },
      {
        "duration": 11,
        "start_time": "2024-09-23T11:00:45.467Z"
      },
      {
        "duration": 80,
        "start_time": "2024-09-23T11:06:36.906Z"
      },
      {
        "duration": 10,
        "start_time": "2024-09-23T11:10:46.277Z"
      }
    ],
    "kernelspec": {
      "display_name": "Python 3 (ipykernel)",
      "language": "python",
      "name": "python3"
    },
    "language_info": {
      "codemirror_mode": {
        "name": "ipython",
        "version": 3
      },
      "file_extension": ".py",
      "mimetype": "text/x-python",
      "name": "python",
      "nbconvert_exporter": "python",
      "pygments_lexer": "ipython3",
      "version": "3.9.5"
    },
    "toc": {
      "base_numbering": 1,
      "nav_menu": {},
      "number_sections": true,
      "sideBar": true,
      "skip_h1_title": true,
      "title_cell": "Table of Contents",
      "title_sidebar": "Contents",
      "toc_cell": false,
      "toc_position": {
        "height": "calc(100% - 180px)",
        "left": "10px",
        "top": "150px",
        "width": "355.556px"
      },
      "toc_section_display": true,
      "toc_window_display": false
    },
    "colab": {
      "provenance": [],
      "toc_visible": true
    }
  },
  "nbformat": 4,
  "nbformat_minor": 0
}